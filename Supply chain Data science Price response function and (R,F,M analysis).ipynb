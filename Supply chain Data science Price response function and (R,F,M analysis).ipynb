{
 "cells": [
  {
   "cell_type": "code",
   "execution_count": 4,
   "id": "8f7f51a0",
   "metadata": {},
   "outputs": [
    {
     "data": {
      "application/javascript": [
       "\n",
       "        if (window._pyforest_update_imports_cell) { window._pyforest_update_imports_cell('import pandas as pd'); }\n",
       "    "
      ],
      "text/plain": [
       "<IPython.core.display.Javascript object>"
      ]
     },
     "metadata": {},
     "output_type": "display_data"
    },
    {
     "data": {
      "text/html": [
       "<div>\n",
       "<style scoped>\n",
       "    .dataframe tbody tr th:only-of-type {\n",
       "        vertical-align: middle;\n",
       "    }\n",
       "\n",
       "    .dataframe tbody tr th {\n",
       "        vertical-align: top;\n",
       "    }\n",
       "\n",
       "    .dataframe thead th {\n",
       "        text-align: right;\n",
       "    }\n",
       "</style>\n",
       "<table border=\"1\" class=\"dataframe\">\n",
       "  <thead>\n",
       "    <tr style=\"text-align: right;\">\n",
       "      <th></th>\n",
       "      <th>Unnamed: 0</th>\n",
       "      <th>Invoice</th>\n",
       "      <th>StockCode</th>\n",
       "      <th>Description</th>\n",
       "      <th>Quantity</th>\n",
       "      <th>InvoiceDate</th>\n",
       "      <th>Price</th>\n",
       "      <th>Customer ID</th>\n",
       "      <th>Country</th>\n",
       "      <th>Revenue</th>\n",
       "    </tr>\n",
       "  </thead>\n",
       "  <tbody>\n",
       "    <tr>\n",
       "      <th>0</th>\n",
       "      <td>0</td>\n",
       "      <td>489434</td>\n",
       "      <td>85048</td>\n",
       "      <td>15CM CHRISTMAS GLASS BALL 20 LIGHTS</td>\n",
       "      <td>12</td>\n",
       "      <td>2009-12-01 07:45:00</td>\n",
       "      <td>6.95</td>\n",
       "      <td>13085.0</td>\n",
       "      <td>United Kingdom</td>\n",
       "      <td>83.4</td>\n",
       "    </tr>\n",
       "    <tr>\n",
       "      <th>1</th>\n",
       "      <td>1</td>\n",
       "      <td>489434</td>\n",
       "      <td>79323P</td>\n",
       "      <td>PINK CHERRY LIGHTS</td>\n",
       "      <td>12</td>\n",
       "      <td>2009-12-01 07:45:00</td>\n",
       "      <td>6.75</td>\n",
       "      <td>13085.0</td>\n",
       "      <td>United Kingdom</td>\n",
       "      <td>81.0</td>\n",
       "    </tr>\n",
       "    <tr>\n",
       "      <th>2</th>\n",
       "      <td>2</td>\n",
       "      <td>489434</td>\n",
       "      <td>79323W</td>\n",
       "      <td>WHITE CHERRY LIGHTS</td>\n",
       "      <td>12</td>\n",
       "      <td>2009-12-01 07:45:00</td>\n",
       "      <td>6.75</td>\n",
       "      <td>13085.0</td>\n",
       "      <td>United Kingdom</td>\n",
       "      <td>81.0</td>\n",
       "    </tr>\n",
       "    <tr>\n",
       "      <th>3</th>\n",
       "      <td>3</td>\n",
       "      <td>489434</td>\n",
       "      <td>22041</td>\n",
       "      <td>RECORD FRAME 7\" SINGLE SIZE</td>\n",
       "      <td>48</td>\n",
       "      <td>2009-12-01 07:45:00</td>\n",
       "      <td>2.10</td>\n",
       "      <td>13085.0</td>\n",
       "      <td>United Kingdom</td>\n",
       "      <td>100.8</td>\n",
       "    </tr>\n",
       "    <tr>\n",
       "      <th>4</th>\n",
       "      <td>4</td>\n",
       "      <td>489434</td>\n",
       "      <td>21232</td>\n",
       "      <td>STRAWBERRY CERAMIC TRINKET BOX</td>\n",
       "      <td>24</td>\n",
       "      <td>2009-12-01 07:45:00</td>\n",
       "      <td>1.25</td>\n",
       "      <td>13085.0</td>\n",
       "      <td>United Kingdom</td>\n",
       "      <td>30.0</td>\n",
       "    </tr>\n",
       "  </tbody>\n",
       "</table>\n",
       "</div>"
      ],
      "text/plain": [
       "   Unnamed: 0  Invoice StockCode                          Description  \\\n",
       "0           0   489434     85048  15CM CHRISTMAS GLASS BALL 20 LIGHTS   \n",
       "1           1   489434    79323P                   PINK CHERRY LIGHTS   \n",
       "2           2   489434    79323W                  WHITE CHERRY LIGHTS   \n",
       "3           3   489434     22041         RECORD FRAME 7\" SINGLE SIZE    \n",
       "4           4   489434     21232       STRAWBERRY CERAMIC TRINKET BOX   \n",
       "\n",
       "   Quantity          InvoiceDate  Price  Customer ID         Country  Revenue  \n",
       "0        12  2009-12-01 07:45:00   6.95      13085.0  United Kingdom     83.4  \n",
       "1        12  2009-12-01 07:45:00   6.75      13085.0  United Kingdom     81.0  \n",
       "2        12  2009-12-01 07:45:00   6.75      13085.0  United Kingdom     81.0  \n",
       "3        48  2009-12-01 07:45:00   2.10      13085.0  United Kingdom    100.8  \n",
       "4        24  2009-12-01 07:45:00   1.25      13085.0  United Kingdom     30.0  "
      ]
     },
     "execution_count": 4,
     "metadata": {},
     "output_type": "execute_result"
    }
   ],
   "source": [
    "Retail=pd.read_csv('C:\\\\documents\\\\study material\\\\data science\\\\supply chain\\\\Udemy - RA Data Science and Supply Chain analytics. A-Z with Python 2020-9\\\\10. Forecasting Basics\\\\14.2 retail_clean.csv',parse_dates=True)\n",
    "\n",
    "Retail.head()"
   ]
  },
  {
   "cell_type": "code",
   "execution_count": 5,
   "id": "2e7f2bc5",
   "metadata": {},
   "outputs": [
    {
     "data": {
      "text/html": [
       "<div>\n",
       "<style scoped>\n",
       "    .dataframe tbody tr th:only-of-type {\n",
       "        vertical-align: middle;\n",
       "    }\n",
       "\n",
       "    .dataframe tbody tr th {\n",
       "        vertical-align: top;\n",
       "    }\n",
       "\n",
       "    .dataframe thead th {\n",
       "        text-align: right;\n",
       "    }\n",
       "</style>\n",
       "<table border=\"1\" class=\"dataframe\">\n",
       "  <thead>\n",
       "    <tr style=\"text-align: right;\">\n",
       "      <th></th>\n",
       "      <th>Unnamed: 0</th>\n",
       "      <th>Invoice</th>\n",
       "      <th>Quantity</th>\n",
       "      <th>Price</th>\n",
       "      <th>Customer ID</th>\n",
       "      <th>Revenue</th>\n",
       "    </tr>\n",
       "  </thead>\n",
       "  <tbody>\n",
       "    <tr>\n",
       "      <th>count</th>\n",
       "      <td>7.794950e+05</td>\n",
       "      <td>779495.000000</td>\n",
       "      <td>779495.000000</td>\n",
       "      <td>779495.000000</td>\n",
       "      <td>779495.000000</td>\n",
       "      <td>779495.000000</td>\n",
       "    </tr>\n",
       "    <tr>\n",
       "      <th>mean</th>\n",
       "      <td>5.315660e+05</td>\n",
       "      <td>537427.005391</td>\n",
       "      <td>13.507085</td>\n",
       "      <td>3.218199</td>\n",
       "      <td>15320.262918</td>\n",
       "      <td>22.289821</td>\n",
       "    </tr>\n",
       "    <tr>\n",
       "      <th>std</th>\n",
       "      <td>3.110433e+05</td>\n",
       "      <td>26901.961110</td>\n",
       "      <td>146.540284</td>\n",
       "      <td>29.674823</td>\n",
       "      <td>1695.722988</td>\n",
       "      <td>227.416962</td>\n",
       "    </tr>\n",
       "    <tr>\n",
       "      <th>min</th>\n",
       "      <td>0.000000e+00</td>\n",
       "      <td>489434.000000</td>\n",
       "      <td>1.000000</td>\n",
       "      <td>0.000000</td>\n",
       "      <td>12346.000000</td>\n",
       "      <td>0.000000</td>\n",
       "    </tr>\n",
       "    <tr>\n",
       "      <th>25%</th>\n",
       "      <td>2.598405e+05</td>\n",
       "      <td>514483.000000</td>\n",
       "      <td>2.000000</td>\n",
       "      <td>1.250000</td>\n",
       "      <td>13971.000000</td>\n",
       "      <td>4.950000</td>\n",
       "    </tr>\n",
       "    <tr>\n",
       "      <th>50%</th>\n",
       "      <td>5.071680e+05</td>\n",
       "      <td>536754.000000</td>\n",
       "      <td>6.000000</td>\n",
       "      <td>1.950000</td>\n",
       "      <td>15246.000000</td>\n",
       "      <td>12.480000</td>\n",
       "    </tr>\n",
       "    <tr>\n",
       "      <th>75%</th>\n",
       "      <td>8.114895e+05</td>\n",
       "      <td>562002.000000</td>\n",
       "      <td>12.000000</td>\n",
       "      <td>3.750000</td>\n",
       "      <td>16794.000000</td>\n",
       "      <td>19.800000</td>\n",
       "    </tr>\n",
       "    <tr>\n",
       "      <th>max</th>\n",
       "      <td>1.067370e+06</td>\n",
       "      <td>581587.000000</td>\n",
       "      <td>80995.000000</td>\n",
       "      <td>10953.500000</td>\n",
       "      <td>18287.000000</td>\n",
       "      <td>168469.600000</td>\n",
       "    </tr>\n",
       "  </tbody>\n",
       "</table>\n",
       "</div>"
      ],
      "text/plain": [
       "         Unnamed: 0        Invoice       Quantity          Price  \\\n",
       "count  7.794950e+05  779495.000000  779495.000000  779495.000000   \n",
       "mean   5.315660e+05  537427.005391      13.507085       3.218199   \n",
       "std    3.110433e+05   26901.961110     146.540284      29.674823   \n",
       "min    0.000000e+00  489434.000000       1.000000       0.000000   \n",
       "25%    2.598405e+05  514483.000000       2.000000       1.250000   \n",
       "50%    5.071680e+05  536754.000000       6.000000       1.950000   \n",
       "75%    8.114895e+05  562002.000000      12.000000       3.750000   \n",
       "max    1.067370e+06  581587.000000   80995.000000   10953.500000   \n",
       "\n",
       "         Customer ID        Revenue  \n",
       "count  779495.000000  779495.000000  \n",
       "mean    15320.262918      22.289821  \n",
       "std      1695.722988     227.416962  \n",
       "min     12346.000000       0.000000  \n",
       "25%     13971.000000       4.950000  \n",
       "50%     15246.000000      12.480000  \n",
       "75%     16794.000000      19.800000  \n",
       "max     18287.000000  168469.600000  "
      ]
     },
     "execution_count": 5,
     "metadata": {},
     "output_type": "execute_result"
    }
   ],
   "source": [
    "Retail.describe()"
   ]
  },
  {
   "cell_type": "code",
   "execution_count": 6,
   "id": "b3a296b5",
   "metadata": {},
   "outputs": [
    {
     "data": {
      "application/javascript": [
       "\n",
       "        if (window._pyforest_update_imports_cell) { window._pyforest_update_imports_cell('import pandas as pd'); }\n",
       "    "
      ],
      "text/plain": [
       "<IPython.core.display.Javascript object>"
      ]
     },
     "metadata": {},
     "output_type": "display_data"
    }
   ],
   "source": [
    "Retail['InvoiceDate']=pd.to_datetime(Retail['InvoiceDate'])"
   ]
  },
  {
   "cell_type": "code",
   "execution_count": 7,
   "id": "3c153136",
   "metadata": {},
   "outputs": [],
   "source": [
    "Retail['date']=Retail['InvoiceDate'].dt.strftime('%Y-%m-%d')"
   ]
  },
  {
   "cell_type": "code",
   "execution_count": 8,
   "id": "ee7949ec",
   "metadata": {},
   "outputs": [
    {
     "data": {
      "application/javascript": [
       "\n",
       "        if (window._pyforest_update_imports_cell) { window._pyforest_update_imports_cell('import pandas as pd'); }\n",
       "    "
      ],
      "text/plain": [
       "<IPython.core.display.Javascript object>"
      ]
     },
     "metadata": {},
     "output_type": "display_data"
    }
   ],
   "source": [
    "Retail['date']=pd.to_datetime(Retail['date'])"
   ]
  },
  {
   "cell_type": "code",
   "execution_count": 9,
   "id": "48b7b60e",
   "metadata": {},
   "outputs": [
    {
     "data": {
      "text/html": [
       "<div>\n",
       "<style scoped>\n",
       "    .dataframe tbody tr th:only-of-type {\n",
       "        vertical-align: middle;\n",
       "    }\n",
       "\n",
       "    .dataframe tbody tr th {\n",
       "        vertical-align: top;\n",
       "    }\n",
       "\n",
       "    .dataframe thead th {\n",
       "        text-align: right;\n",
       "    }\n",
       "</style>\n",
       "<table border=\"1\" class=\"dataframe\">\n",
       "  <thead>\n",
       "    <tr style=\"text-align: right;\">\n",
       "      <th></th>\n",
       "      <th>Unnamed: 0</th>\n",
       "      <th>Invoice</th>\n",
       "      <th>StockCode</th>\n",
       "      <th>Description</th>\n",
       "      <th>Quantity</th>\n",
       "      <th>InvoiceDate</th>\n",
       "      <th>Price</th>\n",
       "      <th>Customer ID</th>\n",
       "      <th>Country</th>\n",
       "      <th>Revenue</th>\n",
       "      <th>date</th>\n",
       "    </tr>\n",
       "  </thead>\n",
       "  <tbody>\n",
       "    <tr>\n",
       "      <th>1</th>\n",
       "      <td>1</td>\n",
       "      <td>489434</td>\n",
       "      <td>79323P</td>\n",
       "      <td>PINK CHERRY LIGHTS</td>\n",
       "      <td>12</td>\n",
       "      <td>2009-12-01 07:45:00</td>\n",
       "      <td>6.75</td>\n",
       "      <td>13085.0</td>\n",
       "      <td>United Kingdom</td>\n",
       "      <td>81.00</td>\n",
       "      <td>2009-12-01</td>\n",
       "    </tr>\n",
       "    <tr>\n",
       "      <th>187</th>\n",
       "      <td>209</td>\n",
       "      <td>489460</td>\n",
       "      <td>79323P</td>\n",
       "      <td>PINK CHERRY LIGHTS</td>\n",
       "      <td>8</td>\n",
       "      <td>2009-12-01 10:46:00</td>\n",
       "      <td>6.75</td>\n",
       "      <td>16167.0</td>\n",
       "      <td>United Kingdom</td>\n",
       "      <td>54.00</td>\n",
       "      <td>2009-12-01</td>\n",
       "    </tr>\n",
       "    <tr>\n",
       "      <th>864</th>\n",
       "      <td>939</td>\n",
       "      <td>489539</td>\n",
       "      <td>79323P</td>\n",
       "      <td>PINK CHERRY LIGHTS</td>\n",
       "      <td>24</td>\n",
       "      <td>2009-12-01 12:18:00</td>\n",
       "      <td>5.45</td>\n",
       "      <td>15061.0</td>\n",
       "      <td>United Kingdom</td>\n",
       "      <td>130.80</td>\n",
       "      <td>2009-12-01</td>\n",
       "    </tr>\n",
       "    <tr>\n",
       "      <th>2072</th>\n",
       "      <td>3128</td>\n",
       "      <td>489656</td>\n",
       "      <td>79323P</td>\n",
       "      <td>PINK CHERRY LIGHTS</td>\n",
       "      <td>48</td>\n",
       "      <td>2009-12-01 17:28:00</td>\n",
       "      <td>5.45</td>\n",
       "      <td>17428.0</td>\n",
       "      <td>United Kingdom</td>\n",
       "      <td>261.60</td>\n",
       "      <td>2009-12-01</td>\n",
       "    </tr>\n",
       "    <tr>\n",
       "      <th>2099</th>\n",
       "      <td>3155</td>\n",
       "      <td>489658</td>\n",
       "      <td>79323P</td>\n",
       "      <td>PINK CHERRY LIGHTS</td>\n",
       "      <td>6</td>\n",
       "      <td>2009-12-01 17:31:00</td>\n",
       "      <td>6.75</td>\n",
       "      <td>15485.0</td>\n",
       "      <td>United Kingdom</td>\n",
       "      <td>40.50</td>\n",
       "      <td>2009-12-01</td>\n",
       "    </tr>\n",
       "    <tr>\n",
       "      <th>...</th>\n",
       "      <td>...</td>\n",
       "      <td>...</td>\n",
       "      <td>...</td>\n",
       "      <td>...</td>\n",
       "      <td>...</td>\n",
       "      <td>...</td>\n",
       "      <td>...</td>\n",
       "      <td>...</td>\n",
       "      <td>...</td>\n",
       "      <td>...</td>\n",
       "      <td>...</td>\n",
       "    </tr>\n",
       "    <tr>\n",
       "      <th>120104</th>\n",
       "      <td>165064</td>\n",
       "      <td>505002</td>\n",
       "      <td>79323P</td>\n",
       "      <td>PINK CHERRY LIGHTS</td>\n",
       "      <td>3</td>\n",
       "      <td>2010-04-19 12:39:00</td>\n",
       "      <td>6.75</td>\n",
       "      <td>16905.0</td>\n",
       "      <td>United Kingdom</td>\n",
       "      <td>20.25</td>\n",
       "      <td>2010-04-19</td>\n",
       "    </tr>\n",
       "    <tr>\n",
       "      <th>120637</th>\n",
       "      <td>165794</td>\n",
       "      <td>505056</td>\n",
       "      <td>79323P</td>\n",
       "      <td>PINK CHERRY LIGHTS</td>\n",
       "      <td>3</td>\n",
       "      <td>2010-04-19 14:59:00</td>\n",
       "      <td>6.75</td>\n",
       "      <td>14667.0</td>\n",
       "      <td>United Kingdom</td>\n",
       "      <td>20.25</td>\n",
       "      <td>2010-04-19</td>\n",
       "    </tr>\n",
       "    <tr>\n",
       "      <th>121497</th>\n",
       "      <td>166688</td>\n",
       "      <td>505177</td>\n",
       "      <td>79323P</td>\n",
       "      <td>PINK CHERRY LIGHTS</td>\n",
       "      <td>2</td>\n",
       "      <td>2010-04-20 13:43:00</td>\n",
       "      <td>6.75</td>\n",
       "      <td>13042.0</td>\n",
       "      <td>United Kingdom</td>\n",
       "      <td>13.50</td>\n",
       "      <td>2010-04-20</td>\n",
       "    </tr>\n",
       "    <tr>\n",
       "      <th>258601</th>\n",
       "      <td>340902</td>\n",
       "      <td>522631</td>\n",
       "      <td>79323P</td>\n",
       "      <td>PINK CHERRY LIGHTS</td>\n",
       "      <td>24</td>\n",
       "      <td>2010-09-16 09:07:00</td>\n",
       "      <td>5.45</td>\n",
       "      <td>14156.0</td>\n",
       "      <td>EIRE</td>\n",
       "      <td>130.80</td>\n",
       "      <td>2010-09-16</td>\n",
       "    </tr>\n",
       "    <tr>\n",
       "      <th>419050</th>\n",
       "      <td>578664</td>\n",
       "      <td>540825</td>\n",
       "      <td>79323P</td>\n",
       "      <td>PINK CHERRY LIGHTS</td>\n",
       "      <td>4</td>\n",
       "      <td>2011-01-11 13:54:00</td>\n",
       "      <td>6.75</td>\n",
       "      <td>13672.0</td>\n",
       "      <td>United Kingdom</td>\n",
       "      <td>27.00</td>\n",
       "      <td>2011-01-11</td>\n",
       "    </tr>\n",
       "  </tbody>\n",
       "</table>\n",
       "<p>230 rows × 11 columns</p>\n",
       "</div>"
      ],
      "text/plain": [
       "        Unnamed: 0  Invoice StockCode         Description  Quantity  \\\n",
       "1                1   489434    79323P  PINK CHERRY LIGHTS        12   \n",
       "187            209   489460    79323P  PINK CHERRY LIGHTS         8   \n",
       "864            939   489539    79323P  PINK CHERRY LIGHTS        24   \n",
       "2072          3128   489656    79323P  PINK CHERRY LIGHTS        48   \n",
       "2099          3155   489658    79323P  PINK CHERRY LIGHTS         6   \n",
       "...            ...      ...       ...                 ...       ...   \n",
       "120104      165064   505002    79323P  PINK CHERRY LIGHTS         3   \n",
       "120637      165794   505056    79323P  PINK CHERRY LIGHTS         3   \n",
       "121497      166688   505177    79323P  PINK CHERRY LIGHTS         2   \n",
       "258601      340902   522631    79323P  PINK CHERRY LIGHTS        24   \n",
       "419050      578664   540825    79323P  PINK CHERRY LIGHTS         4   \n",
       "\n",
       "               InvoiceDate  Price  Customer ID         Country  Revenue  \\\n",
       "1      2009-12-01 07:45:00   6.75      13085.0  United Kingdom    81.00   \n",
       "187    2009-12-01 10:46:00   6.75      16167.0  United Kingdom    54.00   \n",
       "864    2009-12-01 12:18:00   5.45      15061.0  United Kingdom   130.80   \n",
       "2072   2009-12-01 17:28:00   5.45      17428.0  United Kingdom   261.60   \n",
       "2099   2009-12-01 17:31:00   6.75      15485.0  United Kingdom    40.50   \n",
       "...                    ...    ...          ...             ...      ...   \n",
       "120104 2010-04-19 12:39:00   6.75      16905.0  United Kingdom    20.25   \n",
       "120637 2010-04-19 14:59:00   6.75      14667.0  United Kingdom    20.25   \n",
       "121497 2010-04-20 13:43:00   6.75      13042.0  United Kingdom    13.50   \n",
       "258601 2010-09-16 09:07:00   5.45      14156.0            EIRE   130.80   \n",
       "419050 2011-01-11 13:54:00   6.75      13672.0  United Kingdom    27.00   \n",
       "\n",
       "             date  \n",
       "1      2009-12-01  \n",
       "187    2009-12-01  \n",
       "864    2009-12-01  \n",
       "2072   2009-12-01  \n",
       "2099   2009-12-01  \n",
       "...           ...  \n",
       "120104 2010-04-19  \n",
       "120637 2010-04-19  \n",
       "121497 2010-04-20  \n",
       "258601 2010-09-16  \n",
       "419050 2011-01-11  \n",
       "\n",
       "[230 rows x 11 columns]"
      ]
     },
     "execution_count": 9,
     "metadata": {},
     "output_type": "execute_result"
    }
   ],
   "source": [
    "Retail[Retail['Description']=='PINK CHERRY LIGHTS']"
   ]
  },
  {
   "cell_type": "code",
   "execution_count": 10,
   "id": "758d692e",
   "metadata": {},
   "outputs": [
    {
     "data": {
      "application/javascript": [
       "\n",
       "        if (window._pyforest_update_imports_cell) { window._pyforest_update_imports_cell('import numpy as np\\nimport pandas as pd'); }\n",
       "    "
      ],
      "text/plain": [
       "<IPython.core.display.Javascript object>"
      ]
     },
     "metadata": {},
     "output_type": "display_data"
    }
   ],
   "source": [
    "des_max=Retail.groupby('Description').agg(max_price=('Price',np.max)).reset_index()"
   ]
  },
  {
   "cell_type": "code",
   "execution_count": 11,
   "id": "12a40cf0",
   "metadata": {},
   "outputs": [
    {
     "data": {
      "application/javascript": [
       "\n",
       "        if (window._pyforest_update_imports_cell) { window._pyforest_update_imports_cell('import numpy as np\\nimport pandas as pd'); }\n",
       "    "
      ],
      "text/plain": [
       "<IPython.core.display.Javascript object>"
      ]
     },
     "metadata": {},
     "output_type": "display_data"
    },
    {
     "data": {
      "text/html": [
       "<div>\n",
       "<style scoped>\n",
       "    .dataframe tbody tr th:only-of-type {\n",
       "        vertical-align: middle;\n",
       "    }\n",
       "\n",
       "    .dataframe tbody tr th {\n",
       "        vertical-align: top;\n",
       "    }\n",
       "\n",
       "    .dataframe thead th {\n",
       "        text-align: right;\n",
       "    }\n",
       "</style>\n",
       "<table border=\"1\" class=\"dataframe\">\n",
       "  <thead>\n",
       "    <tr style=\"text-align: right;\">\n",
       "      <th></th>\n",
       "      <th>Unnamed: 0</th>\n",
       "      <th>Invoice</th>\n",
       "      <th>StockCode</th>\n",
       "      <th>Description</th>\n",
       "      <th>Quantity</th>\n",
       "      <th>InvoiceDate</th>\n",
       "      <th>Price</th>\n",
       "      <th>Customer ID</th>\n",
       "      <th>Country</th>\n",
       "      <th>Revenue</th>\n",
       "      <th>date</th>\n",
       "      <th>max_price</th>\n",
       "    </tr>\n",
       "  </thead>\n",
       "  <tbody>\n",
       "    <tr>\n",
       "      <th>0</th>\n",
       "      <td>0</td>\n",
       "      <td>489434</td>\n",
       "      <td>85048</td>\n",
       "      <td>15CM CHRISTMAS GLASS BALL 20 LIGHTS</td>\n",
       "      <td>12</td>\n",
       "      <td>2009-12-01 07:45:00</td>\n",
       "      <td>6.95</td>\n",
       "      <td>13085.0</td>\n",
       "      <td>United Kingdom</td>\n",
       "      <td>83.4</td>\n",
       "      <td>2009-12-01</td>\n",
       "      <td>7.95</td>\n",
       "    </tr>\n",
       "    <tr>\n",
       "      <th>1</th>\n",
       "      <td>1</td>\n",
       "      <td>489434</td>\n",
       "      <td>79323P</td>\n",
       "      <td>PINK CHERRY LIGHTS</td>\n",
       "      <td>12</td>\n",
       "      <td>2009-12-01 07:45:00</td>\n",
       "      <td>6.75</td>\n",
       "      <td>13085.0</td>\n",
       "      <td>United Kingdom</td>\n",
       "      <td>81.0</td>\n",
       "      <td>2009-12-01</td>\n",
       "      <td>6.75</td>\n",
       "    </tr>\n",
       "    <tr>\n",
       "      <th>2</th>\n",
       "      <td>2</td>\n",
       "      <td>489434</td>\n",
       "      <td>79323W</td>\n",
       "      <td>WHITE CHERRY LIGHTS</td>\n",
       "      <td>12</td>\n",
       "      <td>2009-12-01 07:45:00</td>\n",
       "      <td>6.75</td>\n",
       "      <td>13085.0</td>\n",
       "      <td>United Kingdom</td>\n",
       "      <td>81.0</td>\n",
       "      <td>2009-12-01</td>\n",
       "      <td>6.75</td>\n",
       "    </tr>\n",
       "    <tr>\n",
       "      <th>3</th>\n",
       "      <td>3</td>\n",
       "      <td>489434</td>\n",
       "      <td>22041</td>\n",
       "      <td>RECORD FRAME 7\" SINGLE SIZE</td>\n",
       "      <td>48</td>\n",
       "      <td>2009-12-01 07:45:00</td>\n",
       "      <td>2.10</td>\n",
       "      <td>13085.0</td>\n",
       "      <td>United Kingdom</td>\n",
       "      <td>100.8</td>\n",
       "      <td>2009-12-01</td>\n",
       "      <td>4.96</td>\n",
       "    </tr>\n",
       "    <tr>\n",
       "      <th>4</th>\n",
       "      <td>4</td>\n",
       "      <td>489434</td>\n",
       "      <td>21232</td>\n",
       "      <td>STRAWBERRY CERAMIC TRINKET BOX</td>\n",
       "      <td>24</td>\n",
       "      <td>2009-12-01 07:45:00</td>\n",
       "      <td>1.25</td>\n",
       "      <td>13085.0</td>\n",
       "      <td>United Kingdom</td>\n",
       "      <td>30.0</td>\n",
       "      <td>2009-12-01</td>\n",
       "      <td>2.46</td>\n",
       "    </tr>\n",
       "  </tbody>\n",
       "</table>\n",
       "</div>"
      ],
      "text/plain": [
       "   Unnamed: 0  Invoice StockCode                          Description  \\\n",
       "0           0   489434     85048  15CM CHRISTMAS GLASS BALL 20 LIGHTS   \n",
       "1           1   489434    79323P                   PINK CHERRY LIGHTS   \n",
       "2           2   489434    79323W                  WHITE CHERRY LIGHTS   \n",
       "3           3   489434     22041         RECORD FRAME 7\" SINGLE SIZE    \n",
       "4           4   489434     21232       STRAWBERRY CERAMIC TRINKET BOX   \n",
       "\n",
       "   Quantity         InvoiceDate  Price  Customer ID         Country  Revenue  \\\n",
       "0        12 2009-12-01 07:45:00   6.95      13085.0  United Kingdom     83.4   \n",
       "1        12 2009-12-01 07:45:00   6.75      13085.0  United Kingdom     81.0   \n",
       "2        12 2009-12-01 07:45:00   6.75      13085.0  United Kingdom     81.0   \n",
       "3        48 2009-12-01 07:45:00   2.10      13085.0  United Kingdom    100.8   \n",
       "4        24 2009-12-01 07:45:00   1.25      13085.0  United Kingdom     30.0   \n",
       "\n",
       "        date  max_price  \n",
       "0 2009-12-01       7.95  \n",
       "1 2009-12-01       6.75  \n",
       "2 2009-12-01       6.75  \n",
       "3 2009-12-01       4.96  \n",
       "4 2009-12-01       2.46  "
      ]
     },
     "execution_count": 11,
     "metadata": {},
     "output_type": "execute_result"
    }
   ],
   "source": [
    "Retail=pd.merge(Retail,des_max,how='left')\n",
    "Retail.head()"
   ]
  },
  {
   "cell_type": "code",
   "execution_count": 12,
   "id": "7b8bff83",
   "metadata": {},
   "outputs": [
    {
     "data": {
      "text/html": [
       "<div>\n",
       "<style scoped>\n",
       "    .dataframe tbody tr th:only-of-type {\n",
       "        vertical-align: middle;\n",
       "    }\n",
       "\n",
       "    .dataframe tbody tr th {\n",
       "        vertical-align: top;\n",
       "    }\n",
       "\n",
       "    .dataframe thead th {\n",
       "        text-align: right;\n",
       "    }\n",
       "</style>\n",
       "<table border=\"1\" class=\"dataframe\">\n",
       "  <thead>\n",
       "    <tr style=\"text-align: right;\">\n",
       "      <th></th>\n",
       "      <th>Unnamed: 0</th>\n",
       "      <th>Invoice</th>\n",
       "      <th>StockCode</th>\n",
       "      <th>Description</th>\n",
       "      <th>Quantity</th>\n",
       "      <th>InvoiceDate</th>\n",
       "      <th>Price</th>\n",
       "      <th>Customer ID</th>\n",
       "      <th>Country</th>\n",
       "      <th>Revenue</th>\n",
       "      <th>date</th>\n",
       "      <th>max_price</th>\n",
       "      <th>cost</th>\n",
       "      <th>profit</th>\n",
       "    </tr>\n",
       "  </thead>\n",
       "  <tbody>\n",
       "    <tr>\n",
       "      <th>0</th>\n",
       "      <td>0</td>\n",
       "      <td>489434</td>\n",
       "      <td>85048</td>\n",
       "      <td>15CM CHRISTMAS GLASS BALL 20 LIGHTS</td>\n",
       "      <td>12</td>\n",
       "      <td>2009-12-01 07:45:00</td>\n",
       "      <td>6.95</td>\n",
       "      <td>13085.0</td>\n",
       "      <td>United Kingdom</td>\n",
       "      <td>83.4</td>\n",
       "      <td>2009-12-01</td>\n",
       "      <td>7.95</td>\n",
       "      <td>3.180</td>\n",
       "      <td>3.770</td>\n",
       "    </tr>\n",
       "    <tr>\n",
       "      <th>1</th>\n",
       "      <td>1</td>\n",
       "      <td>489434</td>\n",
       "      <td>79323P</td>\n",
       "      <td>PINK CHERRY LIGHTS</td>\n",
       "      <td>12</td>\n",
       "      <td>2009-12-01 07:45:00</td>\n",
       "      <td>6.75</td>\n",
       "      <td>13085.0</td>\n",
       "      <td>United Kingdom</td>\n",
       "      <td>81.0</td>\n",
       "      <td>2009-12-01</td>\n",
       "      <td>6.75</td>\n",
       "      <td>2.700</td>\n",
       "      <td>4.050</td>\n",
       "    </tr>\n",
       "    <tr>\n",
       "      <th>2</th>\n",
       "      <td>2</td>\n",
       "      <td>489434</td>\n",
       "      <td>79323W</td>\n",
       "      <td>WHITE CHERRY LIGHTS</td>\n",
       "      <td>12</td>\n",
       "      <td>2009-12-01 07:45:00</td>\n",
       "      <td>6.75</td>\n",
       "      <td>13085.0</td>\n",
       "      <td>United Kingdom</td>\n",
       "      <td>81.0</td>\n",
       "      <td>2009-12-01</td>\n",
       "      <td>6.75</td>\n",
       "      <td>2.700</td>\n",
       "      <td>4.050</td>\n",
       "    </tr>\n",
       "    <tr>\n",
       "      <th>3</th>\n",
       "      <td>3</td>\n",
       "      <td>489434</td>\n",
       "      <td>22041</td>\n",
       "      <td>RECORD FRAME 7\" SINGLE SIZE</td>\n",
       "      <td>48</td>\n",
       "      <td>2009-12-01 07:45:00</td>\n",
       "      <td>2.10</td>\n",
       "      <td>13085.0</td>\n",
       "      <td>United Kingdom</td>\n",
       "      <td>100.8</td>\n",
       "      <td>2009-12-01</td>\n",
       "      <td>4.96</td>\n",
       "      <td>1.984</td>\n",
       "      <td>0.116</td>\n",
       "    </tr>\n",
       "    <tr>\n",
       "      <th>4</th>\n",
       "      <td>4</td>\n",
       "      <td>489434</td>\n",
       "      <td>21232</td>\n",
       "      <td>STRAWBERRY CERAMIC TRINKET BOX</td>\n",
       "      <td>24</td>\n",
       "      <td>2009-12-01 07:45:00</td>\n",
       "      <td>1.25</td>\n",
       "      <td>13085.0</td>\n",
       "      <td>United Kingdom</td>\n",
       "      <td>30.0</td>\n",
       "      <td>2009-12-01</td>\n",
       "      <td>2.46</td>\n",
       "      <td>0.984</td>\n",
       "      <td>0.266</td>\n",
       "    </tr>\n",
       "  </tbody>\n",
       "</table>\n",
       "</div>"
      ],
      "text/plain": [
       "   Unnamed: 0  Invoice StockCode                          Description  \\\n",
       "0           0   489434     85048  15CM CHRISTMAS GLASS BALL 20 LIGHTS   \n",
       "1           1   489434    79323P                   PINK CHERRY LIGHTS   \n",
       "2           2   489434    79323W                  WHITE CHERRY LIGHTS   \n",
       "3           3   489434     22041         RECORD FRAME 7\" SINGLE SIZE    \n",
       "4           4   489434     21232       STRAWBERRY CERAMIC TRINKET BOX   \n",
       "\n",
       "   Quantity         InvoiceDate  Price  Customer ID         Country  Revenue  \\\n",
       "0        12 2009-12-01 07:45:00   6.95      13085.0  United Kingdom     83.4   \n",
       "1        12 2009-12-01 07:45:00   6.75      13085.0  United Kingdom     81.0   \n",
       "2        12 2009-12-01 07:45:00   6.75      13085.0  United Kingdom     81.0   \n",
       "3        48 2009-12-01 07:45:00   2.10      13085.0  United Kingdom    100.8   \n",
       "4        24 2009-12-01 07:45:00   1.25      13085.0  United Kingdom     30.0   \n",
       "\n",
       "        date  max_price   cost  profit  \n",
       "0 2009-12-01       7.95  3.180   3.770  \n",
       "1 2009-12-01       6.75  2.700   4.050  \n",
       "2 2009-12-01       6.75  2.700   4.050  \n",
       "3 2009-12-01       4.96  1.984   0.116  \n",
       "4 2009-12-01       2.46  0.984   0.266  "
      ]
     },
     "execution_count": 12,
     "metadata": {},
     "output_type": "execute_result"
    }
   ],
   "source": [
    "Retail['cost']=Retail['max_price']*0.4\n",
    "Retail['profit']=Retail['Price']-Retail['cost']\n",
    "Retail.head()"
   ]
  },
  {
   "cell_type": "code",
   "execution_count": 13,
   "id": "15832091",
   "metadata": {},
   "outputs": [
    {
     "data": {
      "application/javascript": [
       "\n",
       "        if (window._pyforest_update_imports_cell) { window._pyforest_update_imports_cell('import numpy as np\\nimport pandas as pd'); }\n",
       "    "
      ],
      "text/plain": [
       "<IPython.core.display.Javascript object>"
      ]
     },
     "metadata": {},
     "output_type": "display_data"
    },
    {
     "data": {
      "application/javascript": [
       "\n",
       "        if (window._pyforest_update_imports_cell) { window._pyforest_update_imports_cell('import numpy as np\\nimport pandas as pd'); }\n",
       "    "
      ],
      "text/plain": [
       "<IPython.core.display.Javascript object>"
      ]
     },
     "metadata": {},
     "output_type": "display_data"
    },
    {
     "data": {
      "application/javascript": [
       "\n",
       "        if (window._pyforest_update_imports_cell) { window._pyforest_update_imports_cell('import numpy as np\\nimport pandas as pd'); }\n",
       "    "
      ],
      "text/plain": [
       "<IPython.core.display.Javascript object>"
      ]
     },
     "metadata": {},
     "output_type": "display_data"
    },
    {
     "data": {
      "application/javascript": [
       "\n",
       "        if (window._pyforest_update_imports_cell) { window._pyforest_update_imports_cell('import numpy as np\\nimport pandas as pd'); }\n",
       "    "
      ],
      "text/plain": [
       "<IPython.core.display.Javascript object>"
      ]
     },
     "metadata": {},
     "output_type": "display_data"
    },
    {
     "data": {
      "application/javascript": [
       "\n",
       "        if (window._pyforest_update_imports_cell) { window._pyforest_update_imports_cell('import numpy as np\\nimport pandas as pd'); }\n",
       "    "
      ],
      "text/plain": [
       "<IPython.core.display.Javascript object>"
      ]
     },
     "metadata": {},
     "output_type": "display_data"
    }
   ],
   "source": [
    "grouped_retial=Retail.groupby(['Description','date']).agg(total_quantity=('Quantity',np.sum),total_profit=('profit',np.sum),total_Price=('Price',np.sum),total_cost=('cost',np.sum),total_Revenue=('Revenue',np.sum))"
   ]
  },
  {
   "cell_type": "code",
   "execution_count": 28,
   "id": "44ec92ef",
   "metadata": {},
   "outputs": [
    {
     "data": {
      "text/html": [
       "<div>\n",
       "<style scoped>\n",
       "    .dataframe tbody tr th:only-of-type {\n",
       "        vertical-align: middle;\n",
       "    }\n",
       "\n",
       "    .dataframe tbody tr th {\n",
       "        vertical-align: top;\n",
       "    }\n",
       "\n",
       "    .dataframe thead th {\n",
       "        text-align: right;\n",
       "    }\n",
       "</style>\n",
       "<table border=\"1\" class=\"dataframe\">\n",
       "  <thead>\n",
       "    <tr style=\"text-align: right;\">\n",
       "      <th></th>\n",
       "      <th></th>\n",
       "      <th>total_quantity</th>\n",
       "      <th>total_profit</th>\n",
       "      <th>total_Price</th>\n",
       "      <th>total_cost</th>\n",
       "      <th>total_Revenue</th>\n",
       "    </tr>\n",
       "    <tr>\n",
       "      <th>Description</th>\n",
       "      <th>date</th>\n",
       "      <th></th>\n",
       "      <th></th>\n",
       "      <th></th>\n",
       "      <th></th>\n",
       "      <th></th>\n",
       "    </tr>\n",
       "  </thead>\n",
       "  <tbody>\n",
       "    <tr>\n",
       "      <th rowspan=\"5\" valign=\"top\">DOORMAT UNION JACK GUNS AND ROSES</th>\n",
       "      <th>2010-01-05</th>\n",
       "      <td>1</td>\n",
       "      <td>4.05</td>\n",
       "      <td>6.75</td>\n",
       "      <td>2.7</td>\n",
       "      <td>6.75</td>\n",
       "    </tr>\n",
       "    <tr>\n",
       "      <th>2010-01-08</th>\n",
       "      <td>12</td>\n",
       "      <td>11.35</td>\n",
       "      <td>19.45</td>\n",
       "      <td>8.1</td>\n",
       "      <td>73.00</td>\n",
       "    </tr>\n",
       "    <tr>\n",
       "      <th>2010-01-10</th>\n",
       "      <td>3</td>\n",
       "      <td>4.05</td>\n",
       "      <td>6.75</td>\n",
       "      <td>2.7</td>\n",
       "      <td>20.25</td>\n",
       "    </tr>\n",
       "    <tr>\n",
       "      <th>2010-01-11</th>\n",
       "      <td>15</td>\n",
       "      <td>7.30</td>\n",
       "      <td>12.70</td>\n",
       "      <td>5.4</td>\n",
       "      <td>93.25</td>\n",
       "    </tr>\n",
       "    <tr>\n",
       "      <th>2010-01-12</th>\n",
       "      <td>1</td>\n",
       "      <td>4.05</td>\n",
       "      <td>6.75</td>\n",
       "      <td>2.7</td>\n",
       "      <td>6.75</td>\n",
       "    </tr>\n",
       "  </tbody>\n",
       "</table>\n",
       "</div>"
      ],
      "text/plain": [
       "                                                total_quantity  total_profit  \\\n",
       "Description                         date                                       \n",
       "  DOORMAT UNION JACK GUNS AND ROSES 2010-01-05               1          4.05   \n",
       "                                    2010-01-08              12         11.35   \n",
       "                                    2010-01-10               3          4.05   \n",
       "                                    2010-01-11              15          7.30   \n",
       "                                    2010-01-12               1          4.05   \n",
       "\n",
       "                                                total_Price  total_cost  \\\n",
       "Description                         date                                  \n",
       "  DOORMAT UNION JACK GUNS AND ROSES 2010-01-05         6.75         2.7   \n",
       "                                    2010-01-08        19.45         8.1   \n",
       "                                    2010-01-10         6.75         2.7   \n",
       "                                    2010-01-11        12.70         5.4   \n",
       "                                    2010-01-12         6.75         2.7   \n",
       "\n",
       "                                                total_Revenue  \n",
       "Description                         date                       \n",
       "  DOORMAT UNION JACK GUNS AND ROSES 2010-01-05           6.75  \n",
       "                                    2010-01-08          73.00  \n",
       "                                    2010-01-10          20.25  \n",
       "                                    2010-01-11          93.25  \n",
       "                                    2010-01-12           6.75  "
      ]
     },
     "execution_count": 28,
     "metadata": {},
     "output_type": "execute_result"
    }
   ],
   "source": [
    "grouped_retial.head()"
   ]
  },
  {
   "cell_type": "code",
   "execution_count": 29,
   "id": "bff14808",
   "metadata": {},
   "outputs": [
    {
     "data": {
      "application/javascript": [
       "\n",
       "        if (window._pyforest_update_imports_cell) { window._pyforest_update_imports_cell('import numpy as np\\nimport pandas as pd'); }\n",
       "    "
      ],
      "text/plain": [
       "<IPython.core.display.Javascript object>"
      ]
     },
     "metadata": {},
     "output_type": "display_data"
    },
    {
     "data": {
      "application/javascript": [
       "\n",
       "        if (window._pyforest_update_imports_cell) { window._pyforest_update_imports_cell('import numpy as np\\nimport pandas as pd'); }\n",
       "    "
      ],
      "text/plain": [
       "<IPython.core.display.Javascript object>"
      ]
     },
     "metadata": {},
     "output_type": "display_data"
    },
    {
     "data": {
      "application/javascript": [
       "\n",
       "        if (window._pyforest_update_imports_cell) { window._pyforest_update_imports_cell('import numpy as np\\nimport pandas as pd'); }\n",
       "    "
      ],
      "text/plain": [
       "<IPython.core.display.Javascript object>"
      ]
     },
     "metadata": {},
     "output_type": "display_data"
    },
    {
     "data": {
      "application/javascript": [
       "\n",
       "        if (window._pyforest_update_imports_cell) { window._pyforest_update_imports_cell('import numpy as np\\nimport pandas as pd'); }\n",
       "    "
      ],
      "text/plain": [
       "<IPython.core.display.Javascript object>"
      ]
     },
     "metadata": {},
     "output_type": "display_data"
    },
    {
     "data": {
      "application/javascript": [
       "\n",
       "        if (window._pyforest_update_imports_cell) { window._pyforest_update_imports_cell('import numpy as np\\nimport pandas as pd'); }\n",
       "    "
      ],
      "text/plain": [
       "<IPython.core.display.Javascript object>"
      ]
     },
     "metadata": {},
     "output_type": "display_data"
    }
   ],
   "source": [
    "Des_grouped_retial=Retail.groupby(['Description']).agg(total_quantity=('Quantity',np.sum),total_profit=('profit',np.sum),total_Price=('Price',np.sum),total_cost=('cost',np.sum),total_Revenue=('Revenue',np.sum))"
   ]
  },
  {
   "cell_type": "code",
   "execution_count": null,
   "id": "1fa5a2f6",
   "metadata": {},
   "outputs": [],
   "source": []
  },
  {
   "cell_type": "code",
   "execution_count": 16,
   "id": "59c6459b",
   "metadata": {},
   "outputs": [],
   "source": [
    "# R,F,M Analysis"
   ]
  },
  {
   "cell_type": "code",
   "execution_count": 15,
   "id": "96d2a061",
   "metadata": {},
   "outputs": [],
   "source": [
    "max_date=max(Retail['date'])"
   ]
  },
  {
   "cell_type": "code",
   "execution_count": 17,
   "id": "769ce895",
   "metadata": {},
   "outputs": [],
   "source": [
    "#  R - Recency\n",
    "# how recent customer purchased in days"
   ]
  },
  {
   "cell_type": "code",
   "execution_count": 26,
   "id": "c15daf99",
   "metadata": {},
   "outputs": [],
   "source": [
    "customer_recency=Retail.groupby(['Customer ID']).agg(last_date=('date',max)).reset_index()\n",
    "customer_recency['recency']=max_date-customer_recency['last_date']\n",
    "customer_recency['recency']=customer_recency['recency'].astype('string').str.replace('days','').astype(int)"
   ]
  },
  {
   "cell_type": "code",
   "execution_count": 27,
   "id": "534a0eff",
   "metadata": {},
   "outputs": [
    {
     "data": {
      "text/html": [
       "<div>\n",
       "<style scoped>\n",
       "    .dataframe tbody tr th:only-of-type {\n",
       "        vertical-align: middle;\n",
       "    }\n",
       "\n",
       "    .dataframe tbody tr th {\n",
       "        vertical-align: top;\n",
       "    }\n",
       "\n",
       "    .dataframe thead th {\n",
       "        text-align: right;\n",
       "    }\n",
       "</style>\n",
       "<table border=\"1\" class=\"dataframe\">\n",
       "  <thead>\n",
       "    <tr style=\"text-align: right;\">\n",
       "      <th></th>\n",
       "      <th>Customer ID</th>\n",
       "      <th>last_date</th>\n",
       "      <th>recency</th>\n",
       "    </tr>\n",
       "  </thead>\n",
       "  <tbody>\n",
       "    <tr>\n",
       "      <th>0</th>\n",
       "      <td>12346.0</td>\n",
       "      <td>2011-01-18</td>\n",
       "      <td>325</td>\n",
       "    </tr>\n",
       "    <tr>\n",
       "      <th>1</th>\n",
       "      <td>12347.0</td>\n",
       "      <td>2011-12-07</td>\n",
       "      <td>2</td>\n",
       "    </tr>\n",
       "    <tr>\n",
       "      <th>2</th>\n",
       "      <td>12348.0</td>\n",
       "      <td>2011-09-25</td>\n",
       "      <td>75</td>\n",
       "    </tr>\n",
       "    <tr>\n",
       "      <th>3</th>\n",
       "      <td>12349.0</td>\n",
       "      <td>2011-11-21</td>\n",
       "      <td>18</td>\n",
       "    </tr>\n",
       "    <tr>\n",
       "      <th>4</th>\n",
       "      <td>12350.0</td>\n",
       "      <td>2011-02-02</td>\n",
       "      <td>310</td>\n",
       "    </tr>\n",
       "  </tbody>\n",
       "</table>\n",
       "</div>"
      ],
      "text/plain": [
       "   Customer ID  last_date  recency\n",
       "0      12346.0 2011-01-18      325\n",
       "1      12347.0 2011-12-07        2\n",
       "2      12348.0 2011-09-25       75\n",
       "3      12349.0 2011-11-21       18\n",
       "4      12350.0 2011-02-02      310"
      ]
     },
     "execution_count": 27,
     "metadata": {},
     "output_type": "execute_result"
    }
   ],
   "source": [
    "customer_recency.head()"
   ]
  },
  {
   "cell_type": "code",
   "execution_count": null,
   "id": "8878e371",
   "metadata": {},
   "outputs": [],
   "source": []
  },
  {
   "cell_type": "code",
   "execution_count": 28,
   "id": "3c72c2fc",
   "metadata": {},
   "outputs": [],
   "source": [
    "## F - Frequency\n",
    "# how frequent customers visists or purchases"
   ]
  },
  {
   "cell_type": "code",
   "execution_count": 31,
   "id": "8f427f94",
   "metadata": {},
   "outputs": [],
   "source": [
    "freq1=Retail.groupby(['Customer ID','Invoice']).agg(count=('Description','count')).reset_index()"
   ]
  },
  {
   "cell_type": "code",
   "execution_count": 47,
   "id": "232e3c1e",
   "metadata": {},
   "outputs": [
    {
     "data": {
      "text/html": [
       "<div>\n",
       "<style scoped>\n",
       "    .dataframe tbody tr th:only-of-type {\n",
       "        vertical-align: middle;\n",
       "    }\n",
       "\n",
       "    .dataframe tbody tr th {\n",
       "        vertical-align: top;\n",
       "    }\n",
       "\n",
       "    .dataframe thead th {\n",
       "        text-align: right;\n",
       "    }\n",
       "</style>\n",
       "<table border=\"1\" class=\"dataframe\">\n",
       "  <thead>\n",
       "    <tr style=\"text-align: right;\">\n",
       "      <th></th>\n",
       "      <th>Customer ID</th>\n",
       "      <th>freq</th>\n",
       "    </tr>\n",
       "  </thead>\n",
       "  <tbody>\n",
       "    <tr>\n",
       "      <th>0</th>\n",
       "      <td>12346.0</td>\n",
       "      <td>12</td>\n",
       "    </tr>\n",
       "    <tr>\n",
       "      <th>1</th>\n",
       "      <td>12347.0</td>\n",
       "      <td>8</td>\n",
       "    </tr>\n",
       "    <tr>\n",
       "      <th>2</th>\n",
       "      <td>12348.0</td>\n",
       "      <td>5</td>\n",
       "    </tr>\n",
       "    <tr>\n",
       "      <th>3</th>\n",
       "      <td>12349.0</td>\n",
       "      <td>4</td>\n",
       "    </tr>\n",
       "    <tr>\n",
       "      <th>4</th>\n",
       "      <td>12350.0</td>\n",
       "      <td>1</td>\n",
       "    </tr>\n",
       "  </tbody>\n",
       "</table>\n",
       "</div>"
      ],
      "text/plain": [
       "   Customer ID  freq\n",
       "0      12346.0    12\n",
       "1      12347.0     8\n",
       "2      12348.0     5\n",
       "3      12349.0     4\n",
       "4      12350.0     1"
      ]
     },
     "execution_count": 47,
     "metadata": {},
     "output_type": "execute_result"
    }
   ],
   "source": [
    "freq2=freq1.groupby('Customer ID').agg(freq=('count','count')).reset_index()\n",
    "freq2.head()"
   ]
  },
  {
   "cell_type": "code",
   "execution_count": null,
   "id": "99f8bd1b",
   "metadata": {},
   "outputs": [],
   "source": []
  },
  {
   "cell_type": "code",
   "execution_count": 34,
   "id": "40112fa6",
   "metadata": {},
   "outputs": [],
   "source": [
    "# M - Monetary value \n",
    "# how much customers spends money"
   ]
  },
  {
   "cell_type": "code",
   "execution_count": 36,
   "id": "a55a68e7",
   "metadata": {},
   "outputs": [],
   "source": [
    "monet1=Retail.groupby(['Customer ID','Invoice']).agg(Revenue=('Revenue','sum')).reset_index()\n",
    "monet2=monet1.groupby(['Customer ID']).agg(monetary=('Revenue','mean')).reset_index()"
   ]
  },
  {
   "cell_type": "code",
   "execution_count": 37,
   "id": "81e0de5a",
   "metadata": {},
   "outputs": [
    {
     "data": {
      "text/html": [
       "<div>\n",
       "<style scoped>\n",
       "    .dataframe tbody tr th:only-of-type {\n",
       "        vertical-align: middle;\n",
       "    }\n",
       "\n",
       "    .dataframe tbody tr th {\n",
       "        vertical-align: top;\n",
       "    }\n",
       "\n",
       "    .dataframe thead th {\n",
       "        text-align: right;\n",
       "    }\n",
       "</style>\n",
       "<table border=\"1\" class=\"dataframe\">\n",
       "  <thead>\n",
       "    <tr style=\"text-align: right;\">\n",
       "      <th></th>\n",
       "      <th>Customer ID</th>\n",
       "      <th>monetary</th>\n",
       "    </tr>\n",
       "  </thead>\n",
       "  <tbody>\n",
       "    <tr>\n",
       "      <th>0</th>\n",
       "      <td>12346.0</td>\n",
       "      <td>6463.038333</td>\n",
       "    </tr>\n",
       "    <tr>\n",
       "      <th>1</th>\n",
       "      <td>12347.0</td>\n",
       "      <td>615.191250</td>\n",
       "    </tr>\n",
       "    <tr>\n",
       "      <th>2</th>\n",
       "      <td>12348.0</td>\n",
       "      <td>403.880000</td>\n",
       "    </tr>\n",
       "    <tr>\n",
       "      <th>3</th>\n",
       "      <td>12349.0</td>\n",
       "      <td>1107.172500</td>\n",
       "    </tr>\n",
       "    <tr>\n",
       "      <th>4</th>\n",
       "      <td>12350.0</td>\n",
       "      <td>334.400000</td>\n",
       "    </tr>\n",
       "  </tbody>\n",
       "</table>\n",
       "</div>"
      ],
      "text/plain": [
       "   Customer ID     monetary\n",
       "0      12346.0  6463.038333\n",
       "1      12347.0   615.191250\n",
       "2      12348.0   403.880000\n",
       "3      12349.0  1107.172500\n",
       "4      12350.0   334.400000"
      ]
     },
     "execution_count": 37,
     "metadata": {},
     "output_type": "execute_result"
    }
   ],
   "source": [
    "monet2.head()"
   ]
  },
  {
   "cell_type": "code",
   "execution_count": null,
   "id": "8abb96c1",
   "metadata": {},
   "outputs": [],
   "source": []
  },
  {
   "cell_type": "code",
   "execution_count": 48,
   "id": "73e28e60",
   "metadata": {},
   "outputs": [],
   "source": [
    "customer_recency['Recency_Rank']=customer_recency['recency'].rank(pct=True)"
   ]
  },
  {
   "cell_type": "code",
   "execution_count": 51,
   "id": "492ebb61",
   "metadata": {},
   "outputs": [],
   "source": [
    "freq2['freq_rank']=freq2['freq'].rank(ascending=False,pct=True)"
   ]
  },
  {
   "cell_type": "code",
   "execution_count": null,
   "id": "885dd0ce",
   "metadata": {},
   "outputs": [],
   "source": [
    "monet2['monet_rank']=monet2['monetary'].rank(ascending=False,pct=True)"
   ]
  },
  {
   "cell_type": "code",
   "execution_count": null,
   "id": "fac11a44",
   "metadata": {},
   "outputs": [],
   "source": []
  },
  {
   "cell_type": "code",
   "execution_count": 52,
   "id": "59b31a01",
   "metadata": {},
   "outputs": [
    {
     "data": {
      "application/javascript": [
       "\n",
       "        if (window._pyforest_update_imports_cell) { window._pyforest_update_imports_cell('import numpy as np\\nimport pandas as pd'); }\n",
       "    "
      ],
      "text/plain": [
       "<IPython.core.display.Javascript object>"
      ]
     },
     "metadata": {},
     "output_type": "display_data"
    }
   ],
   "source": [
    "ALL_DATA=pd.merge(customer_recency,freq2,how='left')"
   ]
  },
  {
   "cell_type": "code",
   "execution_count": 53,
   "id": "4b593a18",
   "metadata": {},
   "outputs": [
    {
     "data": {
      "application/javascript": [
       "\n",
       "        if (window._pyforest_update_imports_cell) { window._pyforest_update_imports_cell('import numpy as np\\nimport pandas as pd'); }\n",
       "    "
      ],
      "text/plain": [
       "<IPython.core.display.Javascript object>"
      ]
     },
     "metadata": {},
     "output_type": "display_data"
    }
   ],
   "source": [
    "ALL_DATA=pd.merge(ALL_DATA,monet2,how='left')"
   ]
  },
  {
   "cell_type": "code",
   "execution_count": 54,
   "id": "c72db29d",
   "metadata": {},
   "outputs": [
    {
     "data": {
      "text/html": [
       "<div>\n",
       "<style scoped>\n",
       "    .dataframe tbody tr th:only-of-type {\n",
       "        vertical-align: middle;\n",
       "    }\n",
       "\n",
       "    .dataframe tbody tr th {\n",
       "        vertical-align: top;\n",
       "    }\n",
       "\n",
       "    .dataframe thead th {\n",
       "        text-align: right;\n",
       "    }\n",
       "</style>\n",
       "<table border=\"1\" class=\"dataframe\">\n",
       "  <thead>\n",
       "    <tr style=\"text-align: right;\">\n",
       "      <th></th>\n",
       "      <th>Customer ID</th>\n",
       "      <th>last_date</th>\n",
       "      <th>recency</th>\n",
       "      <th>Recency_Rank</th>\n",
       "      <th>freq</th>\n",
       "      <th>freq_rank</th>\n",
       "      <th>monetary</th>\n",
       "      <th>monet_rank</th>\n",
       "    </tr>\n",
       "  </thead>\n",
       "  <tbody>\n",
       "    <tr>\n",
       "      <th>0</th>\n",
       "      <td>12346.0</td>\n",
       "      <td>2011-01-18</td>\n",
       "      <td>325</td>\n",
       "      <td>0.710338</td>\n",
       "      <td>12</td>\n",
       "      <td>0.118602</td>\n",
       "      <td>6463.038333</td>\n",
       "      <td>0.001530</td>\n",
       "    </tr>\n",
       "    <tr>\n",
       "      <th>1</th>\n",
       "      <td>12347.0</td>\n",
       "      <td>2011-12-07</td>\n",
       "      <td>2</td>\n",
       "      <td>0.031202</td>\n",
       "      <td>8</td>\n",
       "      <td>0.206427</td>\n",
       "      <td>615.191250</td>\n",
       "      <td>0.106104</td>\n",
       "    </tr>\n",
       "    <tr>\n",
       "      <th>2</th>\n",
       "      <td>12348.0</td>\n",
       "      <td>2011-09-25</td>\n",
       "      <td>75</td>\n",
       "      <td>0.458085</td>\n",
       "      <td>5</td>\n",
       "      <td>0.336932</td>\n",
       "      <td>403.880000</td>\n",
       "      <td>0.263051</td>\n",
       "    </tr>\n",
       "    <tr>\n",
       "      <th>3</th>\n",
       "      <td>12349.0</td>\n",
       "      <td>2011-11-21</td>\n",
       "      <td>18</td>\n",
       "      <td>0.192229</td>\n",
       "      <td>4</td>\n",
       "      <td>0.408859</td>\n",
       "      <td>1107.172500</td>\n",
       "      <td>0.028567</td>\n",
       "    </tr>\n",
       "    <tr>\n",
       "      <th>4</th>\n",
       "      <td>12350.0</td>\n",
       "      <td>2011-02-02</td>\n",
       "      <td>310</td>\n",
       "      <td>0.699286</td>\n",
       "      <td>1</td>\n",
       "      <td>0.861843</td>\n",
       "      <td>334.400000</td>\n",
       "      <td>0.375446</td>\n",
       "    </tr>\n",
       "  </tbody>\n",
       "</table>\n",
       "</div>"
      ],
      "text/plain": [
       "   Customer ID  last_date  recency  Recency_Rank  freq  freq_rank  \\\n",
       "0      12346.0 2011-01-18      325      0.710338    12   0.118602   \n",
       "1      12347.0 2011-12-07        2      0.031202     8   0.206427   \n",
       "2      12348.0 2011-09-25       75      0.458085     5   0.336932   \n",
       "3      12349.0 2011-11-21       18      0.192229     4   0.408859   \n",
       "4      12350.0 2011-02-02      310      0.699286     1   0.861843   \n",
       "\n",
       "      monetary  monet_rank  \n",
       "0  6463.038333    0.001530  \n",
       "1   615.191250    0.106104  \n",
       "2   403.880000    0.263051  \n",
       "3  1107.172500    0.028567  \n",
       "4   334.400000    0.375446  "
      ]
     },
     "execution_count": 54,
     "metadata": {},
     "output_type": "execute_result"
    }
   ],
   "source": [
    "ALL_DATA.head()"
   ]
  },
  {
   "cell_type": "code",
   "execution_count": null,
   "id": "69b8ac5e",
   "metadata": {},
   "outputs": [],
   "source": []
  },
  {
   "cell_type": "code",
   "execution_count": 85,
   "id": "0250300f",
   "metadata": {},
   "outputs": [],
   "source": [
    "bins=[0,0.5,1]\n",
    "name=['1','2']"
   ]
  },
  {
   "cell_type": "code",
   "execution_count": 86,
   "id": "be0fbb85",
   "metadata": {},
   "outputs": [
    {
     "data": {
      "application/javascript": [
       "\n",
       "        if (window._pyforest_update_imports_cell) { window._pyforest_update_imports_cell('import seaborn as sns\\nimport numpy as np\\nimport pandas as pd'); }\n",
       "    "
      ],
      "text/plain": [
       "<IPython.core.display.Javascript object>"
      ]
     },
     "metadata": {},
     "output_type": "display_data"
    },
    {
     "data": {
      "text/html": [
       "<div>\n",
       "<style scoped>\n",
       "    .dataframe tbody tr th:only-of-type {\n",
       "        vertical-align: middle;\n",
       "    }\n",
       "\n",
       "    .dataframe tbody tr th {\n",
       "        vertical-align: top;\n",
       "    }\n",
       "\n",
       "    .dataframe thead th {\n",
       "        text-align: right;\n",
       "    }\n",
       "</style>\n",
       "<table border=\"1\" class=\"dataframe\">\n",
       "  <thead>\n",
       "    <tr style=\"text-align: right;\">\n",
       "      <th></th>\n",
       "      <th>Customer ID</th>\n",
       "    </tr>\n",
       "  </thead>\n",
       "  <tbody>\n",
       "    <tr>\n",
       "      <th>0</th>\n",
       "      <td>12346.0</td>\n",
       "    </tr>\n",
       "    <tr>\n",
       "      <th>1</th>\n",
       "      <td>12347.0</td>\n",
       "    </tr>\n",
       "    <tr>\n",
       "      <th>2</th>\n",
       "      <td>12348.0</td>\n",
       "    </tr>\n",
       "    <tr>\n",
       "      <th>3</th>\n",
       "      <td>12349.0</td>\n",
       "    </tr>\n",
       "    <tr>\n",
       "      <th>4</th>\n",
       "      <td>12350.0</td>\n",
       "    </tr>\n",
       "  </tbody>\n",
       "</table>\n",
       "</div>"
      ],
      "text/plain": [
       "   Customer ID\n",
       "0      12346.0\n",
       "1      12347.0\n",
       "2      12348.0\n",
       "3      12349.0\n",
       "4      12350.0"
      ]
     },
     "execution_count": 86,
     "metadata": {},
     "output_type": "execute_result"
    }
   ],
   "source": [
    "final=pd.DataFrame(ALL_DATA['Customer ID'])\n",
    "final.head()"
   ]
  },
  {
   "cell_type": "code",
   "execution_count": 87,
   "id": "5a7abeff",
   "metadata": {},
   "outputs": [
    {
     "data": {
      "application/javascript": [
       "\n",
       "        if (window._pyforest_update_imports_cell) { window._pyforest_update_imports_cell('import seaborn as sns\\nimport numpy as np\\nimport pandas as pd'); }\n",
       "    "
      ],
      "text/plain": [
       "<IPython.core.display.Javascript object>"
      ]
     },
     "metadata": {},
     "output_type": "display_data"
    }
   ],
   "source": [
    "final['recency']=pd.cut(customer_recency['Recency_Rank'],bins,labels=name).astype('string')"
   ]
  },
  {
   "cell_type": "code",
   "execution_count": 88,
   "id": "bb03293e",
   "metadata": {},
   "outputs": [
    {
     "data": {
      "application/javascript": [
       "\n",
       "        if (window._pyforest_update_imports_cell) { window._pyforest_update_imports_cell('import seaborn as sns\\nimport numpy as np\\nimport pandas as pd'); }\n",
       "    "
      ],
      "text/plain": [
       "<IPython.core.display.Javascript object>"
      ]
     },
     "metadata": {},
     "output_type": "display_data"
    }
   ],
   "source": [
    "final['freq']=pd.cut(freq2['freq_rank'],bins,labels=name).astype('string')"
   ]
  },
  {
   "cell_type": "code",
   "execution_count": 89,
   "id": "fc18f30e",
   "metadata": {},
   "outputs": [
    {
     "data": {
      "application/javascript": [
       "\n",
       "        if (window._pyforest_update_imports_cell) { window._pyforest_update_imports_cell('import seaborn as sns\\nimport numpy as np\\nimport pandas as pd'); }\n",
       "    "
      ],
      "text/plain": [
       "<IPython.core.display.Javascript object>"
      ]
     },
     "metadata": {},
     "output_type": "display_data"
    }
   ],
   "source": [
    "final['monet']=pd.cut(monet2['monet_rank'],bins,labels=name).astype('string')"
   ]
  },
  {
   "cell_type": "code",
   "execution_count": 101,
   "id": "ae02e8f4",
   "metadata": {},
   "outputs": [],
   "source": [
    "final['rec_freq_monet']=final['recency']+final['freq']+final['monet']"
   ]
  },
  {
   "cell_type": "code",
   "execution_count": 103,
   "id": "adfbccd8",
   "metadata": {},
   "outputs": [],
   "source": [
    "final=final.sort_values('rec_freq_monet')"
   ]
  },
  {
   "cell_type": "code",
   "execution_count": null,
   "id": "4e2fa423",
   "metadata": {},
   "outputs": [],
   "source": []
  },
  {
   "cell_type": "code",
   "execution_count": 104,
   "id": "7c40e749",
   "metadata": {},
   "outputs": [
    {
     "data": {
      "application/javascript": [
       "\n",
       "        if (window._pyforest_update_imports_cell) { window._pyforest_update_imports_cell('import seaborn as sns\\nimport numpy as np\\nimport pandas as pd'); }\n",
       "    "
      ],
      "text/plain": [
       "<IPython.core.display.Javascript object>"
      ]
     },
     "metadata": {},
     "output_type": "display_data"
    },
    {
     "name": "stderr",
     "output_type": "stream",
     "text": [
      "C:\\Users\\njjanaki\\Anaconda3\\lib\\site-packages\\seaborn\\_decorators.py:36: FutureWarning: Pass the following variable as a keyword arg: x. From version 0.12, the only valid positional argument will be `data`, and passing other arguments without an explicit keyword will result in an error or misinterpretation.\n",
      "  warnings.warn(\n"
     ]
    },
    {
     "data": {
      "text/plain": [
       "<AxesSubplot:xlabel='rec_freq_monet', ylabel='count'>"
      ]
     },
     "execution_count": 104,
     "metadata": {},
     "output_type": "execute_result"
    },
    {
     "data": {
      "image/png": "[encoded data removed]",
      "text/plain": [
       "<Figure size 432x288 with 1 Axes>"
      ]
     },
     "metadata": {
      "needs_background": "light"
     },
     "output_type": "display_data"
    }
   ],
   "source": [
    "sns.countplot('rec_freq_monet',data=final)"
   ]
  },
  {
   "cell_type": "code",
   "execution_count": null,
   "id": "09cf8b19",
   "metadata": {},
   "outputs": [],
   "source": []
  },
  {
   "cell_type": "code",
   "execution_count": null,
   "id": "6b792c7c",
   "metadata": {},
   "outputs": [],
   "source": []
  },
  {
   "cell_type": "code",
   "execution_count": 1,
   "id": "276b77b7",
   "metadata": {},
   "outputs": [],
   "source": [
    "# from sklearn.linear_model import linear_model"
   ]
  },
  {
   "cell_type": "code",
   "execution_count": 37,
   "id": "9102fa49",
   "metadata": {},
   "outputs": [
    {
     "name": "stdout",
     "output_type": "stream",
     "text": [
      "Requirement already satisfied: scikit-learn in c:\\users\\njjanaki\\anaconda3\\lib\\site-packages (1.1.2)\n",
      "Requirement already satisfied: scipy>=1.3.2 in c:\\users\\njjanaki\\anaconda3\\lib\\site-packages (from scikit-learn) (1.8.1)\n",
      "Requirement already satisfied: threadpoolctl>=2.0.0 in c:\\users\\njjanaki\\anaconda3\\lib\\site-packages (from scikit-learn) (3.1.0)\n",
      "Requirement already satisfied: joblib>=1.0.0 in c:\\users\\njjanaki\\anaconda3\\lib\\site-packages (from scikit-learn) (1.1.0)\n",
      "Requirement already satisfied: numpy>=1.17.3 in c:\\users\\njjanaki\\anaconda3\\lib\\site-packages (from scikit-learn) (1.22.4)\n"
     ]
    }
   ],
   "source": [
    "!pip install -U scikit-learn"
   ]
  },
  {
   "cell_type": "code",
   "execution_count": null,
   "id": "2543b530",
   "metadata": {},
   "outputs": [],
   "source": []
  }
 ],
 "metadata": {
  "kernelspec": {
   "display_name": "Python 3 (ipykernel)",
   "language": "python",
   "name": "python3"
  },
  "language_info": {
   "codemirror_mode": {
    "name": "ipython",
    "version": 3
   },
   "file_extension": ".py",
   "mimetype": "text/x-python",
   "name": "python",
   "nbconvert_exporter": "python",
   "pygments_lexer": "ipython3",
   "version": "3.8.8"
  }
 },
 "nbformat": 4,
 "nbformat_minor": 5
}
