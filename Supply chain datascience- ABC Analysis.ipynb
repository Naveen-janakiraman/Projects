{
 "cells": [
  {
   "cell_type": "code",
   "execution_count": 1,
   "id": "53653e8c",
   "metadata": {},
   "outputs": [
    {
     "data": {
      "application/javascript": [
       "\n",
       "        if (window._pyforest_update_imports_cell) { window._pyforest_update_imports_cell('import pandas as pd'); }\n",
       "    "
      ],
      "text/plain": [
       "<IPython.core.display.Javascript object>"
      ]
     },
     "metadata": {},
     "output_type": "display_data"
    },
    {
     "data": {
      "text/html": [
       "<div>\n",
       "<style scoped>\n",
       "    .dataframe tbody tr th:only-of-type {\n",
       "        vertical-align: middle;\n",
       "    }\n",
       "\n",
       "    .dataframe tbody tr th {\n",
       "        vertical-align: top;\n",
       "    }\n",
       "\n",
       "    .dataframe thead th {\n",
       "        text-align: right;\n",
       "    }\n",
       "</style>\n",
       "<table border=\"1\" class=\"dataframe\">\n",
       "  <thead>\n",
       "    <tr style=\"text-align: right;\">\n",
       "      <th></th>\n",
       "      <th>Invoice</th>\n",
       "      <th>StockCode</th>\n",
       "      <th>Description</th>\n",
       "      <th>Quantity</th>\n",
       "      <th>InvoiceDate</th>\n",
       "      <th>Price</th>\n",
       "      <th>Customer ID</th>\n",
       "      <th>Country</th>\n",
       "      <th>date</th>\n",
       "      <th>revenue</th>\n",
       "      <th>year</th>\n",
       "    </tr>\n",
       "  </thead>\n",
       "  <tbody>\n",
       "    <tr>\n",
       "      <th>0</th>\n",
       "      <td>539993.0</td>\n",
       "      <td>22386</td>\n",
       "      <td>JUMBO BAG PINK POLKADOT</td>\n",
       "      <td>10</td>\n",
       "      <td>2011-01-04T10:00:00Z</td>\n",
       "      <td>1.95</td>\n",
       "      <td>13313.0</td>\n",
       "      <td>United Kingdom</td>\n",
       "      <td>2011-01-04</td>\n",
       "      <td>19.5</td>\n",
       "      <td>2011</td>\n",
       "    </tr>\n",
       "    <tr>\n",
       "      <th>1</th>\n",
       "      <td>539993.0</td>\n",
       "      <td>21499</td>\n",
       "      <td>BLUE POLKADOT WRAP</td>\n",
       "      <td>25</td>\n",
       "      <td>2011-01-04T10:00:00Z</td>\n",
       "      <td>0.42</td>\n",
       "      <td>13313.0</td>\n",
       "      <td>United Kingdom</td>\n",
       "      <td>2011-01-04</td>\n",
       "      <td>10.5</td>\n",
       "      <td>2011</td>\n",
       "    </tr>\n",
       "    <tr>\n",
       "      <th>2</th>\n",
       "      <td>539993.0</td>\n",
       "      <td>21498</td>\n",
       "      <td>RED RETROSPOT WRAP</td>\n",
       "      <td>25</td>\n",
       "      <td>2011-01-04T10:00:00Z</td>\n",
       "      <td>0.42</td>\n",
       "      <td>13313.0</td>\n",
       "      <td>United Kingdom</td>\n",
       "      <td>2011-01-04</td>\n",
       "      <td>10.5</td>\n",
       "      <td>2011</td>\n",
       "    </tr>\n",
       "    <tr>\n",
       "      <th>3</th>\n",
       "      <td>539993.0</td>\n",
       "      <td>22379</td>\n",
       "      <td>RECYCLING BAG RETROSPOT</td>\n",
       "      <td>5</td>\n",
       "      <td>2011-01-04T10:00:00Z</td>\n",
       "      <td>2.10</td>\n",
       "      <td>13313.0</td>\n",
       "      <td>United Kingdom</td>\n",
       "      <td>2011-01-04</td>\n",
       "      <td>10.5</td>\n",
       "      <td>2011</td>\n",
       "    </tr>\n",
       "    <tr>\n",
       "      <th>4</th>\n",
       "      <td>539993.0</td>\n",
       "      <td>20718</td>\n",
       "      <td>RED RETROSPOT SHOPPER BAG</td>\n",
       "      <td>10</td>\n",
       "      <td>2011-01-04T10:00:00Z</td>\n",
       "      <td>1.25</td>\n",
       "      <td>13313.0</td>\n",
       "      <td>United Kingdom</td>\n",
       "      <td>2011-01-04</td>\n",
       "      <td>12.5</td>\n",
       "      <td>2011</td>\n",
       "    </tr>\n",
       "  </tbody>\n",
       "</table>\n",
       "</div>"
      ],
      "text/plain": [
       "    Invoice StockCode                Description  Quantity  \\\n",
       "0  539993.0     22386    JUMBO BAG PINK POLKADOT        10   \n",
       "1  539993.0     21499         BLUE POLKADOT WRAP        25   \n",
       "2  539993.0     21498         RED RETROSPOT WRAP        25   \n",
       "3  539993.0     22379    RECYCLING BAG RETROSPOT         5   \n",
       "4  539993.0     20718  RED RETROSPOT SHOPPER BAG        10   \n",
       "\n",
       "            InvoiceDate  Price  Customer ID         Country        date  \\\n",
       "0  2011-01-04T10:00:00Z   1.95      13313.0  United Kingdom  2011-01-04   \n",
       "1  2011-01-04T10:00:00Z   0.42      13313.0  United Kingdom  2011-01-04   \n",
       "2  2011-01-04T10:00:00Z   0.42      13313.0  United Kingdom  2011-01-04   \n",
       "3  2011-01-04T10:00:00Z   2.10      13313.0  United Kingdom  2011-01-04   \n",
       "4  2011-01-04T10:00:00Z   1.25      13313.0  United Kingdom  2011-01-04   \n",
       "\n",
       "   revenue  year  \n",
       "0     19.5  2011  \n",
       "1     10.5  2011  \n",
       "2     10.5  2011  \n",
       "3     10.5  2011  \n",
       "4     12.5  2011  "
      ]
     },
     "execution_count": 1,
     "metadata": {},
     "output_type": "execute_result"
    }
   ],
   "source": [
    "\n",
    "sales=pd.read_csv('C:\\\\documents\\\\study material\\\\data science\\\\supply chain\\\\Udemy - RA Data Science and Supply Chain analytics. A-Z with Python 2020-9\\\\7. Working with dates in Python\\\\12.1 twentyeleven.csv',parse_dates=True)\n",
    "\n",
    "sales.head()"
   ]
  },
  {
   "cell_type": "code",
   "execution_count": 2,
   "id": "5c98ff92",
   "metadata": {},
   "outputs": [
    {
     "data": {
      "text/html": [
       "<div>\n",
       "<style scoped>\n",
       "    .dataframe tbody tr th:only-of-type {\n",
       "        vertical-align: middle;\n",
       "    }\n",
       "\n",
       "    .dataframe tbody tr th {\n",
       "        vertical-align: top;\n",
       "    }\n",
       "\n",
       "    .dataframe thead th {\n",
       "        text-align: right;\n",
       "    }\n",
       "</style>\n",
       "<table border=\"1\" class=\"dataframe\">\n",
       "  <thead>\n",
       "    <tr style=\"text-align: right;\">\n",
       "      <th></th>\n",
       "      <th>Invoice</th>\n",
       "      <th>Quantity</th>\n",
       "      <th>Price</th>\n",
       "      <th>Customer ID</th>\n",
       "      <th>revenue</th>\n",
       "      <th>year</th>\n",
       "    </tr>\n",
       "  </thead>\n",
       "  <tbody>\n",
       "    <tr>\n",
       "      <th>count</th>\n",
       "      <td>484329.000000</td>\n",
       "      <td>484330.000000</td>\n",
       "      <td>484330.000000</td>\n",
       "      <td>367058.000000</td>\n",
       "      <td>484330.000000</td>\n",
       "      <td>484330.0</td>\n",
       "    </tr>\n",
       "    <tr>\n",
       "      <th>mean</th>\n",
       "      <td>561803.767295</td>\n",
       "      <td>10.525988</td>\n",
       "      <td>3.840852</td>\n",
       "      <td>15271.566801</td>\n",
       "      <td>19.769626</td>\n",
       "      <td>2011.0</td>\n",
       "    </tr>\n",
       "    <tr>\n",
       "      <th>std</th>\n",
       "      <td>12304.347788</td>\n",
       "      <td>43.003959</td>\n",
       "      <td>31.532260</td>\n",
       "      <td>1710.331691</td>\n",
       "      <td>91.136800</td>\n",
       "      <td>0.0</td>\n",
       "    </tr>\n",
       "    <tr>\n",
       "      <th>min</th>\n",
       "      <td>539993.000000</td>\n",
       "      <td>1.000000</td>\n",
       "      <td>0.000000</td>\n",
       "      <td>12347.000000</td>\n",
       "      <td>0.000000</td>\n",
       "      <td>2011.0</td>\n",
       "    </tr>\n",
       "    <tr>\n",
       "      <th>25%</th>\n",
       "      <td>550989.000000</td>\n",
       "      <td>1.000000</td>\n",
       "      <td>1.250000</td>\n",
       "      <td>13924.000000</td>\n",
       "      <td>3.900000</td>\n",
       "      <td>2011.0</td>\n",
       "    </tr>\n",
       "    <tr>\n",
       "      <th>50%</th>\n",
       "      <td>562540.000000</td>\n",
       "      <td>4.000000</td>\n",
       "      <td>2.080000</td>\n",
       "      <td>15116.000000</td>\n",
       "      <td>9.950000</td>\n",
       "      <td>2011.0</td>\n",
       "    </tr>\n",
       "    <tr>\n",
       "      <th>75%</th>\n",
       "      <td>572650.000000</td>\n",
       "      <td>12.000000</td>\n",
       "      <td>4.130000</td>\n",
       "      <td>16771.000000</td>\n",
       "      <td>17.700000</td>\n",
       "      <td>2011.0</td>\n",
       "    </tr>\n",
       "    <tr>\n",
       "      <th>max</th>\n",
       "      <td>581587.000000</td>\n",
       "      <td>12540.000000</td>\n",
       "      <td>11062.060000</td>\n",
       "      <td>18287.000000</td>\n",
       "      <td>38970.000000</td>\n",
       "      <td>2011.0</td>\n",
       "    </tr>\n",
       "  </tbody>\n",
       "</table>\n",
       "</div>"
      ],
      "text/plain": [
       "             Invoice       Quantity          Price    Customer ID  \\\n",
       "count  484329.000000  484330.000000  484330.000000  367058.000000   \n",
       "mean   561803.767295      10.525988       3.840852   15271.566801   \n",
       "std     12304.347788      43.003959      31.532260    1710.331691   \n",
       "min    539993.000000       1.000000       0.000000   12347.000000   \n",
       "25%    550989.000000       1.000000       1.250000   13924.000000   \n",
       "50%    562540.000000       4.000000       2.080000   15116.000000   \n",
       "75%    572650.000000      12.000000       4.130000   16771.000000   \n",
       "max    581587.000000   12540.000000   11062.060000   18287.000000   \n",
       "\n",
       "             revenue      year  \n",
       "count  484330.000000  484330.0  \n",
       "mean       19.769626    2011.0  \n",
       "std        91.136800       0.0  \n",
       "min         0.000000    2011.0  \n",
       "25%         3.900000    2011.0  \n",
       "50%         9.950000    2011.0  \n",
       "75%        17.700000    2011.0  \n",
       "max     38970.000000    2011.0  "
      ]
     },
     "execution_count": 2,
     "metadata": {},
     "output_type": "execute_result"
    }
   ],
   "source": [
    "sales.describe()"
   ]
  },
  {
   "cell_type": "code",
   "execution_count": 3,
   "id": "a5e02c9a",
   "metadata": {},
   "outputs": [
    {
     "name": "stdout",
     "output_type": "stream",
     "text": [
      "<class 'pandas.core.frame.DataFrame'>\n",
      "RangeIndex: 484330 entries, 0 to 484329\n",
      "Data columns (total 11 columns):\n",
      " #   Column       Non-Null Count   Dtype  \n",
      "---  ------       --------------   -----  \n",
      " 0   Invoice      484329 non-null  float64\n",
      " 1   StockCode    484330 non-null  object \n",
      " 2   Description  484330 non-null  object \n",
      " 3   Quantity     484330 non-null  int64  \n",
      " 4   InvoiceDate  484330 non-null  object \n",
      " 5   Price        484330 non-null  float64\n",
      " 6   Customer ID  367058 non-null  float64\n",
      " 7   Country      484330 non-null  object \n",
      " 8   date         484330 non-null  object \n",
      " 9   revenue      484330 non-null  float64\n",
      " 10  year         484330 non-null  int64  \n",
      "dtypes: float64(4), int64(2), object(5)\n",
      "memory usage: 40.6+ MB\n"
     ]
    }
   ],
   "source": [
    "sales.info()"
   ]
  },
  {
   "cell_type": "code",
   "execution_count": 2,
   "id": "ca095a1d",
   "metadata": {},
   "outputs": [
    {
     "data": {
      "application/javascript": [
       "\n",
       "        if (window._pyforest_update_imports_cell) { window._pyforest_update_imports_cell('import pandas as pd'); }\n",
       "    "
      ],
      "text/plain": [
       "<IPython.core.display.Javascript object>"
      ]
     },
     "metadata": {},
     "output_type": "display_data"
    },
    {
     "data": {
      "application/javascript": [
       "\n",
       "        if (window._pyforest_update_imports_cell) { window._pyforest_update_imports_cell('import pandas as pd'); }\n",
       "    "
      ],
      "text/plain": [
       "<IPython.core.display.Javascript object>"
      ]
     },
     "metadata": {},
     "output_type": "display_data"
    }
   ],
   "source": [
    "sales['InvoiceDate']=pd.to_datetime(sales['InvoiceDate'])\n",
    "sales['date']=pd.to_datetime(sales['date'])"
   ]
  },
  {
   "cell_type": "code",
   "execution_count": 10,
   "id": "854744ad",
   "metadata": {},
   "outputs": [
    {
     "name": "stdout",
     "output_type": "stream",
     "text": [
      "<class 'pandas.core.frame.DataFrame'>\n",
      "RangeIndex: 484330 entries, 0 to 484329\n",
      "Data columns (total 11 columns):\n",
      " #   Column       Non-Null Count   Dtype              \n",
      "---  ------       --------------   -----              \n",
      " 0   Invoice      484329 non-null  float64            \n",
      " 1   StockCode    484330 non-null  object             \n",
      " 2   Description  484330 non-null  object             \n",
      " 3   Quantity     484330 non-null  int64              \n",
      " 4   InvoiceDate  484330 non-null  datetime64[ns, UTC]\n",
      " 5   Price        484330 non-null  float64            \n",
      " 6   Customer ID  367058 non-null  float64            \n",
      " 7   Country      484330 non-null  object             \n",
      " 8   date         484330 non-null  datetime64[ns]     \n",
      " 9   revenue      484330 non-null  float64            \n",
      " 10  year         484330 non-null  int64              \n",
      "dtypes: datetime64[ns, UTC](1), datetime64[ns](1), float64(4), int64(2), object(3)\n",
      "memory usage: 40.6+ MB\n"
     ]
    }
   ],
   "source": [
    "sales.info()"
   ]
  },
  {
   "cell_type": "code",
   "execution_count": 3,
   "id": "e168bd74",
   "metadata": {},
   "outputs": [],
   "source": [
    "sales=sales.drop_duplicates()"
   ]
  },
  {
   "cell_type": "code",
   "execution_count": 4,
   "id": "b012263b",
   "metadata": {},
   "outputs": [],
   "source": [
    "sales=sales.drop('Customer ID',axis=1)"
   ]
  },
  {
   "cell_type": "code",
   "execution_count": 5,
   "id": "8a94ce0f",
   "metadata": {},
   "outputs": [],
   "source": [
    "sales=sales.dropna()"
   ]
  },
  {
   "cell_type": "code",
   "execution_count": 6,
   "id": "7226f6f7",
   "metadata": {},
   "outputs": [],
   "source": [
    "sales['Revenue']=sales['Quantity']*sales['Price']"
   ]
  },
  {
   "cell_type": "code",
   "execution_count": 7,
   "id": "d2e51f87",
   "metadata": {},
   "outputs": [
    {
     "data": {
      "application/javascript": [
       "\n",
       "        if (window._pyforest_update_imports_cell) { window._pyforest_update_imports_cell('import pandas as pd\\nimport numpy as np'); }\n",
       "    "
      ],
      "text/plain": [
       "<IPython.core.display.Javascript object>"
      ]
     },
     "metadata": {},
     "output_type": "display_data"
    },
    {
     "data": {
      "application/javascript": [
       "\n",
       "        if (window._pyforest_update_imports_cell) { window._pyforest_update_imports_cell('import pandas as pd\\nimport numpy as np'); }\n",
       "    "
      ],
      "text/plain": [
       "<IPython.core.display.Javascript object>"
      ]
     },
     "metadata": {},
     "output_type": "display_data"
    }
   ],
   "source": [
    "des_grouped=sales.groupby(['Description']).agg(total_sales=('Quantity',np.sum),\n",
    "                                              total_revenue=('Revenue',np.sum)).reset_index()"
   ]
  },
  {
   "cell_type": "code",
   "execution_count": 48,
   "id": "b2e39755",
   "metadata": {},
   "outputs": [
    {
     "data": {
      "text/html": [
       "<div>\n",
       "<style scoped>\n",
       "    .dataframe tbody tr th:only-of-type {\n",
       "        vertical-align: middle;\n",
       "    }\n",
       "\n",
       "    .dataframe tbody tr th {\n",
       "        vertical-align: top;\n",
       "    }\n",
       "\n",
       "    .dataframe thead th {\n",
       "        text-align: right;\n",
       "    }\n",
       "</style>\n",
       "<table border=\"1\" class=\"dataframe\">\n",
       "  <thead>\n",
       "    <tr style=\"text-align: right;\">\n",
       "      <th></th>\n",
       "      <th>Description</th>\n",
       "      <th>total_sales</th>\n",
       "      <th>total_revenue</th>\n",
       "    </tr>\n",
       "  </thead>\n",
       "  <tbody>\n",
       "    <tr>\n",
       "      <th>0</th>\n",
       "      <td>10 COLOUR SPACEBOY PEN</td>\n",
       "      <td>5981</td>\n",
       "      <td>5060.18</td>\n",
       "    </tr>\n",
       "    <tr>\n",
       "      <th>1</th>\n",
       "      <td>12 COLOURED PARTY BALLOONS</td>\n",
       "      <td>2072</td>\n",
       "      <td>1357.58</td>\n",
       "    </tr>\n",
       "    <tr>\n",
       "      <th>2</th>\n",
       "      <td>12 DAISY PEGS IN WOOD BOX</td>\n",
       "      <td>332</td>\n",
       "      <td>569.40</td>\n",
       "    </tr>\n",
       "    <tr>\n",
       "      <th>3</th>\n",
       "      <td>12 EGG HOUSE PAINTED WOOD</td>\n",
       "      <td>138</td>\n",
       "      <td>2123.61</td>\n",
       "    </tr>\n",
       "    <tr>\n",
       "      <th>4</th>\n",
       "      <td>12 HANGING EGGS HAND PAINTED</td>\n",
       "      <td>40</td>\n",
       "      <td>83.20</td>\n",
       "    </tr>\n",
       "  </tbody>\n",
       "</table>\n",
       "</div>"
      ],
      "text/plain": [
       "                    Description  total_sales  total_revenue\n",
       "0        10 COLOUR SPACEBOY PEN         5981        5060.18\n",
       "1    12 COLOURED PARTY BALLOONS         2072        1357.58\n",
       "2     12 DAISY PEGS IN WOOD BOX          332         569.40\n",
       "3     12 EGG HOUSE PAINTED WOOD          138        2123.61\n",
       "4  12 HANGING EGGS HAND PAINTED           40          83.20"
      ]
     },
     "execution_count": 48,
     "metadata": {},
     "output_type": "execute_result"
    }
   ],
   "source": [
    "des_grouped.head()"
   ]
  },
  {
   "cell_type": "code",
   "execution_count": 28,
   "id": "1e270149",
   "metadata": {},
   "outputs": [
    {
     "data": {
      "application/javascript": [
       "\n",
       "        if (window._pyforest_update_imports_cell) { window._pyforest_update_imports_cell('import numpy as np\\nimport pandas as pd\\nimport seaborn as sns'); }\n",
       "    "
      ],
      "text/plain": [
       "<IPython.core.display.Javascript object>"
      ]
     },
     "metadata": {},
     "output_type": "display_data"
    },
    {
     "data": {
      "text/plain": [
       "<AxesSubplot:xlabel='total_sales', ylabel='total_revenue'>"
      ]
     },
     "execution_count": 28,
     "metadata": {},
     "output_type": "execute_result"
    },
    {
     "data": {
      "image/png": "[encoded data removed]",
      "text/plain": [
       "<Figure size 432x288 with 1 Axes>"
      ]
     },
     "metadata": {
      "needs_background": "light"
     },
     "output_type": "display_data"
    }
   ],
   "source": [
    "sns.scatterplot(data=des_grouped,x='total_sales',y='total_revenue')"
   ]
  },
  {
   "cell_type": "code",
   "execution_count": 8,
   "id": "9ef2272a",
   "metadata": {},
   "outputs": [
    {
     "data": {
      "application/javascript": [
       "\n",
       "        if (window._pyforest_update_imports_cell) { window._pyforest_update_imports_cell('import pandas as pd\\nimport numpy as np'); }\n",
       "    "
      ],
      "text/plain": [
       "<IPython.core.display.Javascript object>"
      ]
     },
     "metadata": {},
     "output_type": "display_data"
    },
    {
     "data": {
      "application/javascript": [
       "\n",
       "        if (window._pyforest_update_imports_cell) { window._pyforest_update_imports_cell('import pandas as pd\\nimport numpy as np'); }\n",
       "    "
      ],
      "text/plain": [
       "<IPython.core.display.Javascript object>"
      ]
     },
     "metadata": {},
     "output_type": "display_data"
    }
   ],
   "source": [
    "date_grouped=sales.groupby(['date']).agg(total_sales=('Quantity',np.sum),\n",
    "                                              total_revenue=('Revenue',np.sum))"
   ]
  },
  {
   "cell_type": "code",
   "execution_count": 41,
   "id": "6bca784d",
   "metadata": {},
   "outputs": [
    {
     "data": {
      "application/javascript": [
       "\n",
       "        if (window._pyforest_update_imports_cell) { window._pyforest_update_imports_cell('import numpy as np\\nimport pandas as pd\\nimport seaborn as sns\\nimport matplotlib.pyplot as plt'); }\n",
       "    "
      ],
      "text/plain": [
       "<IPython.core.display.Javascript object>"
      ]
     },
     "metadata": {},
     "output_type": "display_data"
    },
    {
     "data": {
      "text/plain": [
       "<Figure size 1440x1440 with 0 Axes>"
      ]
     },
     "metadata": {},
     "output_type": "display_data"
    },
    {
     "data": {
      "image/png": "[encoded data removed]",
      "text/plain": [
       "<Figure size 432x288 with 1 Axes>"
      ]
     },
     "metadata": {
      "needs_background": "light"
     },
     "output_type": "display_data"
    }
   ],
   "source": [
    "plt.figure(figsize=(20,20))\n",
    "date_grouped.plot();"
   ]
  },
  {
   "cell_type": "code",
   "execution_count": 38,
   "id": "242ff03d",
   "metadata": {},
   "outputs": [
    {
     "data": {
      "text/html": [
       "<div>\n",
       "<style scoped>\n",
       "    .dataframe tbody tr th:only-of-type {\n",
       "        vertical-align: middle;\n",
       "    }\n",
       "\n",
       "    .dataframe tbody tr th {\n",
       "        vertical-align: top;\n",
       "    }\n",
       "\n",
       "    .dataframe thead th {\n",
       "        text-align: right;\n",
       "    }\n",
       "</style>\n",
       "<table border=\"1\" class=\"dataframe\">\n",
       "  <thead>\n",
       "    <tr style=\"text-align: right;\">\n",
       "      <th></th>\n",
       "      <th>total_sales</th>\n",
       "      <th>total_revenue</th>\n",
       "    </tr>\n",
       "    <tr>\n",
       "      <th>date</th>\n",
       "      <th></th>\n",
       "      <th></th>\n",
       "    </tr>\n",
       "  </thead>\n",
       "  <tbody>\n",
       "    <tr>\n",
       "      <th>2011-01-04</th>\n",
       "      <td>8630</td>\n",
       "      <td>16005.73</td>\n",
       "    </tr>\n",
       "    <tr>\n",
       "      <th>2011-01-05</th>\n",
       "      <td>19769</td>\n",
       "      <td>32630.27</td>\n",
       "    </tr>\n",
       "    <tr>\n",
       "      <th>2011-01-06</th>\n",
       "      <td>23174</td>\n",
       "      <td>40366.45</td>\n",
       "    </tr>\n",
       "    <tr>\n",
       "      <th>2011-01-07</th>\n",
       "      <td>17160</td>\n",
       "      <td>28836.59</td>\n",
       "    </tr>\n",
       "    <tr>\n",
       "      <th>2011-01-09</th>\n",
       "      <td>8125</td>\n",
       "      <td>15590.68</td>\n",
       "    </tr>\n",
       "  </tbody>\n",
       "</table>\n",
       "</div>"
      ],
      "text/plain": [
       "            total_sales  total_revenue\n",
       "date                                  \n",
       "2011-01-04         8630       16005.73\n",
       "2011-01-05        19769       32630.27\n",
       "2011-01-06        23174       40366.45\n",
       "2011-01-07        17160       28836.59\n",
       "2011-01-09         8125       15590.68"
      ]
     },
     "execution_count": 38,
     "metadata": {},
     "output_type": "execute_result"
    }
   ],
   "source": [
    "date_grouped.head()"
   ]
  },
  {
   "cell_type": "code",
   "execution_count": 9,
   "id": "5fa719b4",
   "metadata": {},
   "outputs": [],
   "source": [
    "import inventorize as inv"
   ]
  },
  {
   "cell_type": "code",
   "execution_count": 10,
   "id": "705b91a9",
   "metadata": {},
   "outputs": [],
   "source": [
    "segregated=inv.ABC(des_grouped[['Description','total_sales']])"
   ]
  },
  {
   "cell_type": "code",
   "execution_count": 11,
   "id": "e2f22e94",
   "metadata": {},
   "outputs": [
    {
     "data": {
      "text/html": [
       "<div>\n",
       "<style scoped>\n",
       "    .dataframe tbody tr th:only-of-type {\n",
       "        vertical-align: middle;\n",
       "    }\n",
       "\n",
       "    .dataframe tbody tr th {\n",
       "        vertical-align: top;\n",
       "    }\n",
       "\n",
       "    .dataframe thead th {\n",
       "        text-align: right;\n",
       "    }\n",
       "</style>\n",
       "<table border=\"1\" class=\"dataframe\">\n",
       "  <thead>\n",
       "    <tr style=\"text-align: right;\">\n",
       "      <th></th>\n",
       "      <th>Description</th>\n",
       "      <th>total_sales</th>\n",
       "      <th>Percentage</th>\n",
       "      <th>comulative</th>\n",
       "      <th>Category</th>\n",
       "    </tr>\n",
       "  </thead>\n",
       "  <tbody>\n",
       "    <tr>\n",
       "      <th>3837</th>\n",
       "      <td>WORLD WAR 2 GLIDERS ASSTD DESIGNS</td>\n",
       "      <td>49756</td>\n",
       "      <td>9.759808e-03</td>\n",
       "      <td>0.009760</td>\n",
       "      <td>A</td>\n",
       "    </tr>\n",
       "    <tr>\n",
       "      <th>1758</th>\n",
       "      <td>JUMBO BAG RED RETROSPOT</td>\n",
       "      <td>46223</td>\n",
       "      <td>9.066798e-03</td>\n",
       "      <td>0.018827</td>\n",
       "      <td>A</td>\n",
       "    </tr>\n",
       "    <tr>\n",
       "      <th>2603</th>\n",
       "      <td>POPCORN HOLDER</td>\n",
       "      <td>36749</td>\n",
       "      <td>7.208441e-03</td>\n",
       "      <td>0.026035</td>\n",
       "      <td>A</td>\n",
       "    </tr>\n",
       "    <tr>\n",
       "      <th>3747</th>\n",
       "      <td>WHITE HANGING HEART T-LIGHT HOLDER</td>\n",
       "      <td>34005</td>\n",
       "      <td>6.670196e-03</td>\n",
       "      <td>0.032705</td>\n",
       "      <td>A</td>\n",
       "    </tr>\n",
       "    <tr>\n",
       "      <th>214</th>\n",
       "      <td>ASSORTED COLOUR BIRD ORNAMENT</td>\n",
       "      <td>33999</td>\n",
       "      <td>6.669019e-03</td>\n",
       "      <td>0.039374</td>\n",
       "      <td>A</td>\n",
       "    </tr>\n",
       "    <tr>\n",
       "      <th>...</th>\n",
       "      <td>...</td>\n",
       "      <td>...</td>\n",
       "      <td>...</td>\n",
       "      <td>...</td>\n",
       "      <td>...</td>\n",
       "    </tr>\n",
       "    <tr>\n",
       "      <th>1849</th>\n",
       "      <td>LARGE TAHITI BEACH BAG</td>\n",
       "      <td>1</td>\n",
       "      <td>1.961534e-07</td>\n",
       "      <td>0.999999</td>\n",
       "      <td>C</td>\n",
       "    </tr>\n",
       "    <tr>\n",
       "      <th>3762</th>\n",
       "      <td>WHITE SILVER NECKLACE SHELL GLASS</td>\n",
       "      <td>1</td>\n",
       "      <td>1.961534e-07</td>\n",
       "      <td>0.999999</td>\n",
       "      <td>C</td>\n",
       "    </tr>\n",
       "    <tr>\n",
       "      <th>279</th>\n",
       "      <td>BAROQUE BUTTERFLY EARRINGS RED</td>\n",
       "      <td>1</td>\n",
       "      <td>1.961534e-07</td>\n",
       "      <td>1.000000</td>\n",
       "      <td>C</td>\n",
       "    </tr>\n",
       "    <tr>\n",
       "      <th>277</th>\n",
       "      <td>BAROQUE BUTTERFLY EARRINGS MONTANA</td>\n",
       "      <td>1</td>\n",
       "      <td>1.961534e-07</td>\n",
       "      <td>1.000000</td>\n",
       "      <td>C</td>\n",
       "    </tr>\n",
       "    <tr>\n",
       "      <th>3793</th>\n",
       "      <td>WIRE FLOWER T-LIGHT HOLDER</td>\n",
       "      <td>1</td>\n",
       "      <td>1.961534e-07</td>\n",
       "      <td>1.000000</td>\n",
       "      <td>C</td>\n",
       "    </tr>\n",
       "  </tbody>\n",
       "</table>\n",
       "<p>3959 rows × 5 columns</p>\n",
       "</div>"
      ],
      "text/plain": [
       "                             Description  total_sales    Percentage  \\\n",
       "3837   WORLD WAR 2 GLIDERS ASSTD DESIGNS        49756  9.759808e-03   \n",
       "1758             JUMBO BAG RED RETROSPOT        46223  9.066798e-03   \n",
       "2603                      POPCORN HOLDER        36749  7.208441e-03   \n",
       "3747  WHITE HANGING HEART T-LIGHT HOLDER        34005  6.670196e-03   \n",
       "214        ASSORTED COLOUR BIRD ORNAMENT        33999  6.669019e-03   \n",
       "...                                  ...          ...           ...   \n",
       "1849              LARGE TAHITI BEACH BAG            1  1.961534e-07   \n",
       "3762   WHITE SILVER NECKLACE SHELL GLASS            1  1.961534e-07   \n",
       "279       BAROQUE BUTTERFLY EARRINGS RED            1  1.961534e-07   \n",
       "277   BAROQUE BUTTERFLY EARRINGS MONTANA            1  1.961534e-07   \n",
       "3793          WIRE FLOWER T-LIGHT HOLDER            1  1.961534e-07   \n",
       "\n",
       "      comulative Category  \n",
       "3837    0.009760        A  \n",
       "1758    0.018827        A  \n",
       "2603    0.026035        A  \n",
       "3747    0.032705        A  \n",
       "214     0.039374        A  \n",
       "...          ...      ...  \n",
       "1849    0.999999        C  \n",
       "3762    0.999999        C  \n",
       "279     1.000000        C  \n",
       "277     1.000000        C  \n",
       "3793    1.000000        C  \n",
       "\n",
       "[3959 rows x 5 columns]"
      ]
     },
     "execution_count": 11,
     "metadata": {},
     "output_type": "execute_result"
    }
   ],
   "source": [
    "segregated"
   ]
  },
  {
   "cell_type": "code",
   "execution_count": 12,
   "id": "d6d61063",
   "metadata": {},
   "outputs": [
    {
     "data": {
      "text/plain": [
       "C    2150\n",
       "A     917\n",
       "B     892\n",
       "Name: Category, dtype: int64"
      ]
     },
     "execution_count": 12,
     "metadata": {},
     "output_type": "execute_result"
    }
   ],
   "source": [
    "segregated.Category.value_counts()"
   ]
  },
  {
   "cell_type": "code",
   "execution_count": 13,
   "id": "e51f2114",
   "metadata": {},
   "outputs": [
    {
     "data": {
      "application/javascript": [
       "\n",
       "        if (window._pyforest_update_imports_cell) { window._pyforest_update_imports_cell('import pandas as pd\\nimport numpy as np\\nimport seaborn as sns'); }\n",
       "    "
      ],
      "text/plain": [
       "<IPython.core.display.Javascript object>"
      ]
     },
     "metadata": {},
     "output_type": "display_data"
    },
    {
     "data": {
      "text/plain": [
       "<AxesSubplot:xlabel='Category', ylabel='count'>"
      ]
     },
     "execution_count": 13,
     "metadata": {},
     "output_type": "execute_result"
    },
    {
     "data": {
      "image/png": "[encoded data removed]",
      "text/plain": [
       "<Figure size 432x288 with 1 Axes>"
      ]
     },
     "metadata": {
      "needs_background": "light"
     },
     "output_type": "display_data"
    }
   ],
   "source": [
    "sns.countplot(x='Category',data=segregated)"
   ]
  },
  {
   "cell_type": "code",
   "execution_count": 14,
   "id": "0313fd25",
   "metadata": {},
   "outputs": [
    {
     "data": {
      "application/javascript": [
       "\n",
       "        if (window._pyforest_update_imports_cell) { window._pyforest_update_imports_cell('import pandas as pd\\nimport numpy as np\\nimport seaborn as sns'); }\n",
       "    "
      ],
      "text/plain": [
       "<IPython.core.display.Javascript object>"
      ]
     },
     "metadata": {},
     "output_type": "display_data"
    },
    {
     "data": {
      "text/plain": [
       "<AxesSubplot:xlabel='Category', ylabel='total_sales'>"
      ]
     },
     "execution_count": 14,
     "metadata": {},
     "output_type": "execute_result"
    },
    {
     "data": {
      "image/png": "[encoded data removed]",
      "text/plain": [
       "<Figure size 432x288 with 1 Axes>"
      ]
     },
     "metadata": {
      "needs_background": "light"
     },
     "output_type": "display_data"
    }
   ],
   "source": [
    "sns.barplot(x='Category',y='total_sales',data=segregated)"
   ]
  },
  {
   "cell_type": "code",
   "execution_count": 15,
   "id": "cbe5d407",
   "metadata": {},
   "outputs": [],
   "source": [
    "# for multi segment ABC analysis"
   ]
  },
  {
   "cell_type": "code",
   "execution_count": 17,
   "id": "b3e91955",
   "metadata": {},
   "outputs": [],
   "source": [
    "multi_segregated=inv.productmix(des_grouped['Description'],des_grouped['total_sales'],des_grouped['total_revenue'])"
   ]
  },
  {
   "cell_type": "code",
   "execution_count": 18,
   "id": "23656d76",
   "metadata": {},
   "outputs": [
    {
     "data": {
      "text/html": [
       "<div>\n",
       "<style scoped>\n",
       "    .dataframe tbody tr th:only-of-type {\n",
       "        vertical-align: middle;\n",
       "    }\n",
       "\n",
       "    .dataframe tbody tr th {\n",
       "        vertical-align: top;\n",
       "    }\n",
       "\n",
       "    .dataframe thead th {\n",
       "        text-align: right;\n",
       "    }\n",
       "</style>\n",
       "<table border=\"1\" class=\"dataframe\">\n",
       "  <thead>\n",
       "    <tr style=\"text-align: right;\">\n",
       "      <th></th>\n",
       "      <th>skus</th>\n",
       "      <th>sales</th>\n",
       "      <th>revenue</th>\n",
       "      <th>sales_mix</th>\n",
       "      <th>comulative_sales</th>\n",
       "      <th>revenue_mix</th>\n",
       "      <th>comulative_revenue</th>\n",
       "      <th>sales_category</th>\n",
       "      <th>revenue_category</th>\n",
       "      <th>product_mix</th>\n",
       "    </tr>\n",
       "  </thead>\n",
       "  <tbody>\n",
       "    <tr>\n",
       "      <th>1027</th>\n",
       "      <td>DOTCOM POSTAGE</td>\n",
       "      <td>654</td>\n",
       "      <td>181577.58</td>\n",
       "      <td>0.000128</td>\n",
       "      <td>0.920750</td>\n",
       "      <td>0.018986</td>\n",
       "      <td>0.018986</td>\n",
       "      <td>B</td>\n",
       "      <td>A</td>\n",
       "      <td>B_A</td>\n",
       "    </tr>\n",
       "    <tr>\n",
       "      <th>2772</th>\n",
       "      <td>REGENCY CAKESTAND 3 TIER</td>\n",
       "      <td>11775</td>\n",
       "      <td>146461.78</td>\n",
       "      <td>0.002310</td>\n",
       "      <td>0.189124</td>\n",
       "      <td>0.015314</td>\n",
       "      <td>0.034300</td>\n",
       "      <td>A</td>\n",
       "      <td>A</td>\n",
       "      <td>A_A</td>\n",
       "    </tr>\n",
       "    <tr>\n",
       "      <th>2348</th>\n",
       "      <td>PARTY BUNTING</td>\n",
       "      <td>18050</td>\n",
       "      <td>98237.49</td>\n",
       "      <td>0.003541</td>\n",
       "      <td>0.094163</td>\n",
       "      <td>0.010272</td>\n",
       "      <td>0.044571</td>\n",
       "      <td>A</td>\n",
       "      <td>A</td>\n",
       "      <td>A_A</td>\n",
       "    </tr>\n",
       "    <tr>\n",
       "      <th>3747</th>\n",
       "      <td>WHITE HANGING HEART T-LIGHT HOLDER</td>\n",
       "      <td>34005</td>\n",
       "      <td>95002.50</td>\n",
       "      <td>0.006670</td>\n",
       "      <td>0.032705</td>\n",
       "      <td>0.009933</td>\n",
       "      <td>0.054505</td>\n",
       "      <td>A</td>\n",
       "      <td>A</td>\n",
       "      <td>A_A</td>\n",
       "    </tr>\n",
       "    <tr>\n",
       "      <th>1758</th>\n",
       "      <td>JUMBO BAG RED RETROSPOT</td>\n",
       "      <td>46223</td>\n",
       "      <td>90140.66</td>\n",
       "      <td>0.009067</td>\n",
       "      <td>0.018827</td>\n",
       "      <td>0.009425</td>\n",
       "      <td>0.063930</td>\n",
       "      <td>A</td>\n",
       "      <td>A</td>\n",
       "      <td>A_A</td>\n",
       "    </tr>\n",
       "  </tbody>\n",
       "</table>\n",
       "</div>"
      ],
      "text/plain": [
       "                                    skus  sales    revenue  sales_mix  \\\n",
       "1027                      DOTCOM POSTAGE    654  181577.58   0.000128   \n",
       "2772            REGENCY CAKESTAND 3 TIER  11775  146461.78   0.002310   \n",
       "2348                       PARTY BUNTING  18050   98237.49   0.003541   \n",
       "3747  WHITE HANGING HEART T-LIGHT HOLDER  34005   95002.50   0.006670   \n",
       "1758             JUMBO BAG RED RETROSPOT  46223   90140.66   0.009067   \n",
       "\n",
       "      comulative_sales  revenue_mix  comulative_revenue sales_category  \\\n",
       "1027          0.920750     0.018986            0.018986              B   \n",
       "2772          0.189124     0.015314            0.034300              A   \n",
       "2348          0.094163     0.010272            0.044571              A   \n",
       "3747          0.032705     0.009933            0.054505              A   \n",
       "1758          0.018827     0.009425            0.063930              A   \n",
       "\n",
       "     revenue_category product_mix  \n",
       "1027                A         B_A  \n",
       "2772                A         A_A  \n",
       "2348                A         A_A  \n",
       "3747                A         A_A  \n",
       "1758                A         A_A  "
      ]
     },
     "execution_count": 18,
     "metadata": {},
     "output_type": "execute_result"
    }
   ],
   "source": [
    "multi_segregated.head()"
   ]
  },
  {
   "cell_type": "code",
   "execution_count": 19,
   "id": "b4096ede",
   "metadata": {},
   "outputs": [
    {
     "data": {
      "text/plain": [
       "C_C    1814\n",
       "A_A     572\n",
       "B_B     404\n",
       "A_B     290\n",
       "C_B     284\n",
       "B_C     283\n",
       "B_A     205\n",
       "A_C      55\n",
       "C_A      52\n",
       "Name: product_mix, dtype: int64"
      ]
     },
     "execution_count": 19,
     "metadata": {},
     "output_type": "execute_result"
    }
   ],
   "source": [
    "multi_segregated['product_mix'].value_counts()"
   ]
  },
  {
   "cell_type": "code",
   "execution_count": 20,
   "id": "72691909",
   "metadata": {},
   "outputs": [
    {
     "data": {
      "application/javascript": [
       "\n",
       "        if (window._pyforest_update_imports_cell) { window._pyforest_update_imports_cell('import pandas as pd\\nimport numpy as np\\nimport seaborn as sns'); }\n",
       "    "
      ],
      "text/plain": [
       "<IPython.core.display.Javascript object>"
      ]
     },
     "metadata": {},
     "output_type": "display_data"
    },
    {
     "data": {
      "text/plain": [
       "<AxesSubplot:xlabel='product_mix', ylabel='count'>"
      ]
     },
     "execution_count": 20,
     "metadata": {},
     "output_type": "execute_result"
    },
    {
     "data": {
      "image/png": "[encoded data removed]",
      "text/plain": [
       "<Figure size 432x288 with 1 Axes>"
      ]
     },
     "metadata": {
      "needs_background": "light"
     },
     "output_type": "display_data"
    }
   ],
   "source": [
    "sns.countplot(data=multi_segregated,x='product_mix')"
   ]
  },
  {
   "cell_type": "code",
   "execution_count": 21,
   "id": "4f71ab0b",
   "metadata": {},
   "outputs": [
    {
     "data": {
      "application/javascript": [
       "\n",
       "        if (window._pyforest_update_imports_cell) { window._pyforest_update_imports_cell('import pandas as pd\\nimport numpy as np\\nimport seaborn as sns'); }\n",
       "    "
      ],
      "text/plain": [
       "<IPython.core.display.Javascript object>"
      ]
     },
     "metadata": {},
     "output_type": "display_data"
    },
    {
     "data": {
      "text/plain": [
       "<AxesSubplot:xlabel='product_mix', ylabel='revenue'>"
      ]
     },
     "execution_count": 21,
     "metadata": {},
     "output_type": "execute_result"
    },
    {
     "data": {
      "image/png": "[encoded data removed]",
      "text/plain": [
       "<Figure size 432x288 with 1 Axes>"
      ]
     },
     "metadata": {
      "needs_background": "light"
     },
     "output_type": "display_data"
    }
   ],
   "source": [
    "# revenue\n",
    "sns.barplot(data=multi_segregated,x='product_mix',y='revenue')"
   ]
  },
  {
   "cell_type": "code",
   "execution_count": 22,
   "id": "2de91b00",
   "metadata": {},
   "outputs": [
    {
     "data": {
      "application/javascript": [
       "\n",
       "        if (window._pyforest_update_imports_cell) { window._pyforest_update_imports_cell('import pandas as pd\\nimport numpy as np\\nimport seaborn as sns'); }\n",
       "    "
      ],
      "text/plain": [
       "<IPython.core.display.Javascript object>"
      ]
     },
     "metadata": {},
     "output_type": "display_data"
    },
    {
     "data": {
      "text/plain": [
       "<AxesSubplot:xlabel='product_mix', ylabel='sales'>"
      ]
     },
     "execution_count": 22,
     "metadata": {},
     "output_type": "execute_result"
    },
    {
     "data": {
      "image/png": "[encoded data removed]",
      "text/plain": [
       "<Figure size 432x288 with 1 Axes>"
      ]
     },
     "metadata": {
      "needs_background": "light"
     },
     "output_type": "display_data"
    }
   ],
   "source": [
    "\n",
    "# sales\n",
    "sns.barplot(data=multi_segregated,x='product_mix',y='sales')"
   ]
  },
  {
   "cell_type": "code",
   "execution_count": null,
   "id": "6db21e9e",
   "metadata": {},
   "outputs": [],
   "source": [
    "# store level ABC analysis"
   ]
  },
  {
   "cell_type": "code",
   "execution_count": 26,
   "id": "0d13c83c",
   "metadata": {},
   "outputs": [
    {
     "data": {
      "application/javascript": [
       "\n",
       "        if (window._pyforest_update_imports_cell) { window._pyforest_update_imports_cell('import pandas as pd\\nimport numpy as np\\nimport seaborn as sns'); }\n",
       "    "
      ],
      "text/plain": [
       "<IPython.core.display.Javascript object>"
      ]
     },
     "metadata": {},
     "output_type": "display_data"
    },
    {
     "data": {
      "application/javascript": [
       "\n",
       "        if (window._pyforest_update_imports_cell) { window._pyforest_update_imports_cell('import pandas as pd\\nimport numpy as np\\nimport seaborn as sns'); }\n",
       "    "
      ],
      "text/plain": [
       "<IPython.core.display.Javascript object>"
      ]
     },
     "metadata": {},
     "output_type": "display_data"
    }
   ],
   "source": [
    "country_grouped=sales.groupby(['Country','Description']).agg(total_sales=('Quantity',np.sum),\n",
    "                                              total_revenue=('Revenue',np.sum)).reset_index()"
   ]
  },
  {
   "cell_type": "code",
   "execution_count": 27,
   "id": "b5590215",
   "metadata": {},
   "outputs": [
    {
     "name": "stderr",
     "output_type": "stream",
     "text": [
      "C:\\Users\\njjanaki\\Anaconda3\\lib\\site-packages\\inventorize\\__init__.py:1108: SettingWithCopyWarning: \n",
      "A value is trying to be set on a copy of a slice from a DataFrame.\n",
      "Try using .loc[row_indexer,col_indexer] = value instead\n",
      "\n",
      "See the caveats in the documentation: https://pandas.pydata.org/pandas-docs/stable/user_guide/indexing.html#returning-a-view-versus-a-copy\n",
      "  store['sales_mix']= store['sales']/sum(store['sales'])\n"
     ]
    }
   ],
   "source": [
    "mix_segregated=inv.productmix_storelevel(country_grouped['Description'],country_grouped['total_sales'],country_grouped['total_revenue'],country_grouped['Country'])"
   ]
  },
  {
   "cell_type": "code",
   "execution_count": 31,
   "id": "f9ba3eb0",
   "metadata": {},
   "outputs": [
    {
     "data": {
      "text/plain": [
       "Index(['sku', 'sales', 'revenue', 'storeofsku', 'sales_mix',\n",
       "       'comulative_sales', 'revenue_mix', 'comulative_revenue',\n",
       "       'sales_category', 'revenue_category', 'product_mix'],\n",
       "      dtype='object')"
      ]
     },
     "execution_count": 31,
     "metadata": {},
     "output_type": "execute_result"
    }
   ],
   "source": [
    "mix_segregated.columns"
   ]
  },
  {
   "cell_type": "code",
   "execution_count": 32,
   "id": "0de77a85",
   "metadata": {},
   "outputs": [
    {
     "data": {
      "text/html": [
       "<div>\n",
       "<style scoped>\n",
       "    .dataframe tbody tr th:only-of-type {\n",
       "        vertical-align: middle;\n",
       "    }\n",
       "\n",
       "    .dataframe tbody tr th {\n",
       "        vertical-align: top;\n",
       "    }\n",
       "\n",
       "    .dataframe thead th {\n",
       "        text-align: right;\n",
       "    }\n",
       "</style>\n",
       "<table border=\"1\" class=\"dataframe\">\n",
       "  <thead>\n",
       "    <tr style=\"text-align: right;\">\n",
       "      <th></th>\n",
       "      <th>sku</th>\n",
       "      <th>sales</th>\n",
       "      <th>revenue</th>\n",
       "      <th>storeofsku</th>\n",
       "      <th>sales_mix</th>\n",
       "      <th>comulative_sales</th>\n",
       "      <th>revenue_mix</th>\n",
       "      <th>comulative_revenue</th>\n",
       "      <th>sales_category</th>\n",
       "      <th>revenue_category</th>\n",
       "      <th>product_mix</th>\n",
       "    </tr>\n",
       "  </thead>\n",
       "  <tbody>\n",
       "    <tr>\n",
       "      <th>369</th>\n",
       "      <td>RABBIT NIGHT LIGHT</td>\n",
       "      <td>1884</td>\n",
       "      <td>3375.84</td>\n",
       "      <td>Australia</td>\n",
       "      <td>0.022498</td>\n",
       "      <td>0.057749</td>\n",
       "      <td>0.024554</td>\n",
       "      <td>0.024554</td>\n",
       "      <td>A</td>\n",
       "      <td>A</td>\n",
       "      <td>A_A</td>\n",
       "    </tr>\n",
       "    <tr>\n",
       "      <th>488</th>\n",
       "      <td>SET OF 6 SPICE TINS PANTRY DESIGN</td>\n",
       "      <td>600</td>\n",
       "      <td>2082.00</td>\n",
       "      <td>Australia</td>\n",
       "      <td>0.007165</td>\n",
       "      <td>0.170619</td>\n",
       "      <td>0.015143</td>\n",
       "      <td>0.039697</td>\n",
       "      <td>A</td>\n",
       "      <td>A</td>\n",
       "      <td>A_A</td>\n",
       "    </tr>\n",
       "    <tr>\n",
       "      <th>401</th>\n",
       "      <td>RED TOADSTOOL LED NIGHT LIGHT</td>\n",
       "      <td>1344</td>\n",
       "      <td>1987.20</td>\n",
       "      <td>Australia</td>\n",
       "      <td>0.016049</td>\n",
       "      <td>0.094146</td>\n",
       "      <td>0.014454</td>\n",
       "      <td>0.054150</td>\n",
       "      <td>A</td>\n",
       "      <td>A</td>\n",
       "      <td>A_A</td>\n",
       "    </tr>\n",
       "    <tr>\n",
       "      <th>464</th>\n",
       "      <td>SET OF 3 CAKE TINS PANTRY DESIGN</td>\n",
       "      <td>464</td>\n",
       "      <td>1983.20</td>\n",
       "      <td>Australia</td>\n",
       "      <td>0.005541</td>\n",
       "      <td>0.221657</td>\n",
       "      <td>0.014424</td>\n",
       "      <td>0.068575</td>\n",
       "      <td>A</td>\n",
       "      <td>A</td>\n",
       "      <td>A_A</td>\n",
       "    </tr>\n",
       "    <tr>\n",
       "      <th>403</th>\n",
       "      <td>REGENCY CAKESTAND 3 TIER</td>\n",
       "      <td>180</td>\n",
       "      <td>1978.20</td>\n",
       "      <td>Australia</td>\n",
       "      <td>0.002149</td>\n",
       "      <td>0.684734</td>\n",
       "      <td>0.014388</td>\n",
       "      <td>0.082963</td>\n",
       "      <td>A</td>\n",
       "      <td>A</td>\n",
       "      <td>A_A</td>\n",
       "    </tr>\n",
       "  </tbody>\n",
       "</table>\n",
       "</div>"
      ],
      "text/plain": [
       "                                   sku  sales  revenue storeofsku  sales_mix  \\\n",
       "369                 RABBIT NIGHT LIGHT   1884  3375.84  Australia   0.022498   \n",
       "488  SET OF 6 SPICE TINS PANTRY DESIGN    600  2082.00  Australia   0.007165   \n",
       "401      RED TOADSTOOL LED NIGHT LIGHT   1344  1987.20  Australia   0.016049   \n",
       "464   SET OF 3 CAKE TINS PANTRY DESIGN    464  1983.20  Australia   0.005541   \n",
       "403           REGENCY CAKESTAND 3 TIER    180  1978.20  Australia   0.002149   \n",
       "\n",
       "     comulative_sales  revenue_mix  comulative_revenue sales_category  \\\n",
       "369          0.057749     0.024554            0.024554              A   \n",
       "488          0.170619     0.015143            0.039697              A   \n",
       "401          0.094146     0.014454            0.054150              A   \n",
       "464          0.221657     0.014424            0.068575              A   \n",
       "403          0.684734     0.014388            0.082963              A   \n",
       "\n",
       "    revenue_category product_mix  \n",
       "369                A         A_A  \n",
       "488                A         A_A  \n",
       "401                A         A_A  \n",
       "464                A         A_A  \n",
       "403                A         A_A  "
      ]
     },
     "execution_count": 32,
     "metadata": {},
     "output_type": "execute_result"
    }
   ],
   "source": [
    "mix_segregated.head()"
   ]
  },
  {
   "cell_type": "code",
   "execution_count": 44,
   "id": "80952c92",
   "metadata": {},
   "outputs": [],
   "source": [
    "product_store=mix_segregated.groupby(['storeofsku','product_mix']).count().reset_index()"
   ]
  },
  {
   "cell_type": "code",
   "execution_count": 45,
   "id": "ebc21925",
   "metadata": {},
   "outputs": [
    {
     "data": {
      "text/html": [
       "<div>\n",
       "<style scoped>\n",
       "    .dataframe tbody tr th:only-of-type {\n",
       "        vertical-align: middle;\n",
       "    }\n",
       "\n",
       "    .dataframe tbody tr th {\n",
       "        vertical-align: top;\n",
       "    }\n",
       "\n",
       "    .dataframe thead th {\n",
       "        text-align: right;\n",
       "    }\n",
       "</style>\n",
       "<table border=\"1\" class=\"dataframe\">\n",
       "  <thead>\n",
       "    <tr style=\"text-align: right;\">\n",
       "      <th></th>\n",
       "      <th>storeofsku</th>\n",
       "      <th>product_mix</th>\n",
       "      <th>sku</th>\n",
       "      <th>sales</th>\n",
       "      <th>revenue</th>\n",
       "      <th>sales_mix</th>\n",
       "      <th>comulative_sales</th>\n",
       "      <th>revenue_mix</th>\n",
       "      <th>comulative_revenue</th>\n",
       "      <th>sales_category</th>\n",
       "      <th>revenue_category</th>\n",
       "    </tr>\n",
       "  </thead>\n",
       "  <tbody>\n",
       "    <tr>\n",
       "      <th>0</th>\n",
       "      <td>Australia</td>\n",
       "      <td>A_A</td>\n",
       "      <td>149</td>\n",
       "      <td>149</td>\n",
       "      <td>149</td>\n",
       "      <td>149</td>\n",
       "      <td>149</td>\n",
       "      <td>149</td>\n",
       "      <td>149</td>\n",
       "      <td>149</td>\n",
       "      <td>149</td>\n",
       "    </tr>\n",
       "    <tr>\n",
       "      <th>1</th>\n",
       "      <td>Australia</td>\n",
       "      <td>A_B</td>\n",
       "      <td>63</td>\n",
       "      <td>63</td>\n",
       "      <td>63</td>\n",
       "      <td>63</td>\n",
       "      <td>63</td>\n",
       "      <td>63</td>\n",
       "      <td>63</td>\n",
       "      <td>63</td>\n",
       "      <td>63</td>\n",
       "    </tr>\n",
       "    <tr>\n",
       "      <th>2</th>\n",
       "      <td>Australia</td>\n",
       "      <td>A_C</td>\n",
       "      <td>20</td>\n",
       "      <td>20</td>\n",
       "      <td>20</td>\n",
       "      <td>20</td>\n",
       "      <td>20</td>\n",
       "      <td>20</td>\n",
       "      <td>20</td>\n",
       "      <td>20</td>\n",
       "      <td>20</td>\n",
       "    </tr>\n",
       "    <tr>\n",
       "      <th>3</th>\n",
       "      <td>Australia</td>\n",
       "      <td>B_A</td>\n",
       "      <td>58</td>\n",
       "      <td>58</td>\n",
       "      <td>58</td>\n",
       "      <td>58</td>\n",
       "      <td>58</td>\n",
       "      <td>58</td>\n",
       "      <td>58</td>\n",
       "      <td>58</td>\n",
       "      <td>58</td>\n",
       "    </tr>\n",
       "    <tr>\n",
       "      <th>4</th>\n",
       "      <td>Australia</td>\n",
       "      <td>B_B</td>\n",
       "      <td>64</td>\n",
       "      <td>64</td>\n",
       "      <td>64</td>\n",
       "      <td>64</td>\n",
       "      <td>64</td>\n",
       "      <td>64</td>\n",
       "      <td>64</td>\n",
       "      <td>64</td>\n",
       "      <td>64</td>\n",
       "    </tr>\n",
       "    <tr>\n",
       "      <th>...</th>\n",
       "      <td>...</td>\n",
       "      <td>...</td>\n",
       "      <td>...</td>\n",
       "      <td>...</td>\n",
       "      <td>...</td>\n",
       "      <td>...</td>\n",
       "      <td>...</td>\n",
       "      <td>...</td>\n",
       "      <td>...</td>\n",
       "      <td>...</td>\n",
       "      <td>...</td>\n",
       "    </tr>\n",
       "    <tr>\n",
       "      <th>315</th>\n",
       "      <td>Unspecified</td>\n",
       "      <td>B_B</td>\n",
       "      <td>27</td>\n",
       "      <td>27</td>\n",
       "      <td>27</td>\n",
       "      <td>27</td>\n",
       "      <td>27</td>\n",
       "      <td>27</td>\n",
       "      <td>27</td>\n",
       "      <td>27</td>\n",
       "      <td>27</td>\n",
       "    </tr>\n",
       "    <tr>\n",
       "      <th>316</th>\n",
       "      <td>Unspecified</td>\n",
       "      <td>B_C</td>\n",
       "      <td>9</td>\n",
       "      <td>9</td>\n",
       "      <td>9</td>\n",
       "      <td>9</td>\n",
       "      <td>9</td>\n",
       "      <td>9</td>\n",
       "      <td>9</td>\n",
       "      <td>9</td>\n",
       "      <td>9</td>\n",
       "    </tr>\n",
       "    <tr>\n",
       "      <th>317</th>\n",
       "      <td>Unspecified</td>\n",
       "      <td>C_A</td>\n",
       "      <td>16</td>\n",
       "      <td>16</td>\n",
       "      <td>16</td>\n",
       "      <td>16</td>\n",
       "      <td>16</td>\n",
       "      <td>16</td>\n",
       "      <td>16</td>\n",
       "      <td>16</td>\n",
       "      <td>16</td>\n",
       "    </tr>\n",
       "    <tr>\n",
       "      <th>318</th>\n",
       "      <td>Unspecified</td>\n",
       "      <td>C_B</td>\n",
       "      <td>17</td>\n",
       "      <td>17</td>\n",
       "      <td>17</td>\n",
       "      <td>17</td>\n",
       "      <td>17</td>\n",
       "      <td>17</td>\n",
       "      <td>17</td>\n",
       "      <td>17</td>\n",
       "      <td>17</td>\n",
       "    </tr>\n",
       "    <tr>\n",
       "      <th>319</th>\n",
       "      <td>Unspecified</td>\n",
       "      <td>C_C</td>\n",
       "      <td>96</td>\n",
       "      <td>96</td>\n",
       "      <td>96</td>\n",
       "      <td>96</td>\n",
       "      <td>96</td>\n",
       "      <td>96</td>\n",
       "      <td>96</td>\n",
       "      <td>96</td>\n",
       "      <td>96</td>\n",
       "    </tr>\n",
       "  </tbody>\n",
       "</table>\n",
       "<p>320 rows × 11 columns</p>\n",
       "</div>"
      ],
      "text/plain": [
       "      storeofsku product_mix  sku  sales  revenue  sales_mix  \\\n",
       "0      Australia         A_A  149    149      149        149   \n",
       "1      Australia         A_B   63     63       63         63   \n",
       "2      Australia         A_C   20     20       20         20   \n",
       "3      Australia         B_A   58     58       58         58   \n",
       "4      Australia         B_B   64     64       64         64   \n",
       "..           ...         ...  ...    ...      ...        ...   \n",
       "315  Unspecified         B_B   27     27       27         27   \n",
       "316  Unspecified         B_C    9      9        9          9   \n",
       "317  Unspecified         C_A   16     16       16         16   \n",
       "318  Unspecified         C_B   17     17       17         17   \n",
       "319  Unspecified         C_C   96     96       96         96   \n",
       "\n",
       "     comulative_sales  revenue_mix  comulative_revenue  sales_category  \\\n",
       "0                 149          149                 149             149   \n",
       "1                  63           63                  63              63   \n",
       "2                  20           20                  20              20   \n",
       "3                  58           58                  58              58   \n",
       "4                  64           64                  64              64   \n",
       "..                ...          ...                 ...             ...   \n",
       "315                27           27                  27              27   \n",
       "316                 9            9                   9               9   \n",
       "317                16           16                  16              16   \n",
       "318                17           17                  17              17   \n",
       "319                96           96                  96              96   \n",
       "\n",
       "     revenue_category  \n",
       "0                 149  \n",
       "1                  63  \n",
       "2                  20  \n",
       "3                  58  \n",
       "4                  64  \n",
       "..                ...  \n",
       "315                27  \n",
       "316                 9  \n",
       "317                16  \n",
       "318                17  \n",
       "319                96  \n",
       "\n",
       "[320 rows x 11 columns]"
      ]
     },
     "execution_count": 45,
     "metadata": {},
     "output_type": "execute_result"
    }
   ],
   "source": [
    "product_store"
   ]
  },
  {
   "cell_type": "code",
   "execution_count": 47,
   "id": "2dc107c5",
   "metadata": {},
   "outputs": [
    {
     "data": {
      "text/html": [
       "<div>\n",
       "<style scoped>\n",
       "    .dataframe tbody tr th:only-of-type {\n",
       "        vertical-align: middle;\n",
       "    }\n",
       "\n",
       "    .dataframe tbody tr th {\n",
       "        vertical-align: top;\n",
       "    }\n",
       "\n",
       "    .dataframe thead th {\n",
       "        text-align: right;\n",
       "    }\n",
       "</style>\n",
       "<table border=\"1\" class=\"dataframe\">\n",
       "  <thead>\n",
       "    <tr style=\"text-align: right;\">\n",
       "      <th></th>\n",
       "      <th>storeofsku</th>\n",
       "      <th>product_mix</th>\n",
       "    </tr>\n",
       "  </thead>\n",
       "  <tbody>\n",
       "    <tr>\n",
       "      <th>0</th>\n",
       "      <td>Australia</td>\n",
       "      <td>A_A</td>\n",
       "    </tr>\n",
       "    <tr>\n",
       "      <th>1</th>\n",
       "      <td>Australia</td>\n",
       "      <td>A_B</td>\n",
       "    </tr>\n",
       "    <tr>\n",
       "      <th>2</th>\n",
       "      <td>Australia</td>\n",
       "      <td>A_C</td>\n",
       "    </tr>\n",
       "    <tr>\n",
       "      <th>3</th>\n",
       "      <td>Australia</td>\n",
       "      <td>B_A</td>\n",
       "    </tr>\n",
       "    <tr>\n",
       "      <th>4</th>\n",
       "      <td>Australia</td>\n",
       "      <td>B_B</td>\n",
       "    </tr>\n",
       "    <tr>\n",
       "      <th>5</th>\n",
       "      <td>Australia</td>\n",
       "      <td>B_C</td>\n",
       "    </tr>\n",
       "    <tr>\n",
       "      <th>6</th>\n",
       "      <td>Australia</td>\n",
       "      <td>C_A</td>\n",
       "    </tr>\n",
       "    <tr>\n",
       "      <th>7</th>\n",
       "      <td>Australia</td>\n",
       "      <td>C_B</td>\n",
       "    </tr>\n",
       "    <tr>\n",
       "      <th>8</th>\n",
       "      <td>Australia</td>\n",
       "      <td>C_C</td>\n",
       "    </tr>\n",
       "  </tbody>\n",
       "</table>\n",
       "</div>"
      ],
      "text/plain": [
       "  storeofsku product_mix\n",
       "0  Australia         A_A\n",
       "1  Australia         A_B\n",
       "2  Australia         A_C\n",
       "3  Australia         B_A\n",
       "4  Australia         B_B\n",
       "5  Australia         B_C\n",
       "6  Australia         C_A\n",
       "7  Australia         C_B\n",
       "8  Australia         C_C"
      ]
     },
     "execution_count": 47,
     "metadata": {},
     "output_type": "execute_result"
    }
   ],
   "source": [
    "product_store[product_store['storeofsku']=='Australia'][['storeofsku','product_mix']]"
   ]
  },
  {
   "cell_type": "code",
   "execution_count": 52,
   "id": "17680bfd",
   "metadata": {},
   "outputs": [
    {
     "data": {
      "text/plain": [
       "A_A    37\n",
       "B_A    37\n",
       "C_C    36\n",
       "A_B    36\n",
       "A_C    36\n",
       "C_B    35\n",
       "C_A    35\n",
       "B_B    35\n",
       "B_C    33\n",
       "Name: product_mix, dtype: int64"
      ]
     },
     "execution_count": 52,
     "metadata": {},
     "output_type": "execute_result"
    }
   ],
   "source": [
    "product_store['product_mix'].value_counts()"
   ]
  },
  {
   "cell_type": "code",
   "execution_count": 53,
   "id": "10e11753",
   "metadata": {},
   "outputs": [
    {
     "data": {
      "application/javascript": [
       "\n",
       "        if (window._pyforest_update_imports_cell) { window._pyforest_update_imports_cell('import pandas as pd\\nimport numpy as np\\nimport seaborn as sns'); }\n",
       "    "
      ],
      "text/plain": [
       "<IPython.core.display.Javascript object>"
      ]
     },
     "metadata": {},
     "output_type": "display_data"
    },
    {
     "data": {
      "text/plain": [
       "<AxesSubplot:xlabel='product_mix', ylabel='revenue'>"
      ]
     },
     "execution_count": 53,
     "metadata": {},
     "output_type": "execute_result"
    },
    {
     "data": {
      "image/png": "[encoded data removed]",
      "text/plain": [
       "<Figure size 432x288 with 1 Axes>"
      ]
     },
     "metadata": {
      "needs_background": "light"
     },
     "output_type": "display_data"
    }
   ],
   "source": [
    "sns.barplot(data=mix_segregated,x='product_mix',y='revenue')"
   ]
  },
  {
   "cell_type": "code",
   "execution_count": 54,
   "id": "f52e64f4",
   "metadata": {},
   "outputs": [
    {
     "data": {
      "application/javascript": [
       "\n",
       "        if (window._pyforest_update_imports_cell) { window._pyforest_update_imports_cell('import pandas as pd\\nimport numpy as np\\nimport seaborn as sns'); }\n",
       "    "
      ],
      "text/plain": [
       "<IPython.core.display.Javascript object>"
      ]
     },
     "metadata": {},
     "output_type": "display_data"
    },
    {
     "data": {
      "text/plain": [
       "<AxesSubplot:xlabel='product_mix', ylabel='revenue'>"
      ]
     },
     "execution_count": 54,
     "metadata": {},
     "output_type": "execute_result"
    },
    {
     "data": {
      "image/png": "[encoded data removed]",
      "text/plain": [
       "<Figure size 432x288 with 1 Axes>"
      ]
     },
     "metadata": {
      "needs_background": "light"
     },
     "output_type": "display_data"
    }
   ],
   "source": [
    "sns.barplot(data=mix_segregated[mix_segregated['storeofsku']=='Australia'],x='product_mix',y='revenue')"
   ]
  },
  {
   "cell_type": "code",
   "execution_count": 57,
   "id": "3ecdbb3d",
   "metadata": {},
   "outputs": [
    {
     "data": {
      "text/plain": [
       "array(['Australia', 'Austria', 'Bahrain', 'Belgium', 'Brazil', 'Canada',\n",
       "       'Channel Islands', 'Cyprus', 'Czech Republic', 'Denmark', 'EIRE',\n",
       "       'European Community', 'Finland', 'France', 'Germany', 'Greece',\n",
       "       'Hong Kong', 'Iceland', 'Israel', 'Italy', 'Japan', 'Lebanon',\n",
       "       'Malta', 'Netherlands', 'Norway', 'Poland', 'Portugal', 'RSA',\n",
       "       'Saudi Arabia', 'Singapore', 'Spain', 'Sweden', 'Switzerland',\n",
       "       'USA', 'United Arab Emirates', 'United Kingdom', 'Unspecified'],\n",
       "      dtype=object)"
      ]
     },
     "execution_count": 57,
     "metadata": {},
     "output_type": "execute_result"
    }
   ],
   "source": [
    "mix_segregated['storeofsku'].unique()"
   ]
  },
  {
   "cell_type": "code",
   "execution_count": 58,
   "id": "cdb75b6a",
   "metadata": {},
   "outputs": [
    {
     "data": {
      "application/javascript": [
       "\n",
       "        if (window._pyforest_update_imports_cell) { window._pyforest_update_imports_cell('import pandas as pd\\nimport numpy as np\\nimport seaborn as sns'); }\n",
       "    "
      ],
      "text/plain": [
       "<IPython.core.display.Javascript object>"
      ]
     },
     "metadata": {},
     "output_type": "display_data"
    },
    {
     "data": {
      "text/plain": [
       "<AxesSubplot:xlabel='product_mix', ylabel='revenue'>"
      ]
     },
     "execution_count": 58,
     "metadata": {},
     "output_type": "execute_result"
    },
    {
     "data": {
      "image/png": "[encoded data removed]",
      "text/plain": [
       "<Figure size 432x288 with 1 Axes>"
      ]
     },
     "metadata": {
      "needs_background": "light"
     },
     "output_type": "display_data"
    }
   ],
   "source": [
    "sns.barplot(data=mix_segregated[mix_segregated['storeofsku']=='Canada'],x='product_mix',y='revenue')"
   ]
  },
  {
   "cell_type": "code",
   "execution_count": 60,
   "id": "76fe61c7",
   "metadata": {},
   "outputs": [
    {
     "data": {
      "application/javascript": [
       "\n",
       "        if (window._pyforest_update_imports_cell) { window._pyforest_update_imports_cell('import pandas as pd\\nimport numpy as np\\nimport seaborn as sns'); }\n",
       "    "
      ],
      "text/plain": [
       "<IPython.core.display.Javascript object>"
      ]
     },
     "metadata": {},
     "output_type": "display_data"
    },
    {
     "data": {
      "text/plain": [
       "<AxesSubplot:xlabel='product_mix', ylabel='sales'>"
      ]
     },
     "execution_count": 60,
     "metadata": {},
     "output_type": "execute_result"
    },
    {
     "data": {
      "image/png": "[encoded data removed]",
      "text/plain": [
       "<Figure size 432x288 with 1 Axes>"
      ]
     },
     "metadata": {
      "needs_background": "light"
     },
     "output_type": "display_data"
    }
   ],
   "source": [
    "sns.barplot(data=mix_segregated[mix_segregated['storeofsku']=='Canada'],x='product_mix',y='sales')"
   ]
  },
  {
   "cell_type": "code",
   "execution_count": null,
   "id": "9eaa1617",
   "metadata": {},
   "outputs": [],
   "source": []
  }
 ],
 "metadata": {
  "kernelspec": {
   "display_name": "Python 3",
   "language": "python",
   "name": "python3"
  },
  "language_info": {
   "codemirror_mode": {
    "name": "ipython",
    "version": 3
   },
   "file_extension": ".py",
   "mimetype": "text/x-python",
   "name": "python",
   "nbconvert_exporter": "python",
   "pygments_lexer": "ipython3",
   "version": "3.8.8"
  }
 },
 "nbformat": 4,
 "nbformat_minor": 5
}
