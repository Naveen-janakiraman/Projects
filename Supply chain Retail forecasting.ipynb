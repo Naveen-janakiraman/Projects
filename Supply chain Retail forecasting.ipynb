{
 "cells": [
  {
   "cell_type": "code",
   "execution_count": 1,
   "id": "4389095c",
   "metadata": {},
   "outputs": [
    {
     "data": {
      "application/javascript": [
       "\n",
       "        if (window._pyforest_update_imports_cell) { window._pyforest_update_imports_cell('import pandas as pd'); }\n",
       "    "
      ],
      "text/plain": [
       "<IPython.core.display.Javascript object>"
      ]
     },
     "metadata": {},
     "output_type": "display_data"
    },
    {
     "data": {
      "text/html": [
       "<div>\n",
       "<style scoped>\n",
       "    .dataframe tbody tr th:only-of-type {\n",
       "        vertical-align: middle;\n",
       "    }\n",
       "\n",
       "    .dataframe tbody tr th {\n",
       "        vertical-align: top;\n",
       "    }\n",
       "\n",
       "    .dataframe thead th {\n",
       "        text-align: right;\n",
       "    }\n",
       "</style>\n",
       "<table border=\"1\" class=\"dataframe\">\n",
       "  <thead>\n",
       "    <tr style=\"text-align: right;\">\n",
       "      <th></th>\n",
       "      <th>Unnamed: 0</th>\n",
       "      <th>Invoice</th>\n",
       "      <th>StockCode</th>\n",
       "      <th>Description</th>\n",
       "      <th>Quantity</th>\n",
       "      <th>InvoiceDate</th>\n",
       "      <th>Price</th>\n",
       "      <th>Customer ID</th>\n",
       "      <th>Country</th>\n",
       "      <th>Revenue</th>\n",
       "    </tr>\n",
       "  </thead>\n",
       "  <tbody>\n",
       "    <tr>\n",
       "      <th>0</th>\n",
       "      <td>0</td>\n",
       "      <td>489434</td>\n",
       "      <td>85048</td>\n",
       "      <td>15CM CHRISTMAS GLASS BALL 20 LIGHTS</td>\n",
       "      <td>12</td>\n",
       "      <td>2009-12-01 07:45:00</td>\n",
       "      <td>6.95</td>\n",
       "      <td>13085.0</td>\n",
       "      <td>United Kingdom</td>\n",
       "      <td>83.4</td>\n",
       "    </tr>\n",
       "    <tr>\n",
       "      <th>1</th>\n",
       "      <td>1</td>\n",
       "      <td>489434</td>\n",
       "      <td>79323P</td>\n",
       "      <td>PINK CHERRY LIGHTS</td>\n",
       "      <td>12</td>\n",
       "      <td>2009-12-01 07:45:00</td>\n",
       "      <td>6.75</td>\n",
       "      <td>13085.0</td>\n",
       "      <td>United Kingdom</td>\n",
       "      <td>81.0</td>\n",
       "    </tr>\n",
       "    <tr>\n",
       "      <th>2</th>\n",
       "      <td>2</td>\n",
       "      <td>489434</td>\n",
       "      <td>79323W</td>\n",
       "      <td>WHITE CHERRY LIGHTS</td>\n",
       "      <td>12</td>\n",
       "      <td>2009-12-01 07:45:00</td>\n",
       "      <td>6.75</td>\n",
       "      <td>13085.0</td>\n",
       "      <td>United Kingdom</td>\n",
       "      <td>81.0</td>\n",
       "    </tr>\n",
       "    <tr>\n",
       "      <th>3</th>\n",
       "      <td>3</td>\n",
       "      <td>489434</td>\n",
       "      <td>22041</td>\n",
       "      <td>RECORD FRAME 7\" SINGLE SIZE</td>\n",
       "      <td>48</td>\n",
       "      <td>2009-12-01 07:45:00</td>\n",
       "      <td>2.10</td>\n",
       "      <td>13085.0</td>\n",
       "      <td>United Kingdom</td>\n",
       "      <td>100.8</td>\n",
       "    </tr>\n",
       "    <tr>\n",
       "      <th>4</th>\n",
       "      <td>4</td>\n",
       "      <td>489434</td>\n",
       "      <td>21232</td>\n",
       "      <td>STRAWBERRY CERAMIC TRINKET BOX</td>\n",
       "      <td>24</td>\n",
       "      <td>2009-12-01 07:45:00</td>\n",
       "      <td>1.25</td>\n",
       "      <td>13085.0</td>\n",
       "      <td>United Kingdom</td>\n",
       "      <td>30.0</td>\n",
       "    </tr>\n",
       "  </tbody>\n",
       "</table>\n",
       "</div>"
      ],
      "text/plain": [
       "   Unnamed: 0  Invoice StockCode                          Description  \\\n",
       "0           0   489434     85048  15CM CHRISTMAS GLASS BALL 20 LIGHTS   \n",
       "1           1   489434    79323P                   PINK CHERRY LIGHTS   \n",
       "2           2   489434    79323W                  WHITE CHERRY LIGHTS   \n",
       "3           3   489434     22041         RECORD FRAME 7\" SINGLE SIZE    \n",
       "4           4   489434     21232       STRAWBERRY CERAMIC TRINKET BOX   \n",
       "\n",
       "   Quantity          InvoiceDate  Price  Customer ID         Country  Revenue  \n",
       "0        12  2009-12-01 07:45:00   6.95      13085.0  United Kingdom     83.4  \n",
       "1        12  2009-12-01 07:45:00   6.75      13085.0  United Kingdom     81.0  \n",
       "2        12  2009-12-01 07:45:00   6.75      13085.0  United Kingdom     81.0  \n",
       "3        48  2009-12-01 07:45:00   2.10      13085.0  United Kingdom    100.8  \n",
       "4        24  2009-12-01 07:45:00   1.25      13085.0  United Kingdom     30.0  "
      ]
     },
     "execution_count": 1,
     "metadata": {},
     "output_type": "execute_result"
    }
   ],
   "source": [
    "Retail=pd.read_csv('C:\\\\documents\\\\study material\\\\data science\\\\supply chain\\\\Udemy - RA Data Science and Supply Chain analytics. A-Z with Python 2020-9\\\\10. Forecasting Basics\\\\14.2 retail_clean.csv',parse_dates=True)\n",
    "\n",
    "Retail.head()"
   ]
  },
  {
   "cell_type": "code",
   "execution_count": 123,
   "id": "40beb63b",
   "metadata": {},
   "outputs": [
    {
     "data": {
      "text/html": [
       "<div>\n",
       "<style scoped>\n",
       "    .dataframe tbody tr th:only-of-type {\n",
       "        vertical-align: middle;\n",
       "    }\n",
       "\n",
       "    .dataframe tbody tr th {\n",
       "        vertical-align: top;\n",
       "    }\n",
       "\n",
       "    .dataframe thead th {\n",
       "        text-align: right;\n",
       "    }\n",
       "</style>\n",
       "<table border=\"1\" class=\"dataframe\">\n",
       "  <thead>\n",
       "    <tr style=\"text-align: right;\">\n",
       "      <th></th>\n",
       "      <th>Unnamed: 0</th>\n",
       "      <th>Invoice</th>\n",
       "      <th>Quantity</th>\n",
       "      <th>Price</th>\n",
       "      <th>Customer ID</th>\n",
       "      <th>Revenue</th>\n",
       "    </tr>\n",
       "  </thead>\n",
       "  <tbody>\n",
       "    <tr>\n",
       "      <th>count</th>\n",
       "      <td>7.794950e+05</td>\n",
       "      <td>779495.000000</td>\n",
       "      <td>779495.000000</td>\n",
       "      <td>779495.000000</td>\n",
       "      <td>779495.000000</td>\n",
       "      <td>779495.000000</td>\n",
       "    </tr>\n",
       "    <tr>\n",
       "      <th>mean</th>\n",
       "      <td>5.315660e+05</td>\n",
       "      <td>537427.005391</td>\n",
       "      <td>13.507085</td>\n",
       "      <td>3.218199</td>\n",
       "      <td>15320.262918</td>\n",
       "      <td>22.289821</td>\n",
       "    </tr>\n",
       "    <tr>\n",
       "      <th>std</th>\n",
       "      <td>3.110433e+05</td>\n",
       "      <td>26901.961110</td>\n",
       "      <td>146.540284</td>\n",
       "      <td>29.674823</td>\n",
       "      <td>1695.722988</td>\n",
       "      <td>227.416962</td>\n",
       "    </tr>\n",
       "    <tr>\n",
       "      <th>min</th>\n",
       "      <td>0.000000e+00</td>\n",
       "      <td>489434.000000</td>\n",
       "      <td>1.000000</td>\n",
       "      <td>0.000000</td>\n",
       "      <td>12346.000000</td>\n",
       "      <td>0.000000</td>\n",
       "    </tr>\n",
       "    <tr>\n",
       "      <th>25%</th>\n",
       "      <td>2.598405e+05</td>\n",
       "      <td>514483.000000</td>\n",
       "      <td>2.000000</td>\n",
       "      <td>1.250000</td>\n",
       "      <td>13971.000000</td>\n",
       "      <td>4.950000</td>\n",
       "    </tr>\n",
       "    <tr>\n",
       "      <th>50%</th>\n",
       "      <td>5.071680e+05</td>\n",
       "      <td>536754.000000</td>\n",
       "      <td>6.000000</td>\n",
       "      <td>1.950000</td>\n",
       "      <td>15246.000000</td>\n",
       "      <td>12.480000</td>\n",
       "    </tr>\n",
       "    <tr>\n",
       "      <th>75%</th>\n",
       "      <td>8.114895e+05</td>\n",
       "      <td>562002.000000</td>\n",
       "      <td>12.000000</td>\n",
       "      <td>3.750000</td>\n",
       "      <td>16794.000000</td>\n",
       "      <td>19.800000</td>\n",
       "    </tr>\n",
       "    <tr>\n",
       "      <th>max</th>\n",
       "      <td>1.067370e+06</td>\n",
       "      <td>581587.000000</td>\n",
       "      <td>80995.000000</td>\n",
       "      <td>10953.500000</td>\n",
       "      <td>18287.000000</td>\n",
       "      <td>168469.600000</td>\n",
       "    </tr>\n",
       "  </tbody>\n",
       "</table>\n",
       "</div>"
      ],
      "text/plain": [
       "         Unnamed: 0        Invoice       Quantity          Price  \\\n",
       "count  7.794950e+05  779495.000000  779495.000000  779495.000000   \n",
       "mean   5.315660e+05  537427.005391      13.507085       3.218199   \n",
       "std    3.110433e+05   26901.961110     146.540284      29.674823   \n",
       "min    0.000000e+00  489434.000000       1.000000       0.000000   \n",
       "25%    2.598405e+05  514483.000000       2.000000       1.250000   \n",
       "50%    5.071680e+05  536754.000000       6.000000       1.950000   \n",
       "75%    8.114895e+05  562002.000000      12.000000       3.750000   \n",
       "max    1.067370e+06  581587.000000   80995.000000   10953.500000   \n",
       "\n",
       "         Customer ID        Revenue  \n",
       "count  779495.000000  779495.000000  \n",
       "mean    15320.262918      22.289821  \n",
       "std      1695.722988     227.416962  \n",
       "min     12346.000000       0.000000  \n",
       "25%     13971.000000       4.950000  \n",
       "50%     15246.000000      12.480000  \n",
       "75%     16794.000000      19.800000  \n",
       "max     18287.000000  168469.600000  "
      ]
     },
     "execution_count": 123,
     "metadata": {},
     "output_type": "execute_result"
    }
   ],
   "source": [
    "Retail.describe()"
   ]
  },
  {
   "cell_type": "code",
   "execution_count": 124,
   "id": "1a5d8891",
   "metadata": {},
   "outputs": [
    {
     "name": "stdout",
     "output_type": "stream",
     "text": [
      "<class 'pandas.core.frame.DataFrame'>\n",
      "RangeIndex: 779495 entries, 0 to 779494\n",
      "Data columns (total 10 columns):\n",
      " #   Column       Non-Null Count   Dtype  \n",
      "---  ------       --------------   -----  \n",
      " 0   Unnamed: 0   779495 non-null  int64  \n",
      " 1   Invoice      779495 non-null  int64  \n",
      " 2   StockCode    779495 non-null  object \n",
      " 3   Description  779495 non-null  object \n",
      " 4   Quantity     779495 non-null  int64  \n",
      " 5   InvoiceDate  779495 non-null  object \n",
      " 6   Price        779495 non-null  float64\n",
      " 7   Customer ID  779495 non-null  float64\n",
      " 8   Country      779495 non-null  object \n",
      " 9   Revenue      779495 non-null  float64\n",
      "dtypes: float64(3), int64(3), object(4)\n",
      "memory usage: 59.5+ MB\n"
     ]
    }
   ],
   "source": [
    "Retail.info()"
   ]
  },
  {
   "cell_type": "code",
   "execution_count": 125,
   "id": "150bb419",
   "metadata": {},
   "outputs": [
    {
     "data": {
      "application/javascript": [
       "\n",
       "        if (window._pyforest_update_imports_cell) { window._pyforest_update_imports_cell('import numpy as np\\nimport matplotlib.pyplot as plt\\nimport pandas as pd'); }\n",
       "    "
      ],
      "text/plain": [
       "<IPython.core.display.Javascript object>"
      ]
     },
     "metadata": {},
     "output_type": "display_data"
    }
   ],
   "source": [
    "Retail['InvoiceDate']=pd.to_datetime(Retail['InvoiceDate'])"
   ]
  },
  {
   "cell_type": "code",
   "execution_count": 126,
   "id": "b024b665",
   "metadata": {},
   "outputs": [],
   "source": [
    "Retail['Date']=Retail['InvoiceDate'].dt.strftime('%Y-%m-%d')"
   ]
  },
  {
   "cell_type": "code",
   "execution_count": 127,
   "id": "bebe8a22",
   "metadata": {},
   "outputs": [
    {
     "data": {
      "application/javascript": [
       "\n",
       "        if (window._pyforest_update_imports_cell) { window._pyforest_update_imports_cell('import numpy as np\\nimport matplotlib.pyplot as plt\\nimport pandas as pd'); }\n",
       "    "
      ],
      "text/plain": [
       "<IPython.core.display.Javascript object>"
      ]
     },
     "metadata": {},
     "output_type": "display_data"
    }
   ],
   "source": [
    "Retail['Date']=pd.to_datetime(Retail['Date'])"
   ]
  },
  {
   "cell_type": "code",
   "execution_count": 128,
   "id": "135b9ce9",
   "metadata": {},
   "outputs": [
    {
     "data": {
      "text/plain": [
       "0        2009-12-01\n",
       "1        2009-12-01\n",
       "2        2009-12-01\n",
       "3        2009-12-01\n",
       "4        2009-12-01\n",
       "            ...    \n",
       "779490   2011-12-09\n",
       "779491   2011-12-09\n",
       "779492   2011-12-09\n",
       "779493   2011-12-09\n",
       "779494   2011-12-09\n",
       "Name: Date, Length: 779495, dtype: datetime64[ns]"
      ]
     },
     "execution_count": 128,
     "metadata": {},
     "output_type": "execute_result"
    }
   ],
   "source": [
    "Retail['Date']"
   ]
  },
  {
   "cell_type": "code",
   "execution_count": 129,
   "id": "982c01eb",
   "metadata": {},
   "outputs": [
    {
     "name": "stderr",
     "output_type": "stream",
     "text": [
      "<ipython-input-129-34353bdb8ad7>:1: FutureWarning: Series.dt.weekofyear and Series.dt.week have been deprecated.  Please use Series.dt.isocalendar().week instead.\n",
      "  Retail['Week']=Retail['Date'].dt.week\n"
     ]
    }
   ],
   "source": [
    "Retail['Week']=Retail['Date'].dt.week\n",
    "Retail['Year']=Retail['Date'].dt.year\n",
    "Retail['Month']=Retail['Date'].dt.month"
   ]
  },
  {
   "cell_type": "code",
   "execution_count": null,
   "id": "8e40e912",
   "metadata": {},
   "outputs": [],
   "source": []
  },
  {
   "cell_type": "code",
   "execution_count": 117,
   "id": "9b5f7acb",
   "metadata": {},
   "outputs": [],
   "source": []
  },
  {
   "cell_type": "code",
   "execution_count": 204,
   "id": "ad281a05",
   "metadata": {},
   "outputs": [
    {
     "data": {
      "application/javascript": [
       "\n",
       "        if (window._pyforest_update_imports_cell) { window._pyforest_update_imports_cell('import numpy as np\\nimport matplotlib.pyplot as plt\\nimport pandas as pd'); }\n",
       "    "
      ],
      "text/plain": [
       "<IPython.core.display.Javascript object>"
      ]
     },
     "metadata": {},
     "output_type": "display_data"
    }
   ],
   "source": [
    "Time_series=Retail.groupby(['Week','Month','Year']).agg(Date=('Date','first'),\n",
    "                                                       total_sales=('Quantity',np.sum)).reset_index().sort_values('Date')"
   ]
  },
  {
   "cell_type": "code",
   "execution_count": 131,
   "id": "c99485db",
   "metadata": {},
   "outputs": [
    {
     "data": {
      "text/html": [
       "<div>\n",
       "<style scoped>\n",
       "    .dataframe tbody tr th:only-of-type {\n",
       "        vertical-align: middle;\n",
       "    }\n",
       "\n",
       "    .dataframe tbody tr th {\n",
       "        vertical-align: top;\n",
       "    }\n",
       "\n",
       "    .dataframe thead th {\n",
       "        text-align: right;\n",
       "    }\n",
       "</style>\n",
       "<table border=\"1\" class=\"dataframe\">\n",
       "  <thead>\n",
       "    <tr style=\"text-align: right;\">\n",
       "      <th></th>\n",
       "      <th>Week</th>\n",
       "      <th>Month</th>\n",
       "      <th>Year</th>\n",
       "      <th>Date</th>\n",
       "      <th>total_sales</th>\n",
       "    </tr>\n",
       "  </thead>\n",
       "  <tbody>\n",
       "    <tr>\n",
       "      <th>113</th>\n",
       "      <td>49</td>\n",
       "      <td>12</td>\n",
       "      <td>2009</td>\n",
       "      <td>2009-12-01</td>\n",
       "      <td>138612</td>\n",
       "    </tr>\n",
       "    <tr>\n",
       "      <th>116</th>\n",
       "      <td>50</td>\n",
       "      <td>12</td>\n",
       "      <td>2009</td>\n",
       "      <td>2009-12-07</td>\n",
       "      <td>109644</td>\n",
       "    </tr>\n",
       "    <tr>\n",
       "      <th>118</th>\n",
       "      <td>51</td>\n",
       "      <td>12</td>\n",
       "      <td>2009</td>\n",
       "      <td>2009-12-14</td>\n",
       "      <td>125772</td>\n",
       "    </tr>\n",
       "    <tr>\n",
       "      <th>120</th>\n",
       "      <td>52</td>\n",
       "      <td>12</td>\n",
       "      <td>2009</td>\n",
       "      <td>2009-12-21</td>\n",
       "      <td>24680</td>\n",
       "    </tr>\n",
       "    <tr>\n",
       "      <th>0</th>\n",
       "      <td>1</td>\n",
       "      <td>1</td>\n",
       "      <td>2010</td>\n",
       "      <td>2010-01-04</td>\n",
       "      <td>95950</td>\n",
       "    </tr>\n",
       "    <tr>\n",
       "      <th>...</th>\n",
       "      <td>...</td>\n",
       "      <td>...</td>\n",
       "      <td>...</td>\n",
       "      <td>...</td>\n",
       "      <td>...</td>\n",
       "    </tr>\n",
       "    <tr>\n",
       "      <th>106</th>\n",
       "      <td>46</td>\n",
       "      <td>11</td>\n",
       "      <td>2011</td>\n",
       "      <td>2011-11-14</td>\n",
       "      <td>156756</td>\n",
       "    </tr>\n",
       "    <tr>\n",
       "      <th>108</th>\n",
       "      <td>47</td>\n",
       "      <td>11</td>\n",
       "      <td>2011</td>\n",
       "      <td>2011-11-21</td>\n",
       "      <td>154179</td>\n",
       "    </tr>\n",
       "    <tr>\n",
       "      <th>110</th>\n",
       "      <td>48</td>\n",
       "      <td>11</td>\n",
       "      <td>2011</td>\n",
       "      <td>2011-11-28</td>\n",
       "      <td>78241</td>\n",
       "    </tr>\n",
       "    <tr>\n",
       "      <th>112</th>\n",
       "      <td>48</td>\n",
       "      <td>12</td>\n",
       "      <td>2011</td>\n",
       "      <td>2011-12-01</td>\n",
       "      <td>61655</td>\n",
       "    </tr>\n",
       "    <tr>\n",
       "      <th>115</th>\n",
       "      <td>49</td>\n",
       "      <td>12</td>\n",
       "      <td>2011</td>\n",
       "      <td>2011-12-05</td>\n",
       "      <td>225123</td>\n",
       "    </tr>\n",
       "  </tbody>\n",
       "</table>\n",
       "<p>121 rows × 5 columns</p>\n",
       "</div>"
      ],
      "text/plain": [
       "     Week  Month  Year       Date  total_sales\n",
       "113    49     12  2009 2009-12-01       138612\n",
       "116    50     12  2009 2009-12-07       109644\n",
       "118    51     12  2009 2009-12-14       125772\n",
       "120    52     12  2009 2009-12-21        24680\n",
       "0       1      1  2010 2010-01-04        95950\n",
       "..    ...    ...   ...        ...          ...\n",
       "106    46     11  2011 2011-11-14       156756\n",
       "108    47     11  2011 2011-11-21       154179\n",
       "110    48     11  2011 2011-11-28        78241\n",
       "112    48     12  2011 2011-12-01        61655\n",
       "115    49     12  2011 2011-12-05       225123\n",
       "\n",
       "[121 rows x 5 columns]"
      ]
     },
     "execution_count": 131,
     "metadata": {},
     "output_type": "execute_result"
    }
   ],
   "source": [
    "Time_series"
   ]
  },
  {
   "cell_type": "code",
   "execution_count": 205,
   "id": "b106e728",
   "metadata": {},
   "outputs": [],
   "source": [
    "Time_series['Trend']=range(Time_series.shape[0])"
   ]
  },
  {
   "cell_type": "code",
   "execution_count": 133,
   "id": "0a2fe041",
   "metadata": {},
   "outputs": [],
   "source": [
    "Time_series['Week']=Time_series['Week'].astype('category')"
   ]
  },
  {
   "cell_type": "code",
   "execution_count": 134,
   "id": "f4266ddb",
   "metadata": {},
   "outputs": [],
   "source": [
    "X=Time_series[['Trend','Week']]"
   ]
  },
  {
   "cell_type": "code",
   "execution_count": 136,
   "id": "01d2a935",
   "metadata": {},
   "outputs": [],
   "source": [
    "y=Time_series['total_sales'].values"
   ]
  },
  {
   "cell_type": "code",
   "execution_count": 137,
   "id": "a417cdd2",
   "metadata": {},
   "outputs": [
    {
     "data": {
      "application/javascript": [
       "\n",
       "        if (window._pyforest_update_imports_cell) { window._pyforest_update_imports_cell('import numpy as np\\nimport matplotlib.pyplot as plt\\nimport pandas as pd'); }\n",
       "    "
      ],
      "text/plain": [
       "<IPython.core.display.Javascript object>"
      ]
     },
     "metadata": {},
     "output_type": "display_data"
    }
   ],
   "source": [
    "X=pd.get_dummies(X).values"
   ]
  },
  {
   "cell_type": "code",
   "execution_count": 138,
   "id": "cc02e5e0",
   "metadata": {},
   "outputs": [],
   "source": [
    "from sklearn.linear_model import LinearRegression"
   ]
  },
  {
   "cell_type": "code",
   "execution_count": 139,
   "id": "025e1292",
   "metadata": {},
   "outputs": [],
   "source": [
    "from sklearn.metrics import mean_squared_error"
   ]
  },
  {
   "cell_type": "code",
   "execution_count": 140,
   "id": "10c31359",
   "metadata": {},
   "outputs": [],
   "source": [
    "model=LinearRegression()"
   ]
  },
  {
   "cell_type": "code",
   "execution_count": 141,
   "id": "6862d471",
   "metadata": {},
   "outputs": [
    {
     "data": {
      "text/plain": [
       "LinearRegression()"
      ]
     },
     "execution_count": 141,
     "metadata": {},
     "output_type": "execute_result"
    }
   ],
   "source": [
    "model.fit(X,y)"
   ]
  },
  {
   "cell_type": "code",
   "execution_count": 142,
   "id": "59962bab",
   "metadata": {},
   "outputs": [],
   "source": [
    "pred=model.predict(X)"
   ]
  },
  {
   "cell_type": "code",
   "execution_count": 143,
   "id": "c6d1c4d9",
   "metadata": {},
   "outputs": [
    {
     "data": {
      "text/plain": [
       "687862405.712021"
      ]
     },
     "execution_count": 143,
     "metadata": {},
     "output_type": "execute_result"
    }
   ],
   "source": [
    "mean_squared_error(y,pred)"
   ]
  },
  {
   "cell_type": "code",
   "execution_count": 144,
   "id": "de6aba14",
   "metadata": {},
   "outputs": [
    {
     "data": {
      "application/javascript": [
       "\n",
       "        if (window._pyforest_update_imports_cell) { window._pyforest_update_imports_cell('import numpy as np\\nimport matplotlib.pyplot as plt\\nimport pandas as pd'); }\n",
       "    "
      ],
      "text/plain": [
       "<IPython.core.display.Javascript object>"
      ]
     },
     "metadata": {},
     "output_type": "display_data"
    },
    {
     "data": {
      "text/plain": [
       "26227.131099531663"
      ]
     },
     "execution_count": 144,
     "metadata": {},
     "output_type": "execute_result"
    }
   ],
   "source": [
    "np.sqrt(mean_squared_error(y,pred))"
   ]
  },
  {
   "cell_type": "code",
   "execution_count": 146,
   "id": "5fd12462",
   "metadata": {},
   "outputs": [],
   "source": [
    "Time_series['Forecast']=pred"
   ]
  },
  {
   "cell_type": "code",
   "execution_count": 149,
   "id": "71c0c0bf",
   "metadata": {},
   "outputs": [
    {
     "data": {
      "application/javascript": [
       "\n",
       "        if (window._pyforest_update_imports_cell) { window._pyforest_update_imports_cell('import numpy as np\\nimport matplotlib.pyplot as plt\\nimport pandas as pd'); }\n",
       "    "
      ],
      "text/plain": [
       "<IPython.core.display.Javascript object>"
      ]
     },
     "metadata": {},
     "output_type": "display_data"
    },
    {
     "data": {
      "application/javascript": [
       "\n",
       "        if (window._pyforest_update_imports_cell) { window._pyforest_update_imports_cell('import numpy as np\\nimport matplotlib.pyplot as plt\\nimport pandas as pd'); }\n",
       "    "
      ],
      "text/plain": [
       "<IPython.core.display.Javascript object>"
      ]
     },
     "metadata": {},
     "output_type": "display_data"
    },
    {
     "data": {
      "text/plain": [
       "[<matplotlib.lines.Line2D at 0x2c4209d4bb0>]"
      ]
     },
     "execution_count": 149,
     "metadata": {},
     "output_type": "execute_result"
    },
    {
     "data": {
      "image/png": "[encoded data removed]",
      "text/plain": [
       "<Figure size 432x288 with 1 Axes>"
      ]
     },
     "metadata": {
      "needs_background": "light"
     },
     "output_type": "display_data"
    }
   ],
   "source": [
    "plt.plot(Time_series['Date'],Time_series['Forecast'],label=\"forecast\")\n",
    "plt.plot(Time_series['Date'],Time_series['total_sales'],label='Actuals')"
   ]
  },
  {
   "cell_type": "code",
   "execution_count": 152,
   "id": "9513fb06",
   "metadata": {},
   "outputs": [
    {
     "data": {
      "text/plain": [
       "Timestamp('2011-12-05 00:00:00')"
      ]
     },
     "execution_count": 152,
     "metadata": {},
     "output_type": "execute_result"
    }
   ],
   "source": [
    "Time_series['Date'].max()"
   ]
  },
  {
   "cell_type": "code",
   "execution_count": 160,
   "id": "6240b9c1",
   "metadata": {},
   "outputs": [
    {
     "data": {
      "application/javascript": [
       "\n",
       "        if (window._pyforest_update_imports_cell) { window._pyforest_update_imports_cell('import numpy as np\\nimport matplotlib.pyplot as plt\\nimport pandas as pd'); }\n",
       "    "
      ],
      "text/plain": [
       "<IPython.core.display.Javascript object>"
      ]
     },
     "metadata": {},
     "output_type": "display_data"
    },
    {
     "data": {
      "application/javascript": [
       "\n",
       "        if (window._pyforest_update_imports_cell) { window._pyforest_update_imports_cell('import numpy as np\\nimport matplotlib.pyplot as plt\\nimport pandas as pd'); }\n",
       "    "
      ],
      "text/plain": [
       "<IPython.core.display.Javascript object>"
      ]
     },
     "metadata": {},
     "output_type": "display_data"
    }
   ],
   "source": [
    "A=pd.DataFrame({'Date':pd.date_range('2011-12-06','2014-12-06',freq='W')})"
   ]
  },
  {
   "cell_type": "code",
   "execution_count": 163,
   "id": "3bd048ec",
   "metadata": {},
   "outputs": [
    {
     "data": {
      "text/html": [
       "<div>\n",
       "<style scoped>\n",
       "    .dataframe tbody tr th:only-of-type {\n",
       "        vertical-align: middle;\n",
       "    }\n",
       "\n",
       "    .dataframe tbody tr th {\n",
       "        vertical-align: top;\n",
       "    }\n",
       "\n",
       "    .dataframe thead th {\n",
       "        text-align: right;\n",
       "    }\n",
       "</style>\n",
       "<table border=\"1\" class=\"dataframe\">\n",
       "  <thead>\n",
       "    <tr style=\"text-align: right;\">\n",
       "      <th></th>\n",
       "      <th>Date</th>\n",
       "    </tr>\n",
       "  </thead>\n",
       "  <tbody>\n",
       "    <tr>\n",
       "      <th>0</th>\n",
       "      <td>2011-12-11</td>\n",
       "    </tr>\n",
       "    <tr>\n",
       "      <th>1</th>\n",
       "      <td>2011-12-18</td>\n",
       "    </tr>\n",
       "    <tr>\n",
       "      <th>2</th>\n",
       "      <td>2011-12-25</td>\n",
       "    </tr>\n",
       "    <tr>\n",
       "      <th>3</th>\n",
       "      <td>2012-01-01</td>\n",
       "    </tr>\n",
       "    <tr>\n",
       "      <th>4</th>\n",
       "      <td>2012-01-08</td>\n",
       "    </tr>\n",
       "    <tr>\n",
       "      <th>...</th>\n",
       "      <td>...</td>\n",
       "    </tr>\n",
       "    <tr>\n",
       "      <th>151</th>\n",
       "      <td>2014-11-02</td>\n",
       "    </tr>\n",
       "    <tr>\n",
       "      <th>152</th>\n",
       "      <td>2014-11-09</td>\n",
       "    </tr>\n",
       "    <tr>\n",
       "      <th>153</th>\n",
       "      <td>2014-11-16</td>\n",
       "    </tr>\n",
       "    <tr>\n",
       "      <th>154</th>\n",
       "      <td>2014-11-23</td>\n",
       "    </tr>\n",
       "    <tr>\n",
       "      <th>155</th>\n",
       "      <td>2014-11-30</td>\n",
       "    </tr>\n",
       "  </tbody>\n",
       "</table>\n",
       "<p>156 rows × 1 columns</p>\n",
       "</div>"
      ],
      "text/plain": [
       "          Date\n",
       "0   2011-12-11\n",
       "1   2011-12-18\n",
       "2   2011-12-25\n",
       "3   2012-01-01\n",
       "4   2012-01-08\n",
       "..         ...\n",
       "151 2014-11-02\n",
       "152 2014-11-09\n",
       "153 2014-11-16\n",
       "154 2014-11-23\n",
       "155 2014-11-30\n",
       "\n",
       "[156 rows x 1 columns]"
      ]
     },
     "execution_count": 163,
     "metadata": {},
     "output_type": "execute_result"
    }
   ],
   "source": [
    "A"
   ]
  },
  {
   "cell_type": "code",
   "execution_count": 166,
   "id": "52620c08",
   "metadata": {},
   "outputs": [
    {
     "data": {
      "application/javascript": [
       "\n",
       "        if (window._pyforest_update_imports_cell) { window._pyforest_update_imports_cell('import numpy as np\\nimport matplotlib.pyplot as plt\\nimport pandas as pd'); }\n",
       "    "
      ],
      "text/plain": [
       "<IPython.core.display.Javascript object>"
      ]
     },
     "metadata": {},
     "output_type": "display_data"
    }
   ],
   "source": [
    "Time_series=pd.concat([Time_series,A],axis=0)"
   ]
  },
  {
   "cell_type": "code",
   "execution_count": 168,
   "id": "c274e1fe",
   "metadata": {},
   "outputs": [
    {
     "name": "stderr",
     "output_type": "stream",
     "text": [
      "<ipython-input-168-d84a5d68c514>:1: FutureWarning: Series.dt.weekofyear and Series.dt.week have been deprecated.  Please use Series.dt.isocalendar().week instead.\n",
      "  Time_series['Week']=Time_series['Date'].dt.week\n"
     ]
    }
   ],
   "source": [
    "Time_series['Week']=Time_series['Date'].dt.week"
   ]
  },
  {
   "cell_type": "code",
   "execution_count": 170,
   "id": "1513c19f",
   "metadata": {},
   "outputs": [],
   "source": [
    "Time_series['Trend']=range(Time_series.shape[0])"
   ]
  },
  {
   "cell_type": "code",
   "execution_count": 171,
   "id": "ff38422e",
   "metadata": {},
   "outputs": [
    {
     "data": {
      "text/html": [
       "<div>\n",
       "<style scoped>\n",
       "    .dataframe tbody tr th:only-of-type {\n",
       "        vertical-align: middle;\n",
       "    }\n",
       "\n",
       "    .dataframe tbody tr th {\n",
       "        vertical-align: top;\n",
       "    }\n",
       "\n",
       "    .dataframe thead th {\n",
       "        text-align: right;\n",
       "    }\n",
       "</style>\n",
       "<table border=\"1\" class=\"dataframe\">\n",
       "  <thead>\n",
       "    <tr style=\"text-align: right;\">\n",
       "      <th></th>\n",
       "      <th>Week</th>\n",
       "      <th>Month</th>\n",
       "      <th>Year</th>\n",
       "      <th>Date</th>\n",
       "      <th>total_sales</th>\n",
       "      <th>Trend</th>\n",
       "      <th>Forecast</th>\n",
       "    </tr>\n",
       "  </thead>\n",
       "  <tbody>\n",
       "    <tr>\n",
       "      <th>113</th>\n",
       "      <td>49</td>\n",
       "      <td>12.0</td>\n",
       "      <td>2009.0</td>\n",
       "      <td>2009-12-01</td>\n",
       "      <td>138612.0</td>\n",
       "      <td>0</td>\n",
       "      <td>163373.609283</td>\n",
       "    </tr>\n",
       "    <tr>\n",
       "      <th>116</th>\n",
       "      <td>50</td>\n",
       "      <td>12.0</td>\n",
       "      <td>2009.0</td>\n",
       "      <td>2009-12-07</td>\n",
       "      <td>109644.0</td>\n",
       "      <td>1</td>\n",
       "      <td>107122.935316</td>\n",
       "    </tr>\n",
       "    <tr>\n",
       "      <th>118</th>\n",
       "      <td>51</td>\n",
       "      <td>12.0</td>\n",
       "      <td>2009.0</td>\n",
       "      <td>2009-12-14</td>\n",
       "      <td>125772.0</td>\n",
       "      <td>2</td>\n",
       "      <td>82485.435316</td>\n",
       "    </tr>\n",
       "    <tr>\n",
       "      <th>120</th>\n",
       "      <td>52</td>\n",
       "      <td>12.0</td>\n",
       "      <td>2009.0</td>\n",
       "      <td>2009-12-21</td>\n",
       "      <td>24680.0</td>\n",
       "      <td>3</td>\n",
       "      <td>24680.000000</td>\n",
       "    </tr>\n",
       "    <tr>\n",
       "      <th>0</th>\n",
       "      <td>1</td>\n",
       "      <td>1.0</td>\n",
       "      <td>2010.0</td>\n",
       "      <td>2010-01-04</td>\n",
       "      <td>95950.0</td>\n",
       "      <td>4</td>\n",
       "      <td>87184.631328</td>\n",
       "    </tr>\n",
       "    <tr>\n",
       "      <th>...</th>\n",
       "      <td>...</td>\n",
       "      <td>...</td>\n",
       "      <td>...</td>\n",
       "      <td>...</td>\n",
       "      <td>...</td>\n",
       "      <td>...</td>\n",
       "      <td>...</td>\n",
       "    </tr>\n",
       "    <tr>\n",
       "      <th>151</th>\n",
       "      <td>44</td>\n",
       "      <td>NaN</td>\n",
       "      <td>NaN</td>\n",
       "      <td>2014-11-02</td>\n",
       "      <td>NaN</td>\n",
       "      <td>272</td>\n",
       "      <td>NaN</td>\n",
       "    </tr>\n",
       "    <tr>\n",
       "      <th>152</th>\n",
       "      <td>45</td>\n",
       "      <td>NaN</td>\n",
       "      <td>NaN</td>\n",
       "      <td>2014-11-09</td>\n",
       "      <td>NaN</td>\n",
       "      <td>273</td>\n",
       "      <td>NaN</td>\n",
       "    </tr>\n",
       "    <tr>\n",
       "      <th>153</th>\n",
       "      <td>46</td>\n",
       "      <td>NaN</td>\n",
       "      <td>NaN</td>\n",
       "      <td>2014-11-16</td>\n",
       "      <td>NaN</td>\n",
       "      <td>274</td>\n",
       "      <td>NaN</td>\n",
       "    </tr>\n",
       "    <tr>\n",
       "      <th>154</th>\n",
       "      <td>47</td>\n",
       "      <td>NaN</td>\n",
       "      <td>NaN</td>\n",
       "      <td>2014-11-23</td>\n",
       "      <td>NaN</td>\n",
       "      <td>275</td>\n",
       "      <td>NaN</td>\n",
       "    </tr>\n",
       "    <tr>\n",
       "      <th>155</th>\n",
       "      <td>48</td>\n",
       "      <td>NaN</td>\n",
       "      <td>NaN</td>\n",
       "      <td>2014-11-30</td>\n",
       "      <td>NaN</td>\n",
       "      <td>276</td>\n",
       "      <td>NaN</td>\n",
       "    </tr>\n",
       "  </tbody>\n",
       "</table>\n",
       "<p>277 rows × 7 columns</p>\n",
       "</div>"
      ],
      "text/plain": [
       "     Week  Month    Year       Date  total_sales  Trend       Forecast\n",
       "113    49   12.0  2009.0 2009-12-01     138612.0      0  163373.609283\n",
       "116    50   12.0  2009.0 2009-12-07     109644.0      1  107122.935316\n",
       "118    51   12.0  2009.0 2009-12-14     125772.0      2   82485.435316\n",
       "120    52   12.0  2009.0 2009-12-21      24680.0      3   24680.000000\n",
       "0       1    1.0  2010.0 2010-01-04      95950.0      4   87184.631328\n",
       "..    ...    ...     ...        ...          ...    ...            ...\n",
       "151    44    NaN     NaN 2014-11-02          NaN    272            NaN\n",
       "152    45    NaN     NaN 2014-11-09          NaN    273            NaN\n",
       "153    46    NaN     NaN 2014-11-16          NaN    274            NaN\n",
       "154    47    NaN     NaN 2014-11-23          NaN    275            NaN\n",
       "155    48    NaN     NaN 2014-11-30          NaN    276            NaN\n",
       "\n",
       "[277 rows x 7 columns]"
      ]
     },
     "execution_count": 171,
     "metadata": {},
     "output_type": "execute_result"
    }
   ],
   "source": [
    "Time_series"
   ]
  },
  {
   "cell_type": "code",
   "execution_count": 182,
   "id": "46cee820",
   "metadata": {},
   "outputs": [],
   "source": [
    "Time_series['Week']=Time_series['Week'].astype('category')"
   ]
  },
  {
   "cell_type": "code",
   "execution_count": 183,
   "id": "1dfa311b",
   "metadata": {},
   "outputs": [],
   "source": [
    "X=Time_series[['Trend','Week']]"
   ]
  },
  {
   "cell_type": "code",
   "execution_count": 184,
   "id": "d31f10ab",
   "metadata": {},
   "outputs": [
    {
     "data": {
      "application/javascript": [
       "\n",
       "        if (window._pyforest_update_imports_cell) { window._pyforest_update_imports_cell('import numpy as np\\nimport matplotlib.pyplot as plt\\nimport pandas as pd'); }\n",
       "    "
      ],
      "text/plain": [
       "<IPython.core.display.Javascript object>"
      ]
     },
     "metadata": {},
     "output_type": "display_data"
    }
   ],
   "source": [
    "X=pd.get_dummies(X).values"
   ]
  },
  {
   "cell_type": "code",
   "execution_count": 187,
   "id": "12c4c054",
   "metadata": {},
   "outputs": [],
   "source": [
    "pred=model.predict(X)"
   ]
  },
  {
   "cell_type": "code",
   "execution_count": 189,
   "id": "15f56cd8",
   "metadata": {},
   "outputs": [],
   "source": [
    "Time_series['Forecast']=pred"
   ]
  },
  {
   "cell_type": "code",
   "execution_count": 190,
   "id": "e75bcb5a",
   "metadata": {},
   "outputs": [
    {
     "data": {
      "text/html": [
       "<div>\n",
       "<style scoped>\n",
       "    .dataframe tbody tr th:only-of-type {\n",
       "        vertical-align: middle;\n",
       "    }\n",
       "\n",
       "    .dataframe tbody tr th {\n",
       "        vertical-align: top;\n",
       "    }\n",
       "\n",
       "    .dataframe thead th {\n",
       "        text-align: right;\n",
       "    }\n",
       "</style>\n",
       "<table border=\"1\" class=\"dataframe\">\n",
       "  <thead>\n",
       "    <tr style=\"text-align: right;\">\n",
       "      <th></th>\n",
       "      <th>Week</th>\n",
       "      <th>Month</th>\n",
       "      <th>Year</th>\n",
       "      <th>Date</th>\n",
       "      <th>total_sales</th>\n",
       "      <th>Trend</th>\n",
       "      <th>Forecast</th>\n",
       "    </tr>\n",
       "  </thead>\n",
       "  <tbody>\n",
       "    <tr>\n",
       "      <th>113</th>\n",
       "      <td>49</td>\n",
       "      <td>12.0</td>\n",
       "      <td>2009.0</td>\n",
       "      <td>2009-12-01</td>\n",
       "      <td>138612.0</td>\n",
       "      <td>0</td>\n",
       "      <td>163373.609283</td>\n",
       "    </tr>\n",
       "    <tr>\n",
       "      <th>116</th>\n",
       "      <td>50</td>\n",
       "      <td>12.0</td>\n",
       "      <td>2009.0</td>\n",
       "      <td>2009-12-07</td>\n",
       "      <td>109644.0</td>\n",
       "      <td>1</td>\n",
       "      <td>107122.935316</td>\n",
       "    </tr>\n",
       "    <tr>\n",
       "      <th>118</th>\n",
       "      <td>51</td>\n",
       "      <td>12.0</td>\n",
       "      <td>2009.0</td>\n",
       "      <td>2009-12-14</td>\n",
       "      <td>125772.0</td>\n",
       "      <td>2</td>\n",
       "      <td>82485.435316</td>\n",
       "    </tr>\n",
       "    <tr>\n",
       "      <th>120</th>\n",
       "      <td>52</td>\n",
       "      <td>12.0</td>\n",
       "      <td>2009.0</td>\n",
       "      <td>2009-12-21</td>\n",
       "      <td>24680.0</td>\n",
       "      <td>3</td>\n",
       "      <td>24680.000000</td>\n",
       "    </tr>\n",
       "    <tr>\n",
       "      <th>0</th>\n",
       "      <td>1</td>\n",
       "      <td>1.0</td>\n",
       "      <td>2010.0</td>\n",
       "      <td>2010-01-04</td>\n",
       "      <td>95950.0</td>\n",
       "      <td>4</td>\n",
       "      <td>87184.631328</td>\n",
       "    </tr>\n",
       "    <tr>\n",
       "      <th>...</th>\n",
       "      <td>...</td>\n",
       "      <td>...</td>\n",
       "      <td>...</td>\n",
       "      <td>...</td>\n",
       "      <td>...</td>\n",
       "      <td>...</td>\n",
       "      <td>...</td>\n",
       "    </tr>\n",
       "    <tr>\n",
       "      <th>151</th>\n",
       "      <td>44</td>\n",
       "      <td>NaN</td>\n",
       "      <td>NaN</td>\n",
       "      <td>2014-11-02</td>\n",
       "      <td>NaN</td>\n",
       "      <td>272</td>\n",
       "      <td>76027.041476</td>\n",
       "    </tr>\n",
       "    <tr>\n",
       "      <th>152</th>\n",
       "      <td>45</td>\n",
       "      <td>NaN</td>\n",
       "      <td>NaN</td>\n",
       "      <td>2014-11-09</td>\n",
       "      <td>NaN</td>\n",
       "      <td>273</td>\n",
       "      <td>128313.896370</td>\n",
       "    </tr>\n",
       "    <tr>\n",
       "      <th>153</th>\n",
       "      <td>46</td>\n",
       "      <td>NaN</td>\n",
       "      <td>NaN</td>\n",
       "      <td>2014-11-16</td>\n",
       "      <td>NaN</td>\n",
       "      <td>274</td>\n",
       "      <td>125334.896370</td>\n",
       "    </tr>\n",
       "    <tr>\n",
       "      <th>154</th>\n",
       "      <td>47</td>\n",
       "      <td>NaN</td>\n",
       "      <td>NaN</td>\n",
       "      <td>2014-11-23</td>\n",
       "      <td>NaN</td>\n",
       "      <td>275</td>\n",
       "      <td>117281.896370</td>\n",
       "    </tr>\n",
       "    <tr>\n",
       "      <th>155</th>\n",
       "      <td>48</td>\n",
       "      <td>NaN</td>\n",
       "      <td>NaN</td>\n",
       "      <td>2014-11-30</td>\n",
       "      <td>NaN</td>\n",
       "      <td>276</td>\n",
       "      <td>44242.450359</td>\n",
       "    </tr>\n",
       "  </tbody>\n",
       "</table>\n",
       "<p>277 rows × 7 columns</p>\n",
       "</div>"
      ],
      "text/plain": [
       "    Week  Month    Year       Date  total_sales  Trend       Forecast\n",
       "113   49   12.0  2009.0 2009-12-01     138612.0      0  163373.609283\n",
       "116   50   12.0  2009.0 2009-12-07     109644.0      1  107122.935316\n",
       "118   51   12.0  2009.0 2009-12-14     125772.0      2   82485.435316\n",
       "120   52   12.0  2009.0 2009-12-21      24680.0      3   24680.000000\n",
       "0      1    1.0  2010.0 2010-01-04      95950.0      4   87184.631328\n",
       "..   ...    ...     ...        ...          ...    ...            ...\n",
       "151   44    NaN     NaN 2014-11-02          NaN    272   76027.041476\n",
       "152   45    NaN     NaN 2014-11-09          NaN    273  128313.896370\n",
       "153   46    NaN     NaN 2014-11-16          NaN    274  125334.896370\n",
       "154   47    NaN     NaN 2014-11-23          NaN    275  117281.896370\n",
       "155   48    NaN     NaN 2014-11-30          NaN    276   44242.450359\n",
       "\n",
       "[277 rows x 7 columns]"
      ]
     },
     "execution_count": 190,
     "metadata": {},
     "output_type": "execute_result"
    }
   ],
   "source": [
    "Time_series"
   ]
  },
  {
   "cell_type": "code",
   "execution_count": 191,
   "id": "e156c442",
   "metadata": {},
   "outputs": [
    {
     "data": {
      "application/javascript": [
       "\n",
       "        if (window._pyforest_update_imports_cell) { window._pyforest_update_imports_cell('import numpy as np\\nimport matplotlib.pyplot as plt\\nimport pandas as pd'); }\n",
       "    "
      ],
      "text/plain": [
       "<IPython.core.display.Javascript object>"
      ]
     },
     "metadata": {},
     "output_type": "display_data"
    },
    {
     "data": {
      "application/javascript": [
       "\n",
       "        if (window._pyforest_update_imports_cell) { window._pyforest_update_imports_cell('import numpy as np\\nimport matplotlib.pyplot as plt\\nimport pandas as pd'); }\n",
       "    "
      ],
      "text/plain": [
       "<IPython.core.display.Javascript object>"
      ]
     },
     "metadata": {},
     "output_type": "display_data"
    },
    {
     "data": {
      "text/plain": [
       "[<matplotlib.lines.Line2D at 0x2c45c8d4a90>]"
      ]
     },
     "execution_count": 191,
     "metadata": {},
     "output_type": "execute_result"
    },
    {
     "data": {
      "image/png": "[encoded data removed]",
      "text/plain": [
       "<Figure size 432x288 with 1 Axes>"
      ]
     },
     "metadata": {
      "needs_background": "light"
     },
     "output_type": "display_data"
    }
   ],
   "source": [
    "plt.plot(Time_series['Date'],Time_series['Forecast'],label=\"forecast\")\n",
    "plt.plot(Time_series['Date'],Time_series['total_sales'],label='Actuals')"
   ]
  },
  {
   "cell_type": "code",
   "execution_count": 206,
   "id": "6b352bb0",
   "metadata": {},
   "outputs": [],
   "source": [
    "Time_series['Week']=Time_series['Week'].astype('category')\n",
    "Time_series['Month']=Time_series['Month'].astype('category')"
   ]
  },
  {
   "cell_type": "code",
   "execution_count": 207,
   "id": "8d4f7567",
   "metadata": {},
   "outputs": [],
   "source": [
    "X=Time_series[['Trend','Week','Month']]"
   ]
  },
  {
   "cell_type": "code",
   "execution_count": 208,
   "id": "70198603",
   "metadata": {},
   "outputs": [],
   "source": [
    "y=Time_series['total_sales'].values"
   ]
  },
  {
   "cell_type": "code",
   "execution_count": 209,
   "id": "d5ce12f8",
   "metadata": {},
   "outputs": [
    {
     "data": {
      "application/javascript": [
       "\n",
       "        if (window._pyforest_update_imports_cell) { window._pyforest_update_imports_cell('import numpy as np\\nimport matplotlib.pyplot as plt\\nimport pandas as pd'); }\n",
       "    "
      ],
      "text/plain": [
       "<IPython.core.display.Javascript object>"
      ]
     },
     "metadata": {},
     "output_type": "display_data"
    }
   ],
   "source": [
    "X=pd.get_dummies(X).values"
   ]
  },
  {
   "cell_type": "code",
   "execution_count": null,
   "id": "ff7e3a35",
   "metadata": {},
   "outputs": [],
   "source": []
  },
  {
   "cell_type": "code",
   "execution_count": 210,
   "id": "c4782689",
   "metadata": {},
   "outputs": [
    {
     "data": {
      "text/plain": [
       "LinearRegression()"
      ]
     },
     "execution_count": 210,
     "metadata": {},
     "output_type": "execute_result"
    }
   ],
   "source": [
    "model.fit(X,y)"
   ]
  },
  {
   "cell_type": "code",
   "execution_count": 211,
   "id": "1b61249a",
   "metadata": {},
   "outputs": [],
   "source": [
    "pred=model.predict(X)"
   ]
  },
  {
   "cell_type": "code",
   "execution_count": 212,
   "id": "f1e44b17",
   "metadata": {},
   "outputs": [
    {
     "data": {
      "text/plain": [
       "318071404.07337546"
      ]
     },
     "execution_count": 212,
     "metadata": {},
     "output_type": "execute_result"
    }
   ],
   "source": [
    "mean_squared_error(y,pred)"
   ]
  },
  {
   "cell_type": "code",
   "execution_count": 213,
   "id": "0d2a4f74",
   "metadata": {},
   "outputs": [],
   "source": [
    "Time_series['Forecast']=pred"
   ]
  },
  {
   "cell_type": "code",
   "execution_count": 214,
   "id": "8772e9f9",
   "metadata": {},
   "outputs": [
    {
     "data": {
      "application/javascript": [
       "\n",
       "        if (window._pyforest_update_imports_cell) { window._pyforest_update_imports_cell('import numpy as np\\nimport matplotlib.pyplot as plt\\nimport pandas as pd'); }\n",
       "    "
      ],
      "text/plain": [
       "<IPython.core.display.Javascript object>"
      ]
     },
     "metadata": {},
     "output_type": "display_data"
    },
    {
     "data": {
      "application/javascript": [
       "\n",
       "        if (window._pyforest_update_imports_cell) { window._pyforest_update_imports_cell('import numpy as np\\nimport matplotlib.pyplot as plt\\nimport pandas as pd'); }\n",
       "    "
      ],
      "text/plain": [
       "<IPython.core.display.Javascript object>"
      ]
     },
     "metadata": {},
     "output_type": "display_data"
    },
    {
     "data": {
      "text/plain": [
       "[<matplotlib.lines.Line2D at 0x2c45c768d90>]"
      ]
     },
     "execution_count": 214,
     "metadata": {},
     "output_type": "execute_result"
    },
    {
     "data": {
      "image/png": "[encoded data removed]",
      "text/plain": [
       "<Figure size 432x288 with 1 Axes>"
      ]
     },
     "metadata": {
      "needs_background": "light"
     },
     "output_type": "display_data"
    }
   ],
   "source": [
    "plt.plot(Time_series['Date'],Time_series['Forecast'],label=\"forecast\")\n",
    "plt.plot(Time_series['Date'],Time_series['total_sales'],label='Actuals')"
   ]
  },
  {
   "cell_type": "code",
   "execution_count": 2,
   "id": "451bcfe3",
   "metadata": {},
   "outputs": [],
   "source": [
    "# ARIMA FORECASTING METHOD"
   ]
  },
  {
   "cell_type": "code",
   "execution_count": 1,
   "id": "11aad1f4",
   "metadata": {},
   "outputs": [],
   "source": [
    "# ARIMA"
   ]
  },
  {
   "cell_type": "code",
   "execution_count": null,
   "id": "7f1194d4",
   "metadata": {},
   "outputs": [],
   "source": []
  }
 ],
 "metadata": {
  "kernelspec": {
   "display_name": "Python 3",
   "language": "python",
   "name": "python3"
  },
  "language_info": {
   "codemirror_mode": {
    "name": "ipython",
    "version": 3
   },
   "file_extension": ".py",
   "mimetype": "text/x-python",
   "name": "python",
   "nbconvert_exporter": "python",
   "pygments_lexer": "ipython3",
   "version": "3.8.8"
  }
 },
 "nbformat": 4,
 "nbformat_minor": 5
}
