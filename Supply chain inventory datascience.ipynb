{
 "cells": [
  {
   "cell_type": "code",
   "execution_count": 20,
   "id": "9cc290c4",
   "metadata": {},
   "outputs": [
    {
     "name": "stdout",
     "output_type": "stream",
     "text": [
      "Requirement already satisfied: inventorize in c:\\users\\njjanaki\\anaconda3\\lib\\site-packages (1.1.9)\n",
      "Requirement already satisfied: scikit-learn in c:\\users\\njjanaki\\anaconda3\\lib\\site-packages (from inventorize) (1.1.2)\n",
      "Requirement already satisfied: numpy>=1.14.5 in c:\\users\\njjanaki\\anaconda3\\lib\\site-packages (from inventorize) (1.22.4)\n",
      "Requirement already satisfied: scipy in c:\\users\\njjanaki\\anaconda3\\lib\\site-packages (from inventorize) (1.8.1)\n",
      "Requirement already satisfied: plotly in c:\\users\\njjanaki\\anaconda3\\lib\\site-packages (from inventorize) (5.7.0)\n",
      "Requirement already satisfied: pandas>=0.23.3 in c:\\users\\njjanaki\\anaconda3\\lib\\site-packages (from inventorize) (1.4.3)\n",
      "Requirement already satisfied: pytz>=2020.1 in c:\\users\\njjanaki\\anaconda3\\lib\\site-packages (from pandas>=0.23.3->inventorize) (2022.1)\n",
      "Requirement already satisfied: python-dateutil>=2.8.1 in c:\\users\\njjanaki\\anaconda3\\lib\\site-packages (from pandas>=0.23.3->inventorize) (2.8.2)\n",
      "Requirement already satisfied: six>=1.5 in c:\\users\\njjanaki\\anaconda3\\lib\\site-packages (from python-dateutil>=2.8.1->pandas>=0.23.3->inventorize) (1.16.0)\n",
      "Requirement already satisfied: tenacity>=6.2.0 in c:\\users\\njjanaki\\anaconda3\\lib\\site-packages (from plotly->inventorize) (8.0.1)\n",
      "Requirement already satisfied: joblib>=1.0.0 in c:\\users\\njjanaki\\anaconda3\\lib\\site-packages (from scikit-learn->inventorize) (1.1.0)\n",
      "Requirement already satisfied: threadpoolctl>=2.0.0 in c:\\users\\njjanaki\\anaconda3\\lib\\site-packages (from scikit-learn->inventorize) (3.1.0)\n"
     ]
    }
   ],
   "source": [
    "## inventory\n",
    "\n",
    "!pip install inventorize"
   ]
  },
  {
   "cell_type": "code",
   "execution_count": 27,
   "id": "400a4eda",
   "metadata": {},
   "outputs": [],
   "source": [
    "# import inventorize as inv"
   ]
  },
  {
   "cell_type": "code",
   "execution_count": null,
   "id": "aecd0fe6",
   "metadata": {},
   "outputs": [],
   "source": [
    "# You are the supply chain manager of coffee co , a well known brand for coffee \n",
    "# columbian blend coffee co takes raw coffee from it's partner supplier in Columbia. \n",
    "# The annual demand of raw coffee is 4000 tons per year, the price of one ton from the supplier is 2500 USD, \n",
    "# assume a holding rate of 10% while the cost of transportation and ordering is 6000 USD.\n",
    "# What should be the optimal Q?\n",
    "# What is the total logistics cost ? what is your t practical?\n",
    "# If the supplier will offer you a 10 % discount if your Q is 500, would you accept it?\n",
    "# The lead time for the orders to arrive is two month, what will be the reorder-point?\n",
    "# # The lead time for the orders to arrive is two month, what will be the reorder-point?"
   ]
  },
  {
   "cell_type": "code",
   "execution_count": 83,
   "id": "222982dc",
   "metadata": {},
   "outputs": [],
   "source": [
    "d=4000\n",
    "c=2500\n",
    "s=6000\n",
    "h=250     # 0.1% of cost "
   ]
  },
  {
   "cell_type": "code",
   "execution_count": 84,
   "id": "c0bf1519",
   "metadata": {},
   "outputs": [
    {
     "data": {
      "application/javascript": [
       "\n",
       "        if (window._pyforest_update_imports_cell) { window._pyforest_update_imports_cell('import numpy as np'); }\n",
       "    "
      ],
      "text/plain": [
       "<IPython.core.display.Javascript object>"
      ]
     },
     "metadata": {},
     "output_type": "display_data"
    }
   ],
   "source": [
    "eoq= np.sqrt((2*d*s)/h)"
   ]
  },
  {
   "cell_type": "code",
   "execution_count": 80,
   "id": "0d67cb83",
   "metadata": {},
   "outputs": [],
   "source": [
    "# eoq=438*438"
   ]
  },
  {
   "cell_type": "code",
   "execution_count": 81,
   "id": "dcd41455",
   "metadata": {},
   "outputs": [],
   "source": [
    "# h=(2*d*s)/eoq"
   ]
  },
  {
   "cell_type": "code",
   "execution_count": 82,
   "id": "5f012d01",
   "metadata": {},
   "outputs": [
    {
     "data": {
      "text/plain": [
       "250.20329017326577"
      ]
     },
     "execution_count": 82,
     "metadata": {},
     "output_type": "execute_result"
    }
   ],
   "source": [
    "# h"
   ]
  },
  {
   "cell_type": "code",
   "execution_count": 85,
   "id": "61da473e",
   "metadata": {},
   "outputs": [
    {
     "data": {
      "text/plain": [
       "438.1780460041329"
      ]
     },
     "execution_count": 85,
     "metadata": {},
     "output_type": "execute_result"
    }
   ],
   "source": [
    "eoq"
   ]
  },
  {
   "cell_type": "code",
   "execution_count": 86,
   "id": "74d82799",
   "metadata": {},
   "outputs": [],
   "source": [
    "# Total_cost = ordering_cost + holding_cost + purchsing_cost"
   ]
  },
  {
   "cell_type": "code",
   "execution_count": 87,
   "id": "e734a4f8",
   "metadata": {},
   "outputs": [],
   "source": [
    "TC = (d/eoq)*s + (eoq/2)*h + d*c"
   ]
  },
  {
   "cell_type": "code",
   "execution_count": 88,
   "id": "9958f533",
   "metadata": {},
   "outputs": [
    {
     "data": {
      "text/plain": [
       "10109544.511501033"
      ]
     },
     "execution_count": 88,
     "metadata": {},
     "output_type": "execute_result"
    }
   ],
   "source": [
    "TC"
   ]
  },
  {
   "cell_type": "code",
   "execution_count": null,
   "id": "29aca2d5",
   "metadata": {},
   "outputs": [],
   "source": []
  },
  {
   "cell_type": "code",
   "execution_count": 95,
   "id": "d7bf36e0",
   "metadata": {},
   "outputs": [
    {
     "data": {
      "text/plain": [
       "109544.51150103322"
      ]
     },
     "execution_count": 95,
     "metadata": {},
     "output_type": "execute_result"
    }
   ],
   "source": [
    "TRC = (d/eoq)*s + (eoq/2)*h\n",
    "TRC"
   ]
  },
  {
   "cell_type": "code",
   "execution_count": null,
   "id": "693ff638",
   "metadata": {},
   "outputs": [],
   "source": []
  },
  {
   "cell_type": "code",
   "execution_count": 89,
   "id": "9e58f8d6",
   "metadata": {},
   "outputs": [],
   "source": [
    "# @ 10 % discount"
   ]
  },
  {
   "cell_type": "code",
   "execution_count": 92,
   "id": "f368c6cc",
   "metadata": {},
   "outputs": [],
   "source": [
    "TC_dis = (d/500)*s + (500/2)*h*0.9 + d*c*0.9"
   ]
  },
  {
   "cell_type": "code",
   "execution_count": 93,
   "id": "b7514dac",
   "metadata": {},
   "outputs": [
    {
     "data": {
      "text/plain": [
       "9104250.0"
      ]
     },
     "execution_count": 93,
     "metadata": {},
     "output_type": "execute_result"
    }
   ],
   "source": [
    "TC_dis"
   ]
  },
  {
   "cell_type": "code",
   "execution_count": 96,
   "id": "8c966510",
   "metadata": {},
   "outputs": [
    {
     "data": {
      "text/plain": [
       "104250.0"
      ]
     },
     "execution_count": 96,
     "metadata": {},
     "output_type": "execute_result"
    }
   ],
   "source": [
    "TRC = (d/500)*s + (500/2)*h*0.9\n",
    "TRC"
   ]
  },
  {
   "cell_type": "code",
   "execution_count": null,
   "id": "62d76bed",
   "metadata": {},
   "outputs": [],
   "source": []
  },
  {
   "cell_type": "code",
   "execution_count": 94,
   "id": "c6da1750",
   "metadata": {},
   "outputs": [],
   "source": [
    "# Reorder_point based on Lead Time"
   ]
  },
  {
   "cell_type": "code",
   "execution_count": null,
   "id": "aeaf5a25",
   "metadata": {},
   "outputs": [],
   "source": [
    "# assume lead time(l) is 1 month"
   ]
  },
  {
   "cell_type": "code",
   "execution_count": 99,
   "id": "0b12a055",
   "metadata": {},
   "outputs": [
    {
     "data": {
      "text/plain": [
       "0.10954451150103323"
      ]
     },
     "execution_count": 99,
     "metadata": {},
     "output_type": "execute_result"
    }
   ],
   "source": [
    "t = eoq/d   #(cycle time)\n",
    "t"
   ]
  },
  {
   "cell_type": "code",
   "execution_count": 100,
   "id": "b7146bc3",
   "metadata": {},
   "outputs": [
    {
     "data": {
      "text/plain": [
       "0.08333333333333333"
      ]
     },
     "execution_count": 100,
     "metadata": {},
     "output_type": "execute_result"
    }
   ],
   "source": [
    "l = 1/12\n",
    "l"
   ]
  },
  {
   "cell_type": "code",
   "execution_count": 101,
   "id": "a14d698c",
   "metadata": {},
   "outputs": [
    {
     "data": {
      "text/plain": [
       "True"
      ]
     },
     "execution_count": 101,
     "metadata": {},
     "output_type": "execute_result"
    }
   ],
   "source": [
    "l<t"
   ]
  },
  {
   "cell_type": "code",
   "execution_count": 102,
   "id": "bf513d74",
   "metadata": {},
   "outputs": [
    {
     "data": {
      "text/plain": [
       "333.3333333333333"
      ]
     },
     "execution_count": 102,
     "metadata": {},
     "output_type": "execute_result"
    }
   ],
   "source": [
    "RP = l*d\n",
    "RP"
   ]
  },
  {
   "cell_type": "code",
   "execution_count": null,
   "id": "e05a4439",
   "metadata": {},
   "outputs": [],
   "source": []
  },
  {
   "cell_type": "code",
   "execution_count": 103,
   "id": "140f958f",
   "metadata": {},
   "outputs": [],
   "source": [
    "# assume lead time(l) is 2 month"
   ]
  },
  {
   "cell_type": "code",
   "execution_count": 133,
   "id": "f3f852ab",
   "metadata": {},
   "outputs": [
    {
     "data": {
      "text/plain": [
       "0.16666666666666666"
      ]
     },
     "execution_count": 133,
     "metadata": {},
     "output_type": "execute_result"
    }
   ],
   "source": [
    "l=2/12\n",
    "l"
   ]
  },
  {
   "cell_type": "code",
   "execution_count": 134,
   "id": "191f1231",
   "metadata": {},
   "outputs": [
    {
     "data": {
      "text/plain": [
       "False"
      ]
     },
     "execution_count": 134,
     "metadata": {},
     "output_type": "execute_result"
    }
   ],
   "source": [
    "l<t"
   ]
  },
  {
   "cell_type": "code",
   "execution_count": 135,
   "id": "4629045b",
   "metadata": {},
   "outputs": [
    {
     "data": {
      "text/plain": [
       "0.05712215516563343"
      ]
     },
     "execution_count": 135,
     "metadata": {},
     "output_type": "execute_result"
    }
   ],
   "source": [
    "l-t"
   ]
  },
  {
   "cell_type": "code",
   "execution_count": null,
   "id": "01f9e98c",
   "metadata": {},
   "outputs": [],
   "source": []
  },
  {
   "cell_type": "code",
   "execution_count": 136,
   "id": "a7792625",
   "metadata": {},
   "outputs": [
    {
     "data": {
      "text/plain": [
       "228.48862066253372"
      ]
     },
     "execution_count": 136,
     "metadata": {},
     "output_type": "execute_result"
    }
   ],
   "source": [
    "L_prime = (l - t)*4000\n",
    "L_prime"
   ]
  },
  {
   "cell_type": "code",
   "execution_count": null,
   "id": "72629a2e",
   "metadata": {},
   "outputs": [],
   "source": []
  },
  {
   "cell_type": "code",
   "execution_count": null,
   "id": "a06e7c6a",
   "metadata": {},
   "outputs": [],
   "source": []
  },
  {
   "cell_type": "code",
   "execution_count": 137,
   "id": "a1cdd830",
   "metadata": {},
   "outputs": [],
   "source": [
    "# assume lead time(l) is 2 month"
   ]
  },
  {
   "cell_type": "code",
   "execution_count": 138,
   "id": "7e871e5b",
   "metadata": {},
   "outputs": [
    {
     "data": {
      "text/plain": [
       "0.3333333333333333"
      ]
     },
     "execution_count": 138,
     "metadata": {},
     "output_type": "execute_result"
    }
   ],
   "source": [
    "l=4/12\n",
    "l"
   ]
  },
  {
   "cell_type": "code",
   "execution_count": 139,
   "id": "c23a0c95",
   "metadata": {},
   "outputs": [
    {
     "data": {
      "text/plain": [
       "0.2237888218323001"
      ]
     },
     "execution_count": 139,
     "metadata": {},
     "output_type": "execute_result"
    }
   ],
   "source": [
    "l-t"
   ]
  },
  {
   "cell_type": "code",
   "execution_count": 140,
   "id": "3a7d3c1b",
   "metadata": {},
   "outputs": [
    {
     "data": {
      "text/plain": [
       "895.1552873292004"
      ]
     },
     "execution_count": 140,
     "metadata": {},
     "output_type": "execute_result"
    }
   ],
   "source": [
    "L_prime = (l - t)*4000\n",
    "L_prime"
   ]
  },
  {
   "cell_type": "code",
   "execution_count": null,
   "id": "04a329fe",
   "metadata": {},
   "outputs": [],
   "source": []
  },
  {
   "cell_type": "code",
   "execution_count": null,
   "id": "2157d0eb",
   "metadata": {},
   "outputs": [],
   "source": []
  }
 ],
 "metadata": {
  "kernelspec": {
   "display_name": "Python 3 (ipykernel)",
   "language": "python",
   "name": "python3"
  },
  "language_info": {
   "codemirror_mode": {
    "name": "ipython",
    "version": 3
   },
   "file_extension": ".py",
   "mimetype": "text/x-python",
   "name": "python",
   "nbconvert_exporter": "python",
   "pygments_lexer": "ipython3",
   "version": "3.8.8"
  }
 },
 "nbformat": 4,
 "nbformat_minor": 5
}
