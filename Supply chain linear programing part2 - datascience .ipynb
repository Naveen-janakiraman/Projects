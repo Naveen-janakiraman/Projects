{
 "cells": [
  {
   "cell_type": "code",
   "execution_count": 1,
   "id": "0daf70c5",
   "metadata": {},
   "outputs": [],
   "source": [
    "from pulp import *"
   ]
  },
  {
   "cell_type": "code",
   "execution_count": 3,
   "id": "a30084b0",
   "metadata": {},
   "outputs": [],
   "source": [
    "model=LpProblem('Shipping_cost',LpMinimize)"
   ]
  },
  {
   "cell_type": "code",
   "execution_count": 6,
   "id": "483787ea",
   "metadata": {},
   "outputs": [],
   "source": [
    "customers=['Ind','can','eur']\n",
    "products=['tea','coffee','boost']\n",
    "factory=['fac1','fac2']"
   ]
  },
  {
   "cell_type": "code",
   "execution_count": 7,
   "id": "65454ecd",
   "metadata": {},
   "outputs": [],
   "source": [
    "keys=[(f,p,c) for f in factory for p in products for c in customers]"
   ]
  },
  {
   "cell_type": "code",
   "execution_count": 9,
   "id": "111a3142",
   "metadata": {},
   "outputs": [],
   "source": [
    "var=LpVariable.dicts('shipping_cost',keys,0,None,cat='Integer')\n"
   ]
  },
  {
   "cell_type": "code",
   "execution_count": 10,
   "id": "895bb422",
   "metadata": {},
   "outputs": [],
   "source": [
    "cost_value = [50,80,50,60,90,60,70,90,70,80,50,80,90,60,90,90,70,90]"
   ]
  },
  {
   "cell_type": "code",
   "execution_count": 11,
   "id": "f7ba5c37",
   "metadata": {},
   "outputs": [],
   "source": [
    "costs=dict(zip(keys,cost_value))"
   ]
  },
  {
   "cell_type": "code",
   "execution_count": 12,
   "id": "801fa692",
   "metadata": {},
   "outputs": [
    {
     "data": {
      "text/plain": [
       "{('fac1', 'tea', 'Ind'): 50,\n",
       " ('fac1', 'tea', 'can'): 80,\n",
       " ('fac1', 'tea', 'eur'): 50,\n",
       " ('fac1', 'coffee', 'Ind'): 60,\n",
       " ('fac1', 'coffee', 'can'): 90,\n",
       " ('fac1', 'coffee', 'eur'): 60,\n",
       " ('fac1', 'boost', 'Ind'): 70,\n",
       " ('fac1', 'boost', 'can'): 90,\n",
       " ('fac1', 'boost', 'eur'): 70,\n",
       " ('fac2', 'tea', 'Ind'): 80,\n",
       " ('fac2', 'tea', 'can'): 50,\n",
       " ('fac2', 'tea', 'eur'): 80,\n",
       " ('fac2', 'coffee', 'Ind'): 90,\n",
       " ('fac2', 'coffee', 'can'): 60,\n",
       " ('fac2', 'coffee', 'eur'): 90,\n",
       " ('fac2', 'boost', 'Ind'): 90,\n",
       " ('fac2', 'boost', 'can'): 70,\n",
       " ('fac2', 'boost', 'eur'): 90}"
      ]
     },
     "execution_count": 12,
     "metadata": {},
     "output_type": "execute_result"
    }
   ],
   "source": [
    "costs"
   ]
  },
  {
   "cell_type": "code",
   "execution_count": null,
   "id": "884192dc",
   "metadata": {},
   "outputs": [],
   "source": []
  },
  {
   "cell_type": "code",
   "execution_count": 13,
   "id": "4d8f5249",
   "metadata": {},
   "outputs": [],
   "source": [
    "demand_keys=[(p,c) for p in products for c in customers]"
   ]
  },
  {
   "cell_type": "code",
   "execution_count": 14,
   "id": "b56a73d1",
   "metadata": {},
   "outputs": [],
   "source": [
    "demand_value=[90,120,78,65,450,52,700,40,500]"
   ]
  },
  {
   "cell_type": "code",
   "execution_count": 15,
   "id": "d20acb4b",
   "metadata": {},
   "outputs": [],
   "source": [
    "demand=dict(zip(demand_keys,demand_value))"
   ]
  },
  {
   "cell_type": "code",
   "execution_count": 16,
   "id": "cd3893c9",
   "metadata": {},
   "outputs": [
    {
     "data": {
      "text/plain": [
       "{('tea', 'Ind'): 90,\n",
       " ('tea', 'can'): 120,\n",
       " ('tea', 'eur'): 78,\n",
       " ('coffee', 'Ind'): 65,\n",
       " ('coffee', 'can'): 450,\n",
       " ('coffee', 'eur'): 52,\n",
       " ('boost', 'Ind'): 700,\n",
       " ('boost', 'can'): 40,\n",
       " ('boost', 'eur'): 500}"
      ]
     },
     "execution_count": 16,
     "metadata": {},
     "output_type": "execute_result"
    }
   ],
   "source": [
    "demand"
   ]
  },
  {
   "cell_type": "code",
   "execution_count": null,
   "id": "7ffc3ed4",
   "metadata": {},
   "outputs": [],
   "source": []
  },
  {
   "cell_type": "code",
   "execution_count": 17,
   "id": "0c7c5e6a",
   "metadata": {},
   "outputs": [],
   "source": [
    "model+=lpSum(var[(f,p,c)]*costs[(f,p,c)] for f in factory for p in products for c in customers)"
   ]
  },
  {
   "cell_type": "code",
   "execution_count": null,
   "id": "1536be33",
   "metadata": {},
   "outputs": [],
   "source": []
  },
  {
   "cell_type": "code",
   "execution_count": 18,
   "id": "0ad2291b",
   "metadata": {},
   "outputs": [],
   "source": [
    "# constriants "
   ]
  },
  {
   "cell_type": "code",
   "execution_count": 19,
   "id": "7fd1cd54",
   "metadata": {},
   "outputs": [],
   "source": [
    "model+=lpSum(var[('fac1',p,c)] for p in products for c in customers) <=1500\n",
    "model+=lpSum(var[('fac2',p,c)] for p in products for c in customers) <=2500"
   ]
  },
  {
   "cell_type": "code",
   "execution_count": null,
   "id": "74d5f5f9",
   "metadata": {},
   "outputs": [],
   "source": []
  },
  {
   "cell_type": "code",
   "execution_count": 22,
   "id": "4845af6a",
   "metadata": {},
   "outputs": [],
   "source": [
    "for p in products:\n",
    "    for c in customers:\n",
    "        model+= (var[('fac1',p,c)]+var[('fac2',p,c)]) >= demand[(p,c)]"
   ]
  },
  {
   "cell_type": "code",
   "execution_count": 23,
   "id": "9450b94d",
   "metadata": {},
   "outputs": [
    {
     "data": {
      "text/plain": [
       "1"
      ]
     },
     "execution_count": 23,
     "metadata": {},
     "output_type": "execute_result"
    }
   ],
   "source": [
    "model.solve()"
   ]
  },
  {
   "cell_type": "code",
   "execution_count": 24,
   "id": "c3138414",
   "metadata": {},
   "outputs": [
    {
     "data": {
      "text/plain": [
       "135220.0"
      ]
     },
     "execution_count": 24,
     "metadata": {},
     "output_type": "execute_result"
    }
   ],
   "source": [
    "value(model.objective)"
   ]
  },
  {
   "cell_type": "code",
   "execution_count": 31,
   "id": "76e635f3",
   "metadata": {},
   "outputs": [
    {
     "name": "stdout",
     "output_type": "stream",
     "text": [
      "('fac1', 'tea', 'Ind') shipping cost is 90.0\n",
      "('fac1', 'tea', 'can') shipping cost is 0.0\n",
      "('fac1', 'tea', 'eur') shipping cost is 78.0\n",
      "('fac1', 'coffee', 'Ind') shipping cost is 65.0\n",
      "('fac1', 'coffee', 'can') shipping cost is 0.0\n",
      "('fac1', 'coffee', 'eur') shipping cost is 52.0\n",
      "('fac1', 'boost', 'Ind') shipping cost is 700.0\n",
      "('fac1', 'boost', 'can') shipping cost is 0.0\n",
      "('fac1', 'boost', 'eur') shipping cost is 500.0\n",
      "('fac2', 'tea', 'Ind') shipping cost is 0.0\n",
      "('fac2', 'tea', 'can') shipping cost is 120.0\n",
      "('fac2', 'tea', 'eur') shipping cost is 0.0\n",
      "('fac2', 'coffee', 'Ind') shipping cost is 0.0\n",
      "('fac2', 'coffee', 'can') shipping cost is 450.0\n",
      "('fac2', 'coffee', 'eur') shipping cost is 0.0\n",
      "('fac2', 'boost', 'Ind') shipping cost is 0.0\n",
      "('fac2', 'boost', 'can') shipping cost is 40.0\n",
      "('fac2', 'boost', 'eur') shipping cost is 0.0\n"
     ]
    }
   ],
   "source": [
    "for i in var:\n",
    "    print('{} shipping cost is {}'.format(i,var[i].varValue))\n"
   ]
  },
  {
   "cell_type": "code",
   "execution_count": null,
   "id": "1b042714",
   "metadata": {},
   "outputs": [],
   "source": []
  },
  {
   "cell_type": "code",
   "execution_count": 32,
   "id": "f382767e",
   "metadata": {},
   "outputs": [],
   "source": [
    "# production scheduling"
   ]
  },
  {
   "cell_type": "code",
   "execution_count": 33,
   "id": "b583d282",
   "metadata": {},
   "outputs": [
    {
     "data": {
      "application/javascript": [
       "\n",
       "        if (window._pyforest_update_imports_cell) { window._pyforest_update_imports_cell('import pandas as pd'); }\n",
       "    "
      ],
      "text/plain": [
       "<IPython.core.display.Javascript object>"
      ]
     },
     "metadata": {},
     "output_type": "display_data"
    }
   ],
   "source": [
    "param=pd.read_excel('C:\\\\documents\\\\study material\\\\data science\\\\supply chain\\\\Udemy - RA Data Science and Supply Chain analytics. A-Z with Python 2020-9\\\\14. Linear Programing  in python\\\\20.1 assignment_ps.xlsx')"
   ]
  },
  {
   "cell_type": "code",
   "execution_count": 34,
   "id": "864289e2",
   "metadata": {},
   "outputs": [
    {
     "data": {
      "text/html": [
       "<div>\n",
       "<style scoped>\n",
       "    .dataframe tbody tr th:only-of-type {\n",
       "        vertical-align: middle;\n",
       "    }\n",
       "\n",
       "    .dataframe tbody tr th {\n",
       "        vertical-align: top;\n",
       "    }\n",
       "\n",
       "    .dataframe thead th {\n",
       "        text-align: right;\n",
       "    }\n",
       "</style>\n",
       "<table border=\"1\" class=\"dataframe\">\n",
       "  <thead>\n",
       "    <tr style=\"text-align: right;\">\n",
       "      <th></th>\n",
       "      <th>Unnamed: 0</th>\n",
       "      <th>demand</th>\n",
       "      <th>fixed cost</th>\n",
       "      <th>var</th>\n",
       "      <th>storage cost</th>\n",
       "      <th>Capacity</th>\n",
       "    </tr>\n",
       "  </thead>\n",
       "  <tbody>\n",
       "    <tr>\n",
       "      <th>0</th>\n",
       "      <td>period 1</td>\n",
       "      <td>100</td>\n",
       "      <td>2000</td>\n",
       "      <td>40</td>\n",
       "      <td>1</td>\n",
       "      <td>5000</td>\n",
       "    </tr>\n",
       "    <tr>\n",
       "      <th>1</th>\n",
       "      <td>period 2</td>\n",
       "      <td>4000</td>\n",
       "      <td>2000</td>\n",
       "      <td>50</td>\n",
       "      <td>1</td>\n",
       "      <td>6000</td>\n",
       "    </tr>\n",
       "    <tr>\n",
       "      <th>2</th>\n",
       "      <td>period 3</td>\n",
       "      <td>2500</td>\n",
       "      <td>2000</td>\n",
       "      <td>80</td>\n",
       "      <td>1</td>\n",
       "      <td>4000</td>\n",
       "    </tr>\n",
       "    <tr>\n",
       "      <th>3</th>\n",
       "      <td>period 4</td>\n",
       "      <td>4000</td>\n",
       "      <td>2000</td>\n",
       "      <td>60</td>\n",
       "      <td>1</td>\n",
       "      <td>12000</td>\n",
       "    </tr>\n",
       "    <tr>\n",
       "      <th>4</th>\n",
       "      <td>period 5</td>\n",
       "      <td>6000</td>\n",
       "      <td>2000</td>\n",
       "      <td>50</td>\n",
       "      <td>1</td>\n",
       "      <td>4000</td>\n",
       "    </tr>\n",
       "    <tr>\n",
       "      <th>5</th>\n",
       "      <td>period 6</td>\n",
       "      <td>100</td>\n",
       "      <td>2000</td>\n",
       "      <td>60</td>\n",
       "      <td>1</td>\n",
       "      <td>4000</td>\n",
       "    </tr>\n",
       "    <tr>\n",
       "      <th>6</th>\n",
       "      <td>period 7</td>\n",
       "      <td>250</td>\n",
       "      <td>3000</td>\n",
       "      <td>20</td>\n",
       "      <td>1</td>\n",
       "      <td>8000</td>\n",
       "    </tr>\n",
       "    <tr>\n",
       "      <th>7</th>\n",
       "      <td>period 8</td>\n",
       "      <td>5000</td>\n",
       "      <td>3000</td>\n",
       "      <td>40</td>\n",
       "      <td>1</td>\n",
       "      <td>4000</td>\n",
       "    </tr>\n",
       "    <tr>\n",
       "      <th>8</th>\n",
       "      <td>period 9</td>\n",
       "      <td>6000</td>\n",
       "      <td>3000</td>\n",
       "      <td>90</td>\n",
       "      <td>1</td>\n",
       "      <td>4000</td>\n",
       "    </tr>\n",
       "    <tr>\n",
       "      <th>9</th>\n",
       "      <td>period 10</td>\n",
       "      <td>4000</td>\n",
       "      <td>3000</td>\n",
       "      <td>30</td>\n",
       "      <td>1</td>\n",
       "      <td>7000</td>\n",
       "    </tr>\n",
       "    <tr>\n",
       "      <th>10</th>\n",
       "      <td>period 11</td>\n",
       "      <td>900</td>\n",
       "      <td>3000</td>\n",
       "      <td>20</td>\n",
       "      <td>1</td>\n",
       "      <td>4000</td>\n",
       "    </tr>\n",
       "    <tr>\n",
       "      <th>11</th>\n",
       "      <td>period 12</td>\n",
       "      <td>8000</td>\n",
       "      <td>3000</td>\n",
       "      <td>120</td>\n",
       "      <td>1</td>\n",
       "      <td>4000</td>\n",
       "    </tr>\n",
       "  </tbody>\n",
       "</table>\n",
       "</div>"
      ],
      "text/plain": [
       "   Unnamed: 0  demand  fixed cost  var  storage cost  Capacity\n",
       "0    period 1     100        2000   40             1      5000\n",
       "1    period 2    4000        2000   50             1      6000\n",
       "2    period 3    2500        2000   80             1      4000\n",
       "3    period 4    4000        2000   60             1     12000\n",
       "4    period 5    6000        2000   50             1      4000\n",
       "5    period 6     100        2000   60             1      4000\n",
       "6    period 7     250        3000   20             1      8000\n",
       "7    period 8    5000        3000   40             1      4000\n",
       "8    period 9    6000        3000   90             1      4000\n",
       "9   period 10    4000        3000   30             1      7000\n",
       "10  period 11     900        3000   20             1      4000\n",
       "11  period 12    8000        3000  120             1      4000"
      ]
     },
     "execution_count": 34,
     "metadata": {},
     "output_type": "execute_result"
    }
   ],
   "source": [
    "param"
   ]
  },
  {
   "cell_type": "code",
   "execution_count": 143,
   "id": "5849227a",
   "metadata": {},
   "outputs": [],
   "source": [
    "list1=[i for i in range(1,13)]"
   ]
  },
  {
   "cell_type": "code",
   "execution_count": 144,
   "id": "2938e17a",
   "metadata": {},
   "outputs": [],
   "source": [
    "param['t']=list1"
   ]
  },
  {
   "cell_type": "code",
   "execution_count": 145,
   "id": "4cfb4578",
   "metadata": {},
   "outputs": [],
   "source": [
    "param=param.set_index('t')"
   ]
  },
  {
   "cell_type": "code",
   "execution_count": 146,
   "id": "8c611705",
   "metadata": {},
   "outputs": [],
   "source": [
    "param=param.rename(columns={'Unnamed: 0':'Period'})"
   ]
  },
  {
   "cell_type": "code",
   "execution_count": null,
   "id": "5033516c",
   "metadata": {},
   "outputs": [],
   "source": []
  },
  {
   "cell_type": "code",
   "execution_count": 147,
   "id": "2830fff4",
   "metadata": {},
   "outputs": [],
   "source": [
    "model=LpProblem('Prod',LpMinimize)"
   ]
  },
  {
   "cell_type": "code",
   "execution_count": 148,
   "id": "0fab6a96",
   "metadata": {},
   "outputs": [],
   "source": [
    "list2=[i for i in range(0,13)]"
   ]
  },
  {
   "cell_type": "code",
   "execution_count": 149,
   "id": "0adb620c",
   "metadata": {},
   "outputs": [],
   "source": [
    "inventory=LpVariable.dicts('inv',list2,0,None,'Integer')\n",
    "inventory[0]=0"
   ]
  },
  {
   "cell_type": "code",
   "execution_count": 150,
   "id": "25524045",
   "metadata": {},
   "outputs": [],
   "source": [
    "binary=LpVariable.dicts('bin',list1,0,None,'Binary')"
   ]
  },
  {
   "cell_type": "code",
   "execution_count": 151,
   "id": "519294f0",
   "metadata": {},
   "outputs": [],
   "source": [
    "production=LpVariable.dicts('prod',list1,0,None,'Integer')"
   ]
  },
  {
   "cell_type": "code",
   "execution_count": 152,
   "id": "f446e414",
   "metadata": {},
   "outputs": [],
   "source": [
    "time=list1"
   ]
  },
  {
   "cell_type": "code",
   "execution_count": 153,
   "id": "60642c16",
   "metadata": {},
   "outputs": [],
   "source": [
    "# objective"
   ]
  },
  {
   "cell_type": "code",
   "execution_count": 154,
   "id": "14f64f96",
   "metadata": {},
   "outputs": [
    {
     "data": {
      "text/plain": [
       "[1, 2, 3, 4, 5, 6, 7, 8, 9, 10, 11, 12]"
      ]
     },
     "execution_count": 154,
     "metadata": {},
     "output_type": "execute_result"
    }
   ],
   "source": [
    "time"
   ]
  },
  {
   "cell_type": "code",
   "execution_count": 155,
   "id": "798d605a",
   "metadata": {},
   "outputs": [],
   "source": [
    "model+= lpSum([inventory[t]*param.loc[t,'storage cost']+production[t]*param.loc[t,'var']+binary[t]*param.loc[t,'fixed cost'] for t in time ])"
   ]
  },
  {
   "cell_type": "code",
   "execution_count": 156,
   "id": "615a20b0",
   "metadata": {},
   "outputs": [],
   "source": [
    "for t in time:\n",
    "    model+= production[t]-inventory[t]+inventory[t-1] >= param.loc[t,'demand']\n",
    "    model+= production[t] <= binary[t]*param.loc[t,'Capacity']"
   ]
  },
  {
   "cell_type": "code",
   "execution_count": 157,
   "id": "c5bbe2c6",
   "metadata": {},
   "outputs": [
    {
     "data": {
      "text/plain": [
       "1"
      ]
     },
     "execution_count": 157,
     "metadata": {},
     "output_type": "execute_result"
    }
   ],
   "source": [
    "model.solve()"
   ]
  },
  {
   "cell_type": "code",
   "execution_count": 158,
   "id": "1272d44d",
   "metadata": {},
   "outputs": [
    {
     "data": {
      "text/plain": [
       "1553950.0"
      ]
     },
     "execution_count": 158,
     "metadata": {},
     "output_type": "execute_result"
    }
   ],
   "source": [
    "value(model.objective)"
   ]
  },
  {
   "cell_type": "code",
   "execution_count": 159,
   "id": "e8b98764",
   "metadata": {},
   "outputs": [
    {
     "name": "stdout",
     "output_type": "stream",
     "text": [
      "bin_1 1.0\n",
      "bin_10 1.0\n",
      "bin_11 1.0\n",
      "bin_12 0.0\n",
      "bin_2 1.0\n",
      "bin_3 0.0\n",
      "bin_4 1.0\n",
      "bin_5 1.0\n",
      "bin_6 1.0\n",
      "bin_7 1.0\n",
      "bin_8 1.0\n",
      "bin_9 0.0\n",
      "inv_1 4900.0\n",
      "inv_10 4900.0\n",
      "inv_11 8000.0\n",
      "inv_12 0.0\n",
      "inv_2 6900.0\n",
      "inv_3 4400.0\n",
      "inv_4 2000.0\n",
      "inv_5 0.0\n",
      "inv_6 1150.0\n",
      "inv_7 8900.0\n",
      "inv_8 7900.0\n",
      "inv_9 1900.0\n",
      "prod_1 5000.0\n",
      "prod_10 7000.0\n",
      "prod_11 4000.0\n",
      "prod_12 0.0\n",
      "prod_2 6000.0\n",
      "prod_3 0.0\n",
      "prod_4 1600.0\n",
      "prod_5 4000.0\n",
      "prod_6 1250.0\n",
      "prod_7 8000.0\n",
      "prod_8 4000.0\n",
      "prod_9 0.0\n"
     ]
    }
   ],
   "source": [
    "for v in model.variables():\n",
    "    print(v,v.varValue)"
   ]
  },
  {
   "cell_type": "code",
   "execution_count": 160,
   "id": "beadfdee",
   "metadata": {},
   "outputs": [
    {
     "name": "stdout",
     "output_type": "stream",
     "text": [
      "prod_1 5000.0\n",
      "prod_2 6000.0\n",
      "prod_3 0.0\n",
      "prod_4 1600.0\n",
      "prod_5 4000.0\n",
      "prod_6 1250.0\n",
      "prod_7 8000.0\n",
      "prod_8 4000.0\n",
      "prod_9 0.0\n",
      "prod_10 7000.0\n",
      "prod_11 4000.0\n",
      "prod_12 0.0\n"
     ]
    }
   ],
   "source": [
    "for i in time:\n",
    "    print(production[i],production[i].varValue)"
   ]
  },
  {
   "cell_type": "code",
   "execution_count": null,
   "id": "45710fac",
   "metadata": {},
   "outputs": [],
   "source": []
  },
  {
   "cell_type": "code",
   "execution_count": 164,
   "id": "38d5d986",
   "metadata": {},
   "outputs": [
    {
     "data": {
      "application/javascript": [
       "\n",
       "        if (window._pyforest_update_imports_cell) { window._pyforest_update_imports_cell('import pandas as pd'); }\n",
       "    "
      ],
      "text/plain": [
       "<IPython.core.display.Javascript object>"
      ]
     },
     "metadata": {},
     "output_type": "display_data"
    }
   ],
   "source": [
    "optimization_data = pd.DataFrame({'demand': param['demand'],\n",
    "                                 'production':[production[i].varValue for i in production],\n",
    "                                 'inventory':[inventory[i].varValue for i in time]\n",
    "                                 })"
   ]
  },
  {
   "cell_type": "code",
   "execution_count": 165,
   "id": "ed933db5",
   "metadata": {},
   "outputs": [
    {
     "data": {
      "text/html": [
       "<div>\n",
       "<style scoped>\n",
       "    .dataframe tbody tr th:only-of-type {\n",
       "        vertical-align: middle;\n",
       "    }\n",
       "\n",
       "    .dataframe tbody tr th {\n",
       "        vertical-align: top;\n",
       "    }\n",
       "\n",
       "    .dataframe thead th {\n",
       "        text-align: right;\n",
       "    }\n",
       "</style>\n",
       "<table border=\"1\" class=\"dataframe\">\n",
       "  <thead>\n",
       "    <tr style=\"text-align: right;\">\n",
       "      <th></th>\n",
       "      <th>demand</th>\n",
       "      <th>production</th>\n",
       "      <th>inventory</th>\n",
       "    </tr>\n",
       "    <tr>\n",
       "      <th>t</th>\n",
       "      <th></th>\n",
       "      <th></th>\n",
       "      <th></th>\n",
       "    </tr>\n",
       "  </thead>\n",
       "  <tbody>\n",
       "    <tr>\n",
       "      <th>1</th>\n",
       "      <td>100</td>\n",
       "      <td>5000.0</td>\n",
       "      <td>4900.0</td>\n",
       "    </tr>\n",
       "    <tr>\n",
       "      <th>2</th>\n",
       "      <td>4000</td>\n",
       "      <td>6000.0</td>\n",
       "      <td>6900.0</td>\n",
       "    </tr>\n",
       "    <tr>\n",
       "      <th>3</th>\n",
       "      <td>2500</td>\n",
       "      <td>0.0</td>\n",
       "      <td>4400.0</td>\n",
       "    </tr>\n",
       "    <tr>\n",
       "      <th>4</th>\n",
       "      <td>4000</td>\n",
       "      <td>1600.0</td>\n",
       "      <td>2000.0</td>\n",
       "    </tr>\n",
       "    <tr>\n",
       "      <th>5</th>\n",
       "      <td>6000</td>\n",
       "      <td>4000.0</td>\n",
       "      <td>0.0</td>\n",
       "    </tr>\n",
       "    <tr>\n",
       "      <th>6</th>\n",
       "      <td>100</td>\n",
       "      <td>1250.0</td>\n",
       "      <td>1150.0</td>\n",
       "    </tr>\n",
       "    <tr>\n",
       "      <th>7</th>\n",
       "      <td>250</td>\n",
       "      <td>8000.0</td>\n",
       "      <td>8900.0</td>\n",
       "    </tr>\n",
       "    <tr>\n",
       "      <th>8</th>\n",
       "      <td>5000</td>\n",
       "      <td>4000.0</td>\n",
       "      <td>7900.0</td>\n",
       "    </tr>\n",
       "    <tr>\n",
       "      <th>9</th>\n",
       "      <td>6000</td>\n",
       "      <td>0.0</td>\n",
       "      <td>1900.0</td>\n",
       "    </tr>\n",
       "    <tr>\n",
       "      <th>10</th>\n",
       "      <td>4000</td>\n",
       "      <td>7000.0</td>\n",
       "      <td>4900.0</td>\n",
       "    </tr>\n",
       "    <tr>\n",
       "      <th>11</th>\n",
       "      <td>900</td>\n",
       "      <td>4000.0</td>\n",
       "      <td>8000.0</td>\n",
       "    </tr>\n",
       "    <tr>\n",
       "      <th>12</th>\n",
       "      <td>8000</td>\n",
       "      <td>0.0</td>\n",
       "      <td>0.0</td>\n",
       "    </tr>\n",
       "  </tbody>\n",
       "</table>\n",
       "</div>"
      ],
      "text/plain": [
       "    demand  production  inventory\n",
       "t                                \n",
       "1      100      5000.0     4900.0\n",
       "2     4000      6000.0     6900.0\n",
       "3     2500         0.0     4400.0\n",
       "4     4000      1600.0     2000.0\n",
       "5     6000      4000.0        0.0\n",
       "6      100      1250.0     1150.0\n",
       "7      250      8000.0     8900.0\n",
       "8     5000      4000.0     7900.0\n",
       "9     6000         0.0     1900.0\n",
       "10    4000      7000.0     4900.0\n",
       "11     900      4000.0     8000.0\n",
       "12    8000         0.0        0.0"
      ]
     },
     "execution_count": 165,
     "metadata": {},
     "output_type": "execute_result"
    }
   ],
   "source": [
    "optimization_data"
   ]
  },
  {
   "cell_type": "code",
   "execution_count": null,
   "id": "d7a36a8b",
   "metadata": {},
   "outputs": [],
   "source": []
  }
 ],
 "metadata": {
  "kernelspec": {
   "display_name": "Python 3 (ipykernel)",
   "language": "python",
   "name": "python3"
  },
  "language_info": {
   "codemirror_mode": {
    "name": "ipython",
    "version": 3
   },
   "file_extension": ".py",
   "mimetype": "text/x-python",
   "name": "python",
   "nbconvert_exporter": "python",
   "pygments_lexer": "ipython3",
   "version": "3.8.8"
  }
 },
 "nbformat": 4,
 "nbformat_minor": 5
}
