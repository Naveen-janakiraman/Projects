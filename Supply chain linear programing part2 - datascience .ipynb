{
 "cells": [
  {
   "cell_type": "code",
   "execution_count": 1,
   "id": "75a1873d",
   "metadata": {},
   "outputs": [],
   "source": [
    "from pulp import *"
   ]
  },
  {
   "cell_type": "code",
   "execution_count": 3,
   "id": "445b6dca",
   "metadata": {},
   "outputs": [],
   "source": [
    "model=LpProblem('Shipping_cost',LpMinimize)"
   ]
  },
  {
   "cell_type": "code",
   "execution_count": 6,
   "id": "c098e2d3",
   "metadata": {},
   "outputs": [],
   "source": [
    "customers=['Ind','can','eur']\n",
    "products=['tea','coffee','boost']\n",
    "factory=['fac1','fac2']"
   ]
  },
  {
   "cell_type": "code",
   "execution_count": 7,
   "id": "d2a57369",
   "metadata": {},
   "outputs": [],
   "source": [
    "keys=[(f,p,c) for f in factory for p in products for c in customers]"
   ]
  },
  {
   "cell_type": "code",
   "execution_count": 9,
   "id": "55e1de6b",
   "metadata": {},
   "outputs": [],
   "source": [
    "var=LpVariable.dicts('shipping_cost',keys,0,None,cat='Integer')\n"
   ]
  },
  {
   "cell_type": "code",
   "execution_count": 10,
   "id": "edb32ae6",
   "metadata": {},
   "outputs": [],
   "source": [
    "cost_value = [50,80,50,60,90,60,70,90,70,80,50,80,90,60,90,90,70,90]"
   ]
  },
  {
   "cell_type": "code",
   "execution_count": 11,
   "id": "8910e8aa",
   "metadata": {},
   "outputs": [],
   "source": [
    "costs=dict(zip(keys,cost_value))"
   ]
  },
  {
   "cell_type": "code",
   "execution_count": 12,
   "id": "9321b06b",
   "metadata": {},
   "outputs": [
    {
     "data": {
      "text/plain": [
       "{('fac1', 'tea', 'Ind'): 50,\n",
       " ('fac1', 'tea', 'can'): 80,\n",
       " ('fac1', 'tea', 'eur'): 50,\n",
       " ('fac1', 'coffee', 'Ind'): 60,\n",
       " ('fac1', 'coffee', 'can'): 90,\n",
       " ('fac1', 'coffee', 'eur'): 60,\n",
       " ('fac1', 'boost', 'Ind'): 70,\n",
       " ('fac1', 'boost', 'can'): 90,\n",
       " ('fac1', 'boost', 'eur'): 70,\n",
       " ('fac2', 'tea', 'Ind'): 80,\n",
       " ('fac2', 'tea', 'can'): 50,\n",
       " ('fac2', 'tea', 'eur'): 80,\n",
       " ('fac2', 'coffee', 'Ind'): 90,\n",
       " ('fac2', 'coffee', 'can'): 60,\n",
       " ('fac2', 'coffee', 'eur'): 90,\n",
       " ('fac2', 'boost', 'Ind'): 90,\n",
       " ('fac2', 'boost', 'can'): 70,\n",
       " ('fac2', 'boost', 'eur'): 90}"
      ]
     },
     "execution_count": 12,
     "metadata": {},
     "output_type": "execute_result"
    }
   ],
   "source": [
    "costs"
   ]
  },
  {
   "cell_type": "code",
   "execution_count": null,
   "id": "e47716cb",
   "metadata": {},
   "outputs": [],
   "source": []
  },
  {
   "cell_type": "code",
   "execution_count": 13,
   "id": "dbb7b615",
   "metadata": {},
   "outputs": [],
   "source": [
    "demand_keys=[(p,c) for p in products for c in customers]"
   ]
  },
  {
   "cell_type": "code",
   "execution_count": 14,
   "id": "16eb82f0",
   "metadata": {},
   "outputs": [],
   "source": [
    "demand_value=[90,120,78,65,450,52,700,40,500]"
   ]
  },
  {
   "cell_type": "code",
   "execution_count": 15,
   "id": "b8b5229d",
   "metadata": {},
   "outputs": [],
   "source": [
    "demand=dict(zip(demand_keys,demand_value))"
   ]
  },
  {
   "cell_type": "code",
   "execution_count": 16,
   "id": "15b81cfc",
   "metadata": {},
   "outputs": [
    {
     "data": {
      "text/plain": [
       "{('tea', 'Ind'): 90,\n",
       " ('tea', 'can'): 120,\n",
       " ('tea', 'eur'): 78,\n",
       " ('coffee', 'Ind'): 65,\n",
       " ('coffee', 'can'): 450,\n",
       " ('coffee', 'eur'): 52,\n",
       " ('boost', 'Ind'): 700,\n",
       " ('boost', 'can'): 40,\n",
       " ('boost', 'eur'): 500}"
      ]
     },
     "execution_count": 16,
     "metadata": {},
     "output_type": "execute_result"
    }
   ],
   "source": [
    "demand"
   ]
  },
  {
   "cell_type": "code",
   "execution_count": null,
   "id": "f3f28140",
   "metadata": {},
   "outputs": [],
   "source": []
  },
  {
   "cell_type": "code",
   "execution_count": 17,
   "id": "3503be57",
   "metadata": {},
   "outputs": [],
   "source": [
    "model+=lpSum(var[(f,p,c)]*costs[(f,p,c)] for f in factory for p in products for c in customers)"
   ]
  },
  {
   "cell_type": "code",
   "execution_count": null,
   "id": "2904ff1d",
   "metadata": {},
   "outputs": [],
   "source": []
  },
  {
   "cell_type": "code",
   "execution_count": 18,
   "id": "63a792da",
   "metadata": {},
   "outputs": [],
   "source": [
    "# constriants "
   ]
  },
  {
   "cell_type": "code",
   "execution_count": 19,
   "id": "d2b7132c",
   "metadata": {},
   "outputs": [],
   "source": [
    "model+=lpSum(var[('fac1',p,c)] for p in products for c in customers) <=1500\n",
    "model+=lpSum(var[('fac2',p,c)] for p in products for c in customers) <=2500"
   ]
  },
  {
   "cell_type": "code",
   "execution_count": null,
   "id": "813787f9",
   "metadata": {},
   "outputs": [],
   "source": []
  },
  {
   "cell_type": "code",
   "execution_count": 22,
   "id": "692c5dc0",
   "metadata": {},
   "outputs": [],
   "source": [
    "for p in products:\n",
    "    for c in customers:\n",
    "        model+= (var[('fac1',p,c)]+var[('fac2',p,c)]) >= demand[(p,c)]"
   ]
  },
  {
   "cell_type": "code",
   "execution_count": 23,
   "id": "1574bc72",
   "metadata": {},
   "outputs": [
    {
     "data": {
      "text/plain": [
       "1"
      ]
     },
     "execution_count": 23,
     "metadata": {},
     "output_type": "execute_result"
    }
   ],
   "source": [
    "model.solve()"
   ]
  },
  {
   "cell_type": "code",
   "execution_count": 24,
   "id": "d0edc5ab",
   "metadata": {},
   "outputs": [
    {
     "data": {
      "text/plain": [
       "135220.0"
      ]
     },
     "execution_count": 24,
     "metadata": {},
     "output_type": "execute_result"
    }
   ],
   "source": [
    "value(model.objective)"
   ]
  },
  {
   "cell_type": "code",
   "execution_count": 28,
   "id": "f2083e85",
   "metadata": {},
   "outputs": [
    {
     "ename": "SyntaxError",
     "evalue": "unexpected EOF while parsing (34873480.py, line 4)",
     "output_type": "error",
     "traceback": [
      "\u001b[1;36m  Input \u001b[1;32mIn [28]\u001b[1;36m\u001b[0m\n\u001b[1;33m    \u001b[0m\n\u001b[1;37m    ^\u001b[0m\n\u001b[1;31mSyntaxError\u001b[0m\u001b[1;31m:\u001b[0m unexpected EOF while parsing\n"
     ]
    }
   ],
   "source": [
    "for i in var:\n",
    "    print('{} shipping cost is {}'.format(i,var[i].var.value)\n",
    "\n",
    "\n"
   ]
  },
  {
   "cell_type": "code",
   "execution_count": null,
   "id": "5cf7791f",
   "metadata": {},
   "outputs": [],
   "source": []
  },
  {
   "cell_type": "code",
   "execution_count": null,
   "id": "c517bccb",
   "metadata": {},
   "outputs": [],
   "source": []
  },
  {
   "cell_type": "code",
   "execution_count": null,
   "id": "2fcfe00d",
   "metadata": {},
   "outputs": [],
   "source": []
  }
 ],
 "metadata": {
  "kernelspec": {
   "display_name": "Python 3 (ipykernel)",
   "language": "python",
   "name": "python3"
  },
  "language_info": {
   "codemirror_mode": {
    "name": "ipython",
    "version": 3
   },
   "file_extension": ".py",
   "mimetype": "text/x-python",
   "name": "python",
   "nbconvert_exporter": "python",
   "pygments_lexer": "ipython3",
   "version": "3.8.8"
  }
 },
 "nbformat": 4,
 "nbformat_minor": 5
}
